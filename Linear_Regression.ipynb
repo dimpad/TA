{
  "nbformat": 4,
  "nbformat_minor": 0,
  "metadata": {
    "colab": {
      "name": "Linear_Regression.ipynb",
      "provenance": [],
      "collapsed_sections": []
    },
    "kernelspec": {
      "name": "python3",
      "display_name": "Python 3"
    },
    "language_info": {
      "name": "python"
    }
  },
  "cells": [
    {
      "cell_type": "markdown",
      "source": [
        "**Linear Regression**"
      ],
      "metadata": {
        "id": "sz-aGqyGYOiW"
      }
    },
    {
      "cell_type": "markdown",
      "source": [
        "*Regresi linier adalah metode pendekatan sebagai kajian terhadap ketergantungan satu variable, yaitu antara variable terikat Y dan satau atau lebih variable bebas yang disebut X - Gujarati (2009)*"
      ],
      "metadata": {
        "id": "meeJXhzaY-RV"
      }
    },
    {
      "cell_type": "markdown",
      "source": [
        "**Simple Regression** hanya mempunyai 1 variable bebas (x), sedangkan **Multiple Regression** mempunyai 2 atau lebih variable bebas(Y)."
      ],
      "metadata": {
        "id": "KsmM2epXZROa"
      }
    },
    {
      "cell_type": "markdown",
      "source": [
        "Persamaan Simple Regression\n",
        "y = mx + b + e\n",
        "\n",
        "\n",
        "*   y = variable terikat\n",
        "*   m = sloe dari garis(sebuah garis)\n",
        "*   x = variable bebas\n",
        "*   b = intercept\n",
        "*   e = error\n",
        "\n",
        "Persamaan Multiple Regression\n",
        "Y = b + e + m1(x1)+ m2(x2) + .... + mn*xn\n",
        "\n",
        "*   Y = variable terikat\n",
        "*   mn = koefisien dari persamaan\n",
        "*   xn = variable bebas\n",
        "*   b = intercept\n",
        "*   e = error\n",
        "\n",
        "\n"
      ],
      "metadata": {
        "id": "IYt45QxDZ0QS"
      }
    },
    {
      "cell_type": "code",
      "execution_count": 1,
      "metadata": {
        "id": "F_58_OqKPg3i"
      },
      "outputs": [],
      "source": [
        "import pandas as pd\n",
        "import matplotlib.pyplot as plt\n",
        "import numpy as np\n",
        "import seaborn as sns\n",
        "from sklearn.linear_model import LinearRegression\n",
        "from sklearn.model_selection import train_test_split\n"
      ]
    },
    {
      "cell_type": "code",
      "source": [
        "dataset_kangkung = pd.read_csv(\"/content/sonicbloom.csv\")\n",
        "dataset_kangkung.tail()"
      ],
      "metadata": {
        "id": "awo7gT81QHHx",
        "colab": {
          "base_uri": "https://localhost:8080/",
          "height": 206
        },
        "outputId": "3a607f94-ee92-400f-fefc-090c910ff707"
      },
      "execution_count": 2,
      "outputs": [
        {
          "output_type": "execute_result",
          "data": {
            "text/plain": [
              "      no  t_dangdut  t_jazz  t_murottal  t_nomusik  waktu hari ke  hari real\n",
              "955  956       25.0    28.0         NaN        NaN  14:52   panen         25\n",
              "956  957       25.0    28.0         NaN        NaN  15:00   panen         25\n",
              "957  958       25.0    28.0         NaN        NaN  15:08   panen         25\n",
              "958  959       25.0    28.0         NaN        NaN  15:16   panen         25\n",
              "959  960       25.0    28.0         NaN        NaN  15:24   panen         25"
            ],
            "text/html": [
              "\n",
              "  <div id=\"df-e5da398d-d77e-4e57-bc4e-354a39de38d6\">\n",
              "    <div class=\"colab-df-container\">\n",
              "      <div>\n",
              "<style scoped>\n",
              "    .dataframe tbody tr th:only-of-type {\n",
              "        vertical-align: middle;\n",
              "    }\n",
              "\n",
              "    .dataframe tbody tr th {\n",
              "        vertical-align: top;\n",
              "    }\n",
              "\n",
              "    .dataframe thead th {\n",
              "        text-align: right;\n",
              "    }\n",
              "</style>\n",
              "<table border=\"1\" class=\"dataframe\">\n",
              "  <thead>\n",
              "    <tr style=\"text-align: right;\">\n",
              "      <th></th>\n",
              "      <th>no</th>\n",
              "      <th>t_dangdut</th>\n",
              "      <th>t_jazz</th>\n",
              "      <th>t_murottal</th>\n",
              "      <th>t_nomusik</th>\n",
              "      <th>waktu</th>\n",
              "      <th>hari ke</th>\n",
              "      <th>hari real</th>\n",
              "    </tr>\n",
              "  </thead>\n",
              "  <tbody>\n",
              "    <tr>\n",
              "      <th>955</th>\n",
              "      <td>956</td>\n",
              "      <td>25.0</td>\n",
              "      <td>28.0</td>\n",
              "      <td>NaN</td>\n",
              "      <td>NaN</td>\n",
              "      <td>14:52</td>\n",
              "      <td>panen</td>\n",
              "      <td>25</td>\n",
              "    </tr>\n",
              "    <tr>\n",
              "      <th>956</th>\n",
              "      <td>957</td>\n",
              "      <td>25.0</td>\n",
              "      <td>28.0</td>\n",
              "      <td>NaN</td>\n",
              "      <td>NaN</td>\n",
              "      <td>15:00</td>\n",
              "      <td>panen</td>\n",
              "      <td>25</td>\n",
              "    </tr>\n",
              "    <tr>\n",
              "      <th>957</th>\n",
              "      <td>958</td>\n",
              "      <td>25.0</td>\n",
              "      <td>28.0</td>\n",
              "      <td>NaN</td>\n",
              "      <td>NaN</td>\n",
              "      <td>15:08</td>\n",
              "      <td>panen</td>\n",
              "      <td>25</td>\n",
              "    </tr>\n",
              "    <tr>\n",
              "      <th>958</th>\n",
              "      <td>959</td>\n",
              "      <td>25.0</td>\n",
              "      <td>28.0</td>\n",
              "      <td>NaN</td>\n",
              "      <td>NaN</td>\n",
              "      <td>15:16</td>\n",
              "      <td>panen</td>\n",
              "      <td>25</td>\n",
              "    </tr>\n",
              "    <tr>\n",
              "      <th>959</th>\n",
              "      <td>960</td>\n",
              "      <td>25.0</td>\n",
              "      <td>28.0</td>\n",
              "      <td>NaN</td>\n",
              "      <td>NaN</td>\n",
              "      <td>15:24</td>\n",
              "      <td>panen</td>\n",
              "      <td>25</td>\n",
              "    </tr>\n",
              "  </tbody>\n",
              "</table>\n",
              "</div>\n",
              "      <button class=\"colab-df-convert\" onclick=\"convertToInteractive('df-e5da398d-d77e-4e57-bc4e-354a39de38d6')\"\n",
              "              title=\"Convert this dataframe to an interactive table.\"\n",
              "              style=\"display:none;\">\n",
              "        \n",
              "  <svg xmlns=\"http://www.w3.org/2000/svg\" height=\"24px\"viewBox=\"0 0 24 24\"\n",
              "       width=\"24px\">\n",
              "    <path d=\"M0 0h24v24H0V0z\" fill=\"none\"/>\n",
              "    <path d=\"M18.56 5.44l.94 2.06.94-2.06 2.06-.94-2.06-.94-.94-2.06-.94 2.06-2.06.94zm-11 1L8.5 8.5l.94-2.06 2.06-.94-2.06-.94L8.5 2.5l-.94 2.06-2.06.94zm10 10l.94 2.06.94-2.06 2.06-.94-2.06-.94-.94-2.06-.94 2.06-2.06.94z\"/><path d=\"M17.41 7.96l-1.37-1.37c-.4-.4-.92-.59-1.43-.59-.52 0-1.04.2-1.43.59L10.3 9.45l-7.72 7.72c-.78.78-.78 2.05 0 2.83L4 21.41c.39.39.9.59 1.41.59.51 0 1.02-.2 1.41-.59l7.78-7.78 2.81-2.81c.8-.78.8-2.07 0-2.86zM5.41 20L4 18.59l7.72-7.72 1.47 1.35L5.41 20z\"/>\n",
              "  </svg>\n",
              "      </button>\n",
              "      \n",
              "  <style>\n",
              "    .colab-df-container {\n",
              "      display:flex;\n",
              "      flex-wrap:wrap;\n",
              "      gap: 12px;\n",
              "    }\n",
              "\n",
              "    .colab-df-convert {\n",
              "      background-color: #E8F0FE;\n",
              "      border: none;\n",
              "      border-radius: 50%;\n",
              "      cursor: pointer;\n",
              "      display: none;\n",
              "      fill: #1967D2;\n",
              "      height: 32px;\n",
              "      padding: 0 0 0 0;\n",
              "      width: 32px;\n",
              "    }\n",
              "\n",
              "    .colab-df-convert:hover {\n",
              "      background-color: #E2EBFA;\n",
              "      box-shadow: 0px 1px 2px rgba(60, 64, 67, 0.3), 0px 1px 3px 1px rgba(60, 64, 67, 0.15);\n",
              "      fill: #174EA6;\n",
              "    }\n",
              "\n",
              "    [theme=dark] .colab-df-convert {\n",
              "      background-color: #3B4455;\n",
              "      fill: #D2E3FC;\n",
              "    }\n",
              "\n",
              "    [theme=dark] .colab-df-convert:hover {\n",
              "      background-color: #434B5C;\n",
              "      box-shadow: 0px 1px 3px 1px rgba(0, 0, 0, 0.15);\n",
              "      filter: drop-shadow(0px 1px 2px rgba(0, 0, 0, 0.3));\n",
              "      fill: #FFFFFF;\n",
              "    }\n",
              "  </style>\n",
              "\n",
              "      <script>\n",
              "        const buttonEl =\n",
              "          document.querySelector('#df-e5da398d-d77e-4e57-bc4e-354a39de38d6 button.colab-df-convert');\n",
              "        buttonEl.style.display =\n",
              "          google.colab.kernel.accessAllowed ? 'block' : 'none';\n",
              "\n",
              "        async function convertToInteractive(key) {\n",
              "          const element = document.querySelector('#df-e5da398d-d77e-4e57-bc4e-354a39de38d6');\n",
              "          const dataTable =\n",
              "            await google.colab.kernel.invokeFunction('convertToInteractive',\n",
              "                                                     [key], {});\n",
              "          if (!dataTable) return;\n",
              "\n",
              "          const docLinkHtml = 'Like what you see? Visit the ' +\n",
              "            '<a target=\"_blank\" href=https://colab.research.google.com/notebooks/data_table.ipynb>data table notebook</a>'\n",
              "            + ' to learn more about interactive tables.';\n",
              "          element.innerHTML = '';\n",
              "          dataTable['output_type'] = 'display_data';\n",
              "          await google.colab.output.renderOutput(dataTable, element);\n",
              "          const docLink = document.createElement('div');\n",
              "          docLink.innerHTML = docLinkHtml;\n",
              "          element.appendChild(docLink);\n",
              "        }\n",
              "      </script>\n",
              "    </div>\n",
              "  </div>\n",
              "  "
            ]
          },
          "metadata": {},
          "execution_count": 2
        }
      ]
    },
    {
      "cell_type": "code",
      "source": [
        "dataset_kangkung.shape"
      ],
      "metadata": {
        "id": "4Ht54C0pQhTy",
        "colab": {
          "base_uri": "https://localhost:8080/"
        },
        "outputId": "3f007c86-be95-4486-af39-607ca9d69b08"
      },
      "execution_count": 3,
      "outputs": [
        {
          "output_type": "execute_result",
          "data": {
            "text/plain": [
              "(960, 8)"
            ]
          },
          "metadata": {},
          "execution_count": 3
        }
      ]
    },
    {
      "cell_type": "code",
      "source": [
        "dataset_kangkung.info()"
      ],
      "metadata": {
        "id": "iTasZx0bQt1q",
        "colab": {
          "base_uri": "https://localhost:8080/"
        },
        "outputId": "a83c6510-5147-465a-d315-245444b4b83d"
      },
      "execution_count": 4,
      "outputs": [
        {
          "output_type": "stream",
          "name": "stdout",
          "text": [
            "<class 'pandas.core.frame.DataFrame'>\n",
            "RangeIndex: 960 entries, 0 to 959\n",
            "Data columns (total 8 columns):\n",
            " #   Column      Non-Null Count  Dtype  \n",
            "---  ------      --------------  -----  \n",
            " 0   no          960 non-null    int64  \n",
            " 1   t_dangdut   960 non-null    float64\n",
            " 2   t_jazz      960 non-null    float64\n",
            " 3   t_murottal  0 non-null      float64\n",
            " 4   t_nomusik   0 non-null      float64\n",
            " 5   waktu       960 non-null    object \n",
            " 6   hari ke     960 non-null    object \n",
            " 7   hari real   960 non-null    int64  \n",
            "dtypes: float64(4), int64(2), object(2)\n",
            "memory usage: 60.1+ KB\n"
          ]
        }
      ]
    },
    {
      "cell_type": "code",
      "source": [
        "dataset_kangkung.describe()"
      ],
      "metadata": {
        "id": "ee6lPWlIQwgj",
        "colab": {
          "base_uri": "https://localhost:8080/",
          "height": 300
        },
        "outputId": "dcf90aa8-54f5-45cc-a390-dc5b17ab04cd"
      },
      "execution_count": 5,
      "outputs": [
        {
          "output_type": "execute_result",
          "data": {
            "text/plain": [
              "               no   t_dangdut      t_jazz  t_murottal  t_nomusik   hari real\n",
              "count  960.000000  960.000000  960.000000         0.0        0.0  960.000000\n",
              "mean   480.500000   13.878646   13.762500         NaN        NaN   18.000000\n",
              "std    277.272429    6.282796    7.531328         NaN        NaN    4.322746\n",
              "min      1.000000    6.000000    5.000000         NaN        NaN   11.000000\n",
              "25%    240.750000    8.000000    6.500000         NaN        NaN   14.000000\n",
              "50%    480.500000   12.000000   12.000000         NaN        NaN   18.000000\n",
              "75%    720.250000   20.500000   20.500000         NaN        NaN   22.000000\n",
              "max    960.000000   25.000000   28.000000         NaN        NaN   25.000000"
            ],
            "text/html": [
              "\n",
              "  <div id=\"df-4d0bbda1-5c7e-45e9-b8be-23aa48a8db84\">\n",
              "    <div class=\"colab-df-container\">\n",
              "      <div>\n",
              "<style scoped>\n",
              "    .dataframe tbody tr th:only-of-type {\n",
              "        vertical-align: middle;\n",
              "    }\n",
              "\n",
              "    .dataframe tbody tr th {\n",
              "        vertical-align: top;\n",
              "    }\n",
              "\n",
              "    .dataframe thead th {\n",
              "        text-align: right;\n",
              "    }\n",
              "</style>\n",
              "<table border=\"1\" class=\"dataframe\">\n",
              "  <thead>\n",
              "    <tr style=\"text-align: right;\">\n",
              "      <th></th>\n",
              "      <th>no</th>\n",
              "      <th>t_dangdut</th>\n",
              "      <th>t_jazz</th>\n",
              "      <th>t_murottal</th>\n",
              "      <th>t_nomusik</th>\n",
              "      <th>hari real</th>\n",
              "    </tr>\n",
              "  </thead>\n",
              "  <tbody>\n",
              "    <tr>\n",
              "      <th>count</th>\n",
              "      <td>960.000000</td>\n",
              "      <td>960.000000</td>\n",
              "      <td>960.000000</td>\n",
              "      <td>0.0</td>\n",
              "      <td>0.0</td>\n",
              "      <td>960.000000</td>\n",
              "    </tr>\n",
              "    <tr>\n",
              "      <th>mean</th>\n",
              "      <td>480.500000</td>\n",
              "      <td>13.878646</td>\n",
              "      <td>13.762500</td>\n",
              "      <td>NaN</td>\n",
              "      <td>NaN</td>\n",
              "      <td>18.000000</td>\n",
              "    </tr>\n",
              "    <tr>\n",
              "      <th>std</th>\n",
              "      <td>277.272429</td>\n",
              "      <td>6.282796</td>\n",
              "      <td>7.531328</td>\n",
              "      <td>NaN</td>\n",
              "      <td>NaN</td>\n",
              "      <td>4.322746</td>\n",
              "    </tr>\n",
              "    <tr>\n",
              "      <th>min</th>\n",
              "      <td>1.000000</td>\n",
              "      <td>6.000000</td>\n",
              "      <td>5.000000</td>\n",
              "      <td>NaN</td>\n",
              "      <td>NaN</td>\n",
              "      <td>11.000000</td>\n",
              "    </tr>\n",
              "    <tr>\n",
              "      <th>25%</th>\n",
              "      <td>240.750000</td>\n",
              "      <td>8.000000</td>\n",
              "      <td>6.500000</td>\n",
              "      <td>NaN</td>\n",
              "      <td>NaN</td>\n",
              "      <td>14.000000</td>\n",
              "    </tr>\n",
              "    <tr>\n",
              "      <th>50%</th>\n",
              "      <td>480.500000</td>\n",
              "      <td>12.000000</td>\n",
              "      <td>12.000000</td>\n",
              "      <td>NaN</td>\n",
              "      <td>NaN</td>\n",
              "      <td>18.000000</td>\n",
              "    </tr>\n",
              "    <tr>\n",
              "      <th>75%</th>\n",
              "      <td>720.250000</td>\n",
              "      <td>20.500000</td>\n",
              "      <td>20.500000</td>\n",
              "      <td>NaN</td>\n",
              "      <td>NaN</td>\n",
              "      <td>22.000000</td>\n",
              "    </tr>\n",
              "    <tr>\n",
              "      <th>max</th>\n",
              "      <td>960.000000</td>\n",
              "      <td>25.000000</td>\n",
              "      <td>28.000000</td>\n",
              "      <td>NaN</td>\n",
              "      <td>NaN</td>\n",
              "      <td>25.000000</td>\n",
              "    </tr>\n",
              "  </tbody>\n",
              "</table>\n",
              "</div>\n",
              "      <button class=\"colab-df-convert\" onclick=\"convertToInteractive('df-4d0bbda1-5c7e-45e9-b8be-23aa48a8db84')\"\n",
              "              title=\"Convert this dataframe to an interactive table.\"\n",
              "              style=\"display:none;\">\n",
              "        \n",
              "  <svg xmlns=\"http://www.w3.org/2000/svg\" height=\"24px\"viewBox=\"0 0 24 24\"\n",
              "       width=\"24px\">\n",
              "    <path d=\"M0 0h24v24H0V0z\" fill=\"none\"/>\n",
              "    <path d=\"M18.56 5.44l.94 2.06.94-2.06 2.06-.94-2.06-.94-.94-2.06-.94 2.06-2.06.94zm-11 1L8.5 8.5l.94-2.06 2.06-.94-2.06-.94L8.5 2.5l-.94 2.06-2.06.94zm10 10l.94 2.06.94-2.06 2.06-.94-2.06-.94-.94-2.06-.94 2.06-2.06.94z\"/><path d=\"M17.41 7.96l-1.37-1.37c-.4-.4-.92-.59-1.43-.59-.52 0-1.04.2-1.43.59L10.3 9.45l-7.72 7.72c-.78.78-.78 2.05 0 2.83L4 21.41c.39.39.9.59 1.41.59.51 0 1.02-.2 1.41-.59l7.78-7.78 2.81-2.81c.8-.78.8-2.07 0-2.86zM5.41 20L4 18.59l7.72-7.72 1.47 1.35L5.41 20z\"/>\n",
              "  </svg>\n",
              "      </button>\n",
              "      \n",
              "  <style>\n",
              "    .colab-df-container {\n",
              "      display:flex;\n",
              "      flex-wrap:wrap;\n",
              "      gap: 12px;\n",
              "    }\n",
              "\n",
              "    .colab-df-convert {\n",
              "      background-color: #E8F0FE;\n",
              "      border: none;\n",
              "      border-radius: 50%;\n",
              "      cursor: pointer;\n",
              "      display: none;\n",
              "      fill: #1967D2;\n",
              "      height: 32px;\n",
              "      padding: 0 0 0 0;\n",
              "      width: 32px;\n",
              "    }\n",
              "\n",
              "    .colab-df-convert:hover {\n",
              "      background-color: #E2EBFA;\n",
              "      box-shadow: 0px 1px 2px rgba(60, 64, 67, 0.3), 0px 1px 3px 1px rgba(60, 64, 67, 0.15);\n",
              "      fill: #174EA6;\n",
              "    }\n",
              "\n",
              "    [theme=dark] .colab-df-convert {\n",
              "      background-color: #3B4455;\n",
              "      fill: #D2E3FC;\n",
              "    }\n",
              "\n",
              "    [theme=dark] .colab-df-convert:hover {\n",
              "      background-color: #434B5C;\n",
              "      box-shadow: 0px 1px 3px 1px rgba(0, 0, 0, 0.15);\n",
              "      filter: drop-shadow(0px 1px 2px rgba(0, 0, 0, 0.3));\n",
              "      fill: #FFFFFF;\n",
              "    }\n",
              "  </style>\n",
              "\n",
              "      <script>\n",
              "        const buttonEl =\n",
              "          document.querySelector('#df-4d0bbda1-5c7e-45e9-b8be-23aa48a8db84 button.colab-df-convert');\n",
              "        buttonEl.style.display =\n",
              "          google.colab.kernel.accessAllowed ? 'block' : 'none';\n",
              "\n",
              "        async function convertToInteractive(key) {\n",
              "          const element = document.querySelector('#df-4d0bbda1-5c7e-45e9-b8be-23aa48a8db84');\n",
              "          const dataTable =\n",
              "            await google.colab.kernel.invokeFunction('convertToInteractive',\n",
              "                                                     [key], {});\n",
              "          if (!dataTable) return;\n",
              "\n",
              "          const docLinkHtml = 'Like what you see? Visit the ' +\n",
              "            '<a target=\"_blank\" href=https://colab.research.google.com/notebooks/data_table.ipynb>data table notebook</a>'\n",
              "            + ' to learn more about interactive tables.';\n",
              "          element.innerHTML = '';\n",
              "          dataTable['output_type'] = 'display_data';\n",
              "          await google.colab.output.renderOutput(dataTable, element);\n",
              "          const docLink = document.createElement('div');\n",
              "          docLink.innerHTML = docLinkHtml;\n",
              "          element.appendChild(docLink);\n",
              "        }\n",
              "      </script>\n",
              "    </div>\n",
              "  </div>\n",
              "  "
            ]
          },
          "metadata": {},
          "execution_count": 5
        }
      ]
    },
    {
      "cell_type": "code",
      "source": [
        "dataset_kangkung.isnull().sum()"
      ],
      "metadata": {
        "id": "EsgqpOfvQzzI",
        "colab": {
          "base_uri": "https://localhost:8080/"
        },
        "outputId": "cf3a15d2-c36f-49f6-bd07-3c6cc8761733"
      },
      "execution_count": 6,
      "outputs": [
        {
          "output_type": "execute_result",
          "data": {
            "text/plain": [
              "no              0\n",
              "t_dangdut       0\n",
              "t_jazz          0\n",
              "t_murottal    960\n",
              "t_nomusik     960\n",
              "waktu           0\n",
              "hari ke         0\n",
              "hari real       0\n",
              "dtype: int64"
            ]
          },
          "metadata": {},
          "execution_count": 6
        }
      ]
    },
    {
      "cell_type": "markdown",
      "source": [
        "**Exploratory Data Analysis (EDA)**"
      ],
      "metadata": {
        "id": "cJRUyOUuREJn"
      }
    },
    {
      "cell_type": "code",
      "source": [
        "dataset_kangkung.head()"
      ],
      "metadata": {
        "id": "2Umrbb8XRAMH",
        "colab": {
          "base_uri": "https://localhost:8080/",
          "height": 206
        },
        "outputId": "822cb7eb-6eae-4e93-d2b2-a2e270136463"
      },
      "execution_count": 7,
      "outputs": [
        {
          "output_type": "execute_result",
          "data": {
            "text/plain": [
              "   no  t_dangdut  t_jazz  t_murottal  t_nomusik waktu hari ke  hari real\n",
              "0   1        6.0     5.0         NaN        NaN  7:00    ke-1         11\n",
              "1   2        6.0     5.0         NaN        NaN  7:08    ke-1         11\n",
              "2   3        6.0     5.0         NaN        NaN  7:16    ke-1         11\n",
              "3   4        6.0     5.0         NaN        NaN  7:24    ke-1         11\n",
              "4   5        6.0     5.0         NaN        NaN  7:32    ke-1         11"
            ],
            "text/html": [
              "\n",
              "  <div id=\"df-ce9036d3-1619-4cde-8380-6cba3c244148\">\n",
              "    <div class=\"colab-df-container\">\n",
              "      <div>\n",
              "<style scoped>\n",
              "    .dataframe tbody tr th:only-of-type {\n",
              "        vertical-align: middle;\n",
              "    }\n",
              "\n",
              "    .dataframe tbody tr th {\n",
              "        vertical-align: top;\n",
              "    }\n",
              "\n",
              "    .dataframe thead th {\n",
              "        text-align: right;\n",
              "    }\n",
              "</style>\n",
              "<table border=\"1\" class=\"dataframe\">\n",
              "  <thead>\n",
              "    <tr style=\"text-align: right;\">\n",
              "      <th></th>\n",
              "      <th>no</th>\n",
              "      <th>t_dangdut</th>\n",
              "      <th>t_jazz</th>\n",
              "      <th>t_murottal</th>\n",
              "      <th>t_nomusik</th>\n",
              "      <th>waktu</th>\n",
              "      <th>hari ke</th>\n",
              "      <th>hari real</th>\n",
              "    </tr>\n",
              "  </thead>\n",
              "  <tbody>\n",
              "    <tr>\n",
              "      <th>0</th>\n",
              "      <td>1</td>\n",
              "      <td>6.0</td>\n",
              "      <td>5.0</td>\n",
              "      <td>NaN</td>\n",
              "      <td>NaN</td>\n",
              "      <td>7:00</td>\n",
              "      <td>ke-1</td>\n",
              "      <td>11</td>\n",
              "    </tr>\n",
              "    <tr>\n",
              "      <th>1</th>\n",
              "      <td>2</td>\n",
              "      <td>6.0</td>\n",
              "      <td>5.0</td>\n",
              "      <td>NaN</td>\n",
              "      <td>NaN</td>\n",
              "      <td>7:08</td>\n",
              "      <td>ke-1</td>\n",
              "      <td>11</td>\n",
              "    </tr>\n",
              "    <tr>\n",
              "      <th>2</th>\n",
              "      <td>3</td>\n",
              "      <td>6.0</td>\n",
              "      <td>5.0</td>\n",
              "      <td>NaN</td>\n",
              "      <td>NaN</td>\n",
              "      <td>7:16</td>\n",
              "      <td>ke-1</td>\n",
              "      <td>11</td>\n",
              "    </tr>\n",
              "    <tr>\n",
              "      <th>3</th>\n",
              "      <td>4</td>\n",
              "      <td>6.0</td>\n",
              "      <td>5.0</td>\n",
              "      <td>NaN</td>\n",
              "      <td>NaN</td>\n",
              "      <td>7:24</td>\n",
              "      <td>ke-1</td>\n",
              "      <td>11</td>\n",
              "    </tr>\n",
              "    <tr>\n",
              "      <th>4</th>\n",
              "      <td>5</td>\n",
              "      <td>6.0</td>\n",
              "      <td>5.0</td>\n",
              "      <td>NaN</td>\n",
              "      <td>NaN</td>\n",
              "      <td>7:32</td>\n",
              "      <td>ke-1</td>\n",
              "      <td>11</td>\n",
              "    </tr>\n",
              "  </tbody>\n",
              "</table>\n",
              "</div>\n",
              "      <button class=\"colab-df-convert\" onclick=\"convertToInteractive('df-ce9036d3-1619-4cde-8380-6cba3c244148')\"\n",
              "              title=\"Convert this dataframe to an interactive table.\"\n",
              "              style=\"display:none;\">\n",
              "        \n",
              "  <svg xmlns=\"http://www.w3.org/2000/svg\" height=\"24px\"viewBox=\"0 0 24 24\"\n",
              "       width=\"24px\">\n",
              "    <path d=\"M0 0h24v24H0V0z\" fill=\"none\"/>\n",
              "    <path d=\"M18.56 5.44l.94 2.06.94-2.06 2.06-.94-2.06-.94-.94-2.06-.94 2.06-2.06.94zm-11 1L8.5 8.5l.94-2.06 2.06-.94-2.06-.94L8.5 2.5l-.94 2.06-2.06.94zm10 10l.94 2.06.94-2.06 2.06-.94-2.06-.94-.94-2.06-.94 2.06-2.06.94z\"/><path d=\"M17.41 7.96l-1.37-1.37c-.4-.4-.92-.59-1.43-.59-.52 0-1.04.2-1.43.59L10.3 9.45l-7.72 7.72c-.78.78-.78 2.05 0 2.83L4 21.41c.39.39.9.59 1.41.59.51 0 1.02-.2 1.41-.59l7.78-7.78 2.81-2.81c.8-.78.8-2.07 0-2.86zM5.41 20L4 18.59l7.72-7.72 1.47 1.35L5.41 20z\"/>\n",
              "  </svg>\n",
              "      </button>\n",
              "      \n",
              "  <style>\n",
              "    .colab-df-container {\n",
              "      display:flex;\n",
              "      flex-wrap:wrap;\n",
              "      gap: 12px;\n",
              "    }\n",
              "\n",
              "    .colab-df-convert {\n",
              "      background-color: #E8F0FE;\n",
              "      border: none;\n",
              "      border-radius: 50%;\n",
              "      cursor: pointer;\n",
              "      display: none;\n",
              "      fill: #1967D2;\n",
              "      height: 32px;\n",
              "      padding: 0 0 0 0;\n",
              "      width: 32px;\n",
              "    }\n",
              "\n",
              "    .colab-df-convert:hover {\n",
              "      background-color: #E2EBFA;\n",
              "      box-shadow: 0px 1px 2px rgba(60, 64, 67, 0.3), 0px 1px 3px 1px rgba(60, 64, 67, 0.15);\n",
              "      fill: #174EA6;\n",
              "    }\n",
              "\n",
              "    [theme=dark] .colab-df-convert {\n",
              "      background-color: #3B4455;\n",
              "      fill: #D2E3FC;\n",
              "    }\n",
              "\n",
              "    [theme=dark] .colab-df-convert:hover {\n",
              "      background-color: #434B5C;\n",
              "      box-shadow: 0px 1px 3px 1px rgba(0, 0, 0, 0.15);\n",
              "      filter: drop-shadow(0px 1px 2px rgba(0, 0, 0, 0.3));\n",
              "      fill: #FFFFFF;\n",
              "    }\n",
              "  </style>\n",
              "\n",
              "      <script>\n",
              "        const buttonEl =\n",
              "          document.querySelector('#df-ce9036d3-1619-4cde-8380-6cba3c244148 button.colab-df-convert');\n",
              "        buttonEl.style.display =\n",
              "          google.colab.kernel.accessAllowed ? 'block' : 'none';\n",
              "\n",
              "        async function convertToInteractive(key) {\n",
              "          const element = document.querySelector('#df-ce9036d3-1619-4cde-8380-6cba3c244148');\n",
              "          const dataTable =\n",
              "            await google.colab.kernel.invokeFunction('convertToInteractive',\n",
              "                                                     [key], {});\n",
              "          if (!dataTable) return;\n",
              "\n",
              "          const docLinkHtml = 'Like what you see? Visit the ' +\n",
              "            '<a target=\"_blank\" href=https://colab.research.google.com/notebooks/data_table.ipynb>data table notebook</a>'\n",
              "            + ' to learn more about interactive tables.';\n",
              "          element.innerHTML = '';\n",
              "          dataTable['output_type'] = 'display_data';\n",
              "          await google.colab.output.renderOutput(dataTable, element);\n",
              "          const docLink = document.createElement('div');\n",
              "          docLink.innerHTML = docLinkHtml;\n",
              "          element.appendChild(docLink);\n",
              "        }\n",
              "      </script>\n",
              "    </div>\n",
              "  </div>\n",
              "  "
            ]
          },
          "metadata": {},
          "execution_count": 7
        }
      ]
    },
    {
      "cell_type": "code",
      "source": [
        "#Melihat distribusi dari tinggi jazz\n",
        "f = plt.figure(figsize=(18,4))\n",
        "\n",
        "f.add_subplot(1,2,1)\n",
        "sns.countplot(dataset_kangkung['t_dangdut'])\n",
        "\n",
        "f.add_subplot(1,2,2)\n",
        "plt.boxplot(dataset_kangkung['t_dangdut'])\n",
        "plt.show()"
      ],
      "metadata": {
        "id": "99NcbcXmRTU0",
        "colab": {
          "base_uri": "https://localhost:8080/",
          "height": 335
        },
        "outputId": "2abbecf7-b547-4645-e926-4b71b796c32e"
      },
      "execution_count": 12,
      "outputs": [
        {
          "output_type": "stream",
          "name": "stderr",
          "text": [
            "/usr/local/lib/python3.7/dist-packages/seaborn/_decorators.py:43: FutureWarning: Pass the following variable as a keyword arg: x. From version 0.12, the only valid positional argument will be `data`, and passing other arguments without an explicit keyword will result in an error or misinterpretation.\n",
            "  FutureWarning\n"
          ]
        },
        {
          "output_type": "display_data",
          "data": {
            "text/plain": [
              "<Figure size 1296x288 with 2 Axes>"
            ],
            "image/png": "[encoded data removed]"
          },
          "metadata": {
            "needs_background": "light"
          }
        }
      ]
    },
    {
      "cell_type": "code",
      "source": [
        "#Melihat distribusi dari tinggi dangdut\n",
        "f = plt.figure(figsize=(18,4))\n",
        "\n",
        "f.add_subplot(1,2,1)\n",
        "dataset_kangkung['t_jazz'].plot(kind='kde')\n",
        "\n",
        "f.add_subplot(1,2,2)\n",
        "plt.boxplot(dataset_kangkung['t_jazz'])\n",
        "plt.show()"
      ],
      "metadata": {
        "id": "nqWLrBVISCY0",
        "colab": {
          "base_uri": "https://localhost:8080/",
          "height": 265
        },
        "outputId": "e7209e27-1726-4611-aaf0-5ab73059808d"
      },
      "execution_count": 15,
      "outputs": [
        {
          "output_type": "display_data",
          "data": {
            "text/plain": [
              "<Figure size 1296x288 with 2 Axes>"
            ],
            "image/png": "[encoded data removed]"
          },
          "metadata": {
            "needs_background": "light"
          }
        }
      ]
    },
    {
      "cell_type": "code",
      "source": [
        "#melihat hubungan antara variable kontrol dan bebas menggunakan pairplot\n",
        "plt.figure(figsize=(10,8))\n",
        "sns.pairplot(data=dataset_kangkung, x_vars=['t_dangdut','t_jazz'], y_vars=['hari ke'], size=5, aspect=0.75)\n",
        "plt.show"
      ],
      "metadata": {
        "id": "Oc-JvbwlS023",
        "colab": {
          "base_uri": "https://localhost:8080/",
          "height": 463
        },
        "outputId": "b7db141c-19db-4988-dedc-10959f566a46"
      },
      "execution_count": 18,
      "outputs": [
        {
          "output_type": "stream",
          "name": "stderr",
          "text": [
            "/usr/local/lib/python3.7/dist-packages/seaborn/axisgrid.py:2076: UserWarning: The `size` parameter has been renamed to `height`; please update your code.\n",
            "  warnings.warn(msg, UserWarning)\n"
          ]
        },
        {
          "output_type": "execute_result",
          "data": {
            "text/plain": [
              "<function matplotlib.pyplot.show>"
            ]
          },
          "metadata": {},
          "execution_count": 18
        },
        {
          "output_type": "display_data",
          "data": {
            "text/plain": [
              "<Figure size 720x576 with 0 Axes>"
            ]
          },
          "metadata": {}
        },
        {
          "output_type": "display_data",
          "data": {
            "text/plain": [
              "<Figure size 540x360 with 2 Axes>"
            ],
            "image/png": "[encoded data removed]"
          },
          "metadata": {
            "needs_background": "light"
          }
        }
      ]
    },
    {
      "cell_type": "code",
      "source": [
        "#melihat korelasi dari variable kontrol dan bebas\n",
        "dataset_kangkung.corr().style.background_gradient().set_precision(2)"
      ],
      "metadata": {
        "id": "ZGzfNalRTn0e",
        "colab": {
          "base_uri": "https://localhost:8080/",
          "height": 362
        },
        "outputId": "83e95b97-a8d0-402e-d5ef-9215a5a72f25"
      },
      "execution_count": 46,
      "outputs": [
        {
          "output_type": "stream",
          "name": "stderr",
          "text": [
            "/usr/local/lib/python3.7/dist-packages/ipykernel_launcher.py:2: FutureWarning: this method is deprecated in favour of `Styler.format(precision=..)`\n",
            "  \n",
            "/usr/local/lib/python3.7/dist-packages/pandas/io/formats/style.py:2813: RuntimeWarning: All-NaN slice encountered\n",
            "  smin = np.nanmin(gmap) if vmin is None else vmin\n",
            "/usr/local/lib/python3.7/dist-packages/pandas/io/formats/style.py:2814: RuntimeWarning: All-NaN slice encountered\n",
            "  smax = np.nanmax(gmap) if vmax is None else vmax\n"
          ]
        },
        {
          "output_type": "execute_result",
          "data": {
            "text/plain": [
              "<pandas.io.formats.style.Styler at 0x7feb246362d0>"
            ],
            "text/html": [
              "<style type=\"text/css\">\n",
              "#T_f6b94_row0_col0, #T_f6b94_row1_col1, #T_f6b94_row2_col2, #T_f6b94_row5_col5 {\n",
              "  background-color: #023858;\n",
              "  color: #f1f1f1;\n",
              "}\n",
              "#T_f6b94_row0_col1, #T_f6b94_row0_col2, #T_f6b94_row2_col0, #T_f6b94_row2_col5, #T_f6b94_row5_col1, #T_f6b94_row5_col2 {\n",
              "  background-color: #fff7fb;\n",
              "  color: #000000;\n",
              "}\n",
              "#T_f6b94_row0_col3, #T_f6b94_row0_col4, #T_f6b94_row1_col3, #T_f6b94_row1_col4, #T_f6b94_row2_col3, #T_f6b94_row2_col4, #T_f6b94_row3_col0, #T_f6b94_row3_col1, #T_f6b94_row3_col2, #T_f6b94_row3_col3, #T_f6b94_row3_col4, #T_f6b94_row3_col5, #T_f6b94_row4_col0, #T_f6b94_row4_col1, #T_f6b94_row4_col2, #T_f6b94_row4_col3, #T_f6b94_row4_col4, #T_f6b94_row4_col5, #T_f6b94_row5_col3, #T_f6b94_row5_col4 {\n",
              "  background-color: #000000;\n",
              "  color: #f1f1f1;\n",
              "}\n",
              "#T_f6b94_row0_col5, #T_f6b94_row5_col0 {\n",
              "  background-color: #03517e;\n",
              "  color: #f1f1f1;\n",
              "}\n",
              "#T_f6b94_row1_col0, #T_f6b94_row1_col5 {\n",
              "  background-color: #bdc8e1;\n",
              "  color: #000000;\n",
              "}\n",
              "#T_f6b94_row1_col2 {\n",
              "  background-color: #046096;\n",
              "  color: #f1f1f1;\n",
              "}\n",
              "#T_f6b94_row2_col1 {\n",
              "  background-color: #056caa;\n",
              "  color: #f1f1f1;\n",
              "}\n",
              "</style>\n",
              "<table id=\"T_f6b94_\" class=\"dataframe\">\n",
              "  <thead>\n",
              "    <tr>\n",
              "      <th class=\"blank level0\" >&nbsp;</th>\n",
              "      <th class=\"col_heading level0 col0\" >no</th>\n",
              "      <th class=\"col_heading level0 col1\" >t_dangdut</th>\n",
              "      <th class=\"col_heading level0 col2\" >t_jazz</th>\n",
              "      <th class=\"col_heading level0 col3\" >t_murottal</th>\n",
              "      <th class=\"col_heading level0 col4\" >t_nomusik</th>\n",
              "      <th class=\"col_heading level0 col5\" >hari real</th>\n",
              "    </tr>\n",
              "  </thead>\n",
              "  <tbody>\n",
              "    <tr>\n",
              "      <th id=\"T_f6b94_level0_row0\" class=\"row_heading level0 row0\" >no</th>\n",
              "      <td id=\"T_f6b94_row0_col0\" class=\"data row0 col0\" >1.00</td>\n",
              "      <td id=\"T_f6b94_row0_col1\" class=\"data row0 col1\" >0.98</td>\n",
              "      <td id=\"T_f6b94_row0_col2\" class=\"data row0 col2\" >0.98</td>\n",
              "      <td id=\"T_f6b94_row0_col3\" class=\"data row0 col3\" >nan</td>\n",
              "      <td id=\"T_f6b94_row0_col4\" class=\"data row0 col4\" >nan</td>\n",
              "      <td id=\"T_f6b94_row0_col5\" class=\"data row0 col5\" >1.00</td>\n",
              "    </tr>\n",
              "    <tr>\n",
              "      <th id=\"T_f6b94_level0_row1\" class=\"row_heading level0 row1\" >t_dangdut</th>\n",
              "      <td id=\"T_f6b94_row1_col0\" class=\"data row1 col0\" >0.98</td>\n",
              "      <td id=\"T_f6b94_row1_col1\" class=\"data row1 col1\" >1.00</td>\n",
              "      <td id=\"T_f6b94_row1_col2\" class=\"data row1 col2\" >1.00</td>\n",
              "      <td id=\"T_f6b94_row1_col3\" class=\"data row1 col3\" >nan</td>\n",
              "      <td id=\"T_f6b94_row1_col4\" class=\"data row1 col4\" >nan</td>\n",
              "      <td id=\"T_f6b94_row1_col5\" class=\"data row1 col5\" >0.98</td>\n",
              "    </tr>\n",
              "    <tr>\n",
              "      <th id=\"T_f6b94_level0_row2\" class=\"row_heading level0 row2\" >t_jazz</th>\n",
              "      <td id=\"T_f6b94_row2_col0\" class=\"data row2 col0\" >0.98</td>\n",
              "      <td id=\"T_f6b94_row2_col1\" class=\"data row2 col1\" >1.00</td>\n",
              "      <td id=\"T_f6b94_row2_col2\" class=\"data row2 col2\" >1.00</td>\n",
              "      <td id=\"T_f6b94_row2_col3\" class=\"data row2 col3\" >nan</td>\n",
              "      <td id=\"T_f6b94_row2_col4\" class=\"data row2 col4\" >nan</td>\n",
              "      <td id=\"T_f6b94_row2_col5\" class=\"data row2 col5\" >0.98</td>\n",
              "    </tr>\n",
              "    <tr>\n",
              "      <th id=\"T_f6b94_level0_row3\" class=\"row_heading level0 row3\" >t_murottal</th>\n",
              "      <td id=\"T_f6b94_row3_col0\" class=\"data row3 col0\" >nan</td>\n",
              "      <td id=\"T_f6b94_row3_col1\" class=\"data row3 col1\" >nan</td>\n",
              "      <td id=\"T_f6b94_row3_col2\" class=\"data row3 col2\" >nan</td>\n",
              "      <td id=\"T_f6b94_row3_col3\" class=\"data row3 col3\" >nan</td>\n",
              "      <td id=\"T_f6b94_row3_col4\" class=\"data row3 col4\" >nan</td>\n",
              "      <td id=\"T_f6b94_row3_col5\" class=\"data row3 col5\" >nan</td>\n",
              "    </tr>\n",
              "    <tr>\n",
              "      <th id=\"T_f6b94_level0_row4\" class=\"row_heading level0 row4\" >t_nomusik</th>\n",
              "      <td id=\"T_f6b94_row4_col0\" class=\"data row4 col0\" >nan</td>\n",
              "      <td id=\"T_f6b94_row4_col1\" class=\"data row4 col1\" >nan</td>\n",
              "      <td id=\"T_f6b94_row4_col2\" class=\"data row4 col2\" >nan</td>\n",
              "      <td id=\"T_f6b94_row4_col3\" class=\"data row4 col3\" >nan</td>\n",
              "      <td id=\"T_f6b94_row4_col4\" class=\"data row4 col4\" >nan</td>\n",
              "      <td id=\"T_f6b94_row4_col5\" class=\"data row4 col5\" >nan</td>\n",
              "    </tr>\n",
              "    <tr>\n",
              "      <th id=\"T_f6b94_level0_row5\" class=\"row_heading level0 row5\" >hari real</th>\n",
              "      <td id=\"T_f6b94_row5_col0\" class=\"data row5 col0\" >1.00</td>\n",
              "      <td id=\"T_f6b94_row5_col1\" class=\"data row5 col1\" >0.98</td>\n",
              "      <td id=\"T_f6b94_row5_col2\" class=\"data row5 col2\" >0.98</td>\n",
              "      <td id=\"T_f6b94_row5_col3\" class=\"data row5 col3\" >nan</td>\n",
              "      <td id=\"T_f6b94_row5_col4\" class=\"data row5 col4\" >nan</td>\n",
              "      <td id=\"T_f6b94_row5_col5\" class=\"data row5 col5\" >1.00</td>\n",
              "    </tr>\n",
              "  </tbody>\n",
              "</table>\n"
            ]
          },
          "metadata": {},
          "execution_count": 46
        }
      ]
    },
    {
      "cell_type": "code",
      "source": [
        "#recall dataset \n",
        "df = dataset_kangkung\n",
        "df = df.drop(columns=['no','waktu','hari ke','t_murottal','t_nomusik'])\n",
        "df"
      ],
      "metadata": {
        "id": "Ro1fG9fMUE-K",
        "colab": {
          "base_uri": "https://localhost:8080/",
          "height": 424
        },
        "outputId": "e7d54585-4cd5-4bca-cbf5-7b793195ca8a"
      },
      "execution_count": 73,
      "outputs": [
        {
          "output_type": "execute_result",
          "data": {
            "text/plain": [
              "     t_dangdut  t_jazz  hari real\n",
              "0          6.0     5.0         11\n",
              "1          6.0     5.0         11\n",
              "2          6.0     5.0         11\n",
              "3          6.0     5.0         11\n",
              "4          6.0     5.0         11\n",
              "..         ...     ...        ...\n",
              "955       25.0    28.0         25\n",
              "956       25.0    28.0         25\n",
              "957       25.0    28.0         25\n",
              "958       25.0    28.0         25\n",
              "959       25.0    28.0         25\n",
              "\n",
              "[960 rows x 3 columns]"
            ],
            "text/html": [
              "\n",
              "  <div id=\"df-dfe42d1e-825b-43f5-9926-ccd2ad8c5b42\">\n",
              "    <div class=\"colab-df-container\">\n",
              "      <div>\n",
              "<style scoped>\n",
              "    .dataframe tbody tr th:only-of-type {\n",
              "        vertical-align: middle;\n",
              "    }\n",
              "\n",
              "    .dataframe tbody tr th {\n",
              "        vertical-align: top;\n",
              "    }\n",
              "\n",
              "    .dataframe thead th {\n",
              "        text-align: right;\n",
              "    }\n",
              "</style>\n",
              "<table border=\"1\" class=\"dataframe\">\n",
              "  <thead>\n",
              "    <tr style=\"text-align: right;\">\n",
              "      <th></th>\n",
              "      <th>t_dangdut</th>\n",
              "      <th>t_jazz</th>\n",
              "      <th>hari real</th>\n",
              "    </tr>\n",
              "  </thead>\n",
              "  <tbody>\n",
              "    <tr>\n",
              "      <th>0</th>\n",
              "      <td>6.0</td>\n",
              "      <td>5.0</td>\n",
              "      <td>11</td>\n",
              "    </tr>\n",
              "    <tr>\n",
              "      <th>1</th>\n",
              "      <td>6.0</td>\n",
              "      <td>5.0</td>\n",
              "      <td>11</td>\n",
              "    </tr>\n",
              "    <tr>\n",
              "      <th>2</th>\n",
              "      <td>6.0</td>\n",
              "      <td>5.0</td>\n",
              "      <td>11</td>\n",
              "    </tr>\n",
              "    <tr>\n",
              "      <th>3</th>\n",
              "      <td>6.0</td>\n",
              "      <td>5.0</td>\n",
              "      <td>11</td>\n",
              "    </tr>\n",
              "    <tr>\n",
              "      <th>4</th>\n",
              "      <td>6.0</td>\n",
              "      <td>5.0</td>\n",
              "      <td>11</td>\n",
              "    </tr>\n",
              "    <tr>\n",
              "      <th>...</th>\n",
              "      <td>...</td>\n",
              "      <td>...</td>\n",
              "      <td>...</td>\n",
              "    </tr>\n",
              "    <tr>\n",
              "      <th>955</th>\n",
              "      <td>25.0</td>\n",
              "      <td>28.0</td>\n",
              "      <td>25</td>\n",
              "    </tr>\n",
              "    <tr>\n",
              "      <th>956</th>\n",
              "      <td>25.0</td>\n",
              "      <td>28.0</td>\n",
              "      <td>25</td>\n",
              "    </tr>\n",
              "    <tr>\n",
              "      <th>957</th>\n",
              "      <td>25.0</td>\n",
              "      <td>28.0</td>\n",
              "      <td>25</td>\n",
              "    </tr>\n",
              "    <tr>\n",
              "      <th>958</th>\n",
              "      <td>25.0</td>\n",
              "      <td>28.0</td>\n",
              "      <td>25</td>\n",
              "    </tr>\n",
              "    <tr>\n",
              "      <th>959</th>\n",
              "      <td>25.0</td>\n",
              "      <td>28.0</td>\n",
              "      <td>25</td>\n",
              "    </tr>\n",
              "  </tbody>\n",
              "</table>\n",
              "<p>960 rows × 3 columns</p>\n",
              "</div>\n",
              "      <button class=\"colab-df-convert\" onclick=\"convertToInteractive('df-dfe42d1e-825b-43f5-9926-ccd2ad8c5b42')\"\n",
              "              title=\"Convert this dataframe to an interactive table.\"\n",
              "              style=\"display:none;\">\n",
              "        \n",
              "  <svg xmlns=\"http://www.w3.org/2000/svg\" height=\"24px\"viewBox=\"0 0 24 24\"\n",
              "       width=\"24px\">\n",
              "    <path d=\"M0 0h24v24H0V0z\" fill=\"none\"/>\n",
              "    <path d=\"M18.56 5.44l.94 2.06.94-2.06 2.06-.94-2.06-.94-.94-2.06-.94 2.06-2.06.94zm-11 1L8.5 8.5l.94-2.06 2.06-.94-2.06-.94L8.5 2.5l-.94 2.06-2.06.94zm10 10l.94 2.06.94-2.06 2.06-.94-2.06-.94-.94-2.06-.94 2.06-2.06.94z\"/><path d=\"M17.41 7.96l-1.37-1.37c-.4-.4-.92-.59-1.43-.59-.52 0-1.04.2-1.43.59L10.3 9.45l-7.72 7.72c-.78.78-.78 2.05 0 2.83L4 21.41c.39.39.9.59 1.41.59.51 0 1.02-.2 1.41-.59l7.78-7.78 2.81-2.81c.8-.78.8-2.07 0-2.86zM5.41 20L4 18.59l7.72-7.72 1.47 1.35L5.41 20z\"/>\n",
              "  </svg>\n",
              "      </button>\n",
              "      \n",
              "  <style>\n",
              "    .colab-df-container {\n",
              "      display:flex;\n",
              "      flex-wrap:wrap;\n",
              "      gap: 12px;\n",
              "    }\n",
              "\n",
              "    .colab-df-convert {\n",
              "      background-color: #E8F0FE;\n",
              "      border: none;\n",
              "      border-radius: 50%;\n",
              "      cursor: pointer;\n",
              "      display: none;\n",
              "      fill: #1967D2;\n",
              "      height: 32px;\n",
              "      padding: 0 0 0 0;\n",
              "      width: 32px;\n",
              "    }\n",
              "\n",
              "    .colab-df-convert:hover {\n",
              "      background-color: #E2EBFA;\n",
              "      box-shadow: 0px 1px 2px rgba(60, 64, 67, 0.3), 0px 1px 3px 1px rgba(60, 64, 67, 0.15);\n",
              "      fill: #174EA6;\n",
              "    }\n",
              "\n",
              "    [theme=dark] .colab-df-convert {\n",
              "      background-color: #3B4455;\n",
              "      fill: #D2E3FC;\n",
              "    }\n",
              "\n",
              "    [theme=dark] .colab-df-convert:hover {\n",
              "      background-color: #434B5C;\n",
              "      box-shadow: 0px 1px 3px 1px rgba(0, 0, 0, 0.15);\n",
              "      filter: drop-shadow(0px 1px 2px rgba(0, 0, 0, 0.3));\n",
              "      fill: #FFFFFF;\n",
              "    }\n",
              "  </style>\n",
              "\n",
              "      <script>\n",
              "        const buttonEl =\n",
              "          document.querySelector('#df-dfe42d1e-825b-43f5-9926-ccd2ad8c5b42 button.colab-df-convert');\n",
              "        buttonEl.style.display =\n",
              "          google.colab.kernel.accessAllowed ? 'block' : 'none';\n",
              "\n",
              "        async function convertToInteractive(key) {\n",
              "          const element = document.querySelector('#df-dfe42d1e-825b-43f5-9926-ccd2ad8c5b42');\n",
              "          const dataTable =\n",
              "            await google.colab.kernel.invokeFunction('convertToInteractive',\n",
              "                                                     [key], {});\n",
              "          if (!dataTable) return;\n",
              "\n",
              "          const docLinkHtml = 'Like what you see? Visit the ' +\n",
              "            '<a target=\"_blank\" href=https://colab.research.google.com/notebooks/data_table.ipynb>data table notebook</a>'\n",
              "            + ' to learn more about interactive tables.';\n",
              "          element.innerHTML = '';\n",
              "          dataTable['output_type'] = 'display_data';\n",
              "          await google.colab.output.renderOutput(dataTable, element);\n",
              "          const docLink = document.createElement('div');\n",
              "          docLink.innerHTML = docLinkHtml;\n",
              "          element.appendChild(docLink);\n",
              "        }\n",
              "      </script>\n",
              "    </div>\n",
              "  </div>\n",
              "  "
            ]
          },
          "metadata": {},
          "execution_count": 73
        }
      ]
    },
    {
      "cell_type": "code",
      "source": [
        "#membuat variable x dan y\n",
        "x = df.drop(columns=['hari real'])\n",
        "y = df['hari real']"
      ],
      "metadata": {
        "id": "R_z3ObxVUPxt"
      },
      "execution_count": 74,
      "outputs": []
    },
    {
      "cell_type": "code",
      "source": [
        "#spliting data menjadi training dan tes dengan rasio 80:20\n",
        "x_train, x_test, y_train, y_test = train_test_split(x, y, test_size=0.2, random_state=4)"
      ],
      "metadata": {
        "id": "6hIzoqWaUmsl"
      },
      "execution_count": 75,
      "outputs": []
    },
    {
      "cell_type": "code",
      "source": [
        "#cek shape\n",
        "print(x_train.shape)\n",
        "print(x_test.shape)\n",
        "print(y_train.shape)\n",
        "print(y_test.shape)"
      ],
      "metadata": {
        "id": "RDll0lDWVNWk",
        "colab": {
          "base_uri": "https://localhost:8080/"
        },
        "outputId": "c2cbb96d-b614-4cdb-9aed-df4d971e9fd0"
      },
      "execution_count": 76,
      "outputs": [
        {
          "output_type": "stream",
          "name": "stdout",
          "text": [
            "(768, 2)\n",
            "(192, 2)\n",
            "(768,)\n",
            "(192,)\n"
          ]
        }
      ]
    },
    {
      "cell_type": "code",
      "source": [
        "lg = LinearRegression()\n",
        "#training model dengan menggunakan data yang sudah di partisi\n",
        "lg.fit(x_train, y_train)"
      ],
      "metadata": {
        "id": "PLcflXs5VgD3",
        "colab": {
          "base_uri": "https://localhost:8080/"
        },
        "outputId": "5c0a03f1-3cbd-451e-f7a2-d1b397ed1989"
      },
      "execution_count": 77,
      "outputs": [
        {
          "output_type": "execute_result",
          "data": {
            "text/plain": [
              "LinearRegression()"
            ]
          },
          "metadata": {},
          "execution_count": 77
        }
      ]
    },
    {
      "cell_type": "code",
      "source": [
        "#mencari tau nilai slope/koefisien (m) dan intercept(b)\n",
        "print(lg.coef_)\n",
        "print(lg.intercept_)"
      ],
      "metadata": {
        "id": "Nj2fZ084WK14",
        "colab": {
          "base_uri": "https://localhost:8080/"
        },
        "outputId": "a6754816-15ca-4b50-fc6e-0dde0fc26d80"
      },
      "execution_count": 78,
      "outputs": [
        {
          "output_type": "stream",
          "name": "stdout",
          "text": [
            "[ 1.02418765 -0.29025889]\n",
            "7.776533636781243\n"
          ]
        }
      ]
    },
    {
      "cell_type": "code",
      "source": [
        "#buat hasil coef dan intercept kedalam dataframe\n",
        "coef_dict = {\n",
        "    'features': x.columns,\n",
        "    'coef_value': lg.coef_\n",
        "}\n",
        "coef = pd.DataFrame(coef_dict, columns=['features','coef_value'])\n",
        "coef"
      ],
      "metadata": {
        "id": "M4cnC0c9We5q",
        "colab": {
          "base_uri": "https://localhost:8080/",
          "height": 112
        },
        "outputId": "aa31c0e9-8bef-4844-8db0-138669a0a177"
      },
      "execution_count": 79,
      "outputs": [
        {
          "output_type": "execute_result",
          "data": {
            "text/plain": [
              "    features  coef_value\n",
              "0  t_dangdut    1.024188\n",
              "1     t_jazz   -0.290259"
            ],
            "text/html": [
              "\n",
              "  <div id=\"df-2aef3c8a-28ea-4c3f-95ad-51def03071e3\">\n",
              "    <div class=\"colab-df-container\">\n",
              "      <div>\n",
              "<style scoped>\n",
              "    .dataframe tbody tr th:only-of-type {\n",
              "        vertical-align: middle;\n",
              "    }\n",
              "\n",
              "    .dataframe tbody tr th {\n",
              "        vertical-align: top;\n",
              "    }\n",
              "\n",
              "    .dataframe thead th {\n",
              "        text-align: right;\n",
              "    }\n",
              "</style>\n",
              "<table border=\"1\" class=\"dataframe\">\n",
              "  <thead>\n",
              "    <tr style=\"text-align: right;\">\n",
              "      <th></th>\n",
              "      <th>features</th>\n",
              "      <th>coef_value</th>\n",
              "    </tr>\n",
              "  </thead>\n",
              "  <tbody>\n",
              "    <tr>\n",
              "      <th>0</th>\n",
              "      <td>t_dangdut</td>\n",
              "      <td>1.024188</td>\n",
              "    </tr>\n",
              "    <tr>\n",
              "      <th>1</th>\n",
              "      <td>t_jazz</td>\n",
              "      <td>-0.290259</td>\n",
              "    </tr>\n",
              "  </tbody>\n",
              "</table>\n",
              "</div>\n",
              "      <button class=\"colab-df-convert\" onclick=\"convertToInteractive('df-2aef3c8a-28ea-4c3f-95ad-51def03071e3')\"\n",
              "              title=\"Convert this dataframe to an interactive table.\"\n",
              "              style=\"display:none;\">\n",
              "        \n",
              "  <svg xmlns=\"http://www.w3.org/2000/svg\" height=\"24px\"viewBox=\"0 0 24 24\"\n",
              "       width=\"24px\">\n",
              "    <path d=\"M0 0h24v24H0V0z\" fill=\"none\"/>\n",
              "    <path d=\"M18.56 5.44l.94 2.06.94-2.06 2.06-.94-2.06-.94-.94-2.06-.94 2.06-2.06.94zm-11 1L8.5 8.5l.94-2.06 2.06-.94-2.06-.94L8.5 2.5l-.94 2.06-2.06.94zm10 10l.94 2.06.94-2.06 2.06-.94-2.06-.94-.94-2.06-.94 2.06-2.06.94z\"/><path d=\"M17.41 7.96l-1.37-1.37c-.4-.4-.92-.59-1.43-.59-.52 0-1.04.2-1.43.59L10.3 9.45l-7.72 7.72c-.78.78-.78 2.05 0 2.83L4 21.41c.39.39.9.59 1.41.59.51 0 1.02-.2 1.41-.59l7.78-7.78 2.81-2.81c.8-.78.8-2.07 0-2.86zM5.41 20L4 18.59l7.72-7.72 1.47 1.35L5.41 20z\"/>\n",
              "  </svg>\n",
              "      </button>\n",
              "      \n",
              "  <style>\n",
              "    .colab-df-container {\n",
              "      display:flex;\n",
              "      flex-wrap:wrap;\n",
              "      gap: 12px;\n",
              "    }\n",
              "\n",
              "    .colab-df-convert {\n",
              "      background-color: #E8F0FE;\n",
              "      border: none;\n",
              "      border-radius: 50%;\n",
              "      cursor: pointer;\n",
              "      display: none;\n",
              "      fill: #1967D2;\n",
              "      height: 32px;\n",
              "      padding: 0 0 0 0;\n",
              "      width: 32px;\n",
              "    }\n",
              "\n",
              "    .colab-df-convert:hover {\n",
              "      background-color: #E2EBFA;\n",
              "      box-shadow: 0px 1px 2px rgba(60, 64, 67, 0.3), 0px 1px 3px 1px rgba(60, 64, 67, 0.15);\n",
              "      fill: #174EA6;\n",
              "    }\n",
              "\n",
              "    [theme=dark] .colab-df-convert {\n",
              "      background-color: #3B4455;\n",
              "      fill: #D2E3FC;\n",
              "    }\n",
              "\n",
              "    [theme=dark] .colab-df-convert:hover {\n",
              "      background-color: #434B5C;\n",
              "      box-shadow: 0px 1px 3px 1px rgba(0, 0, 0, 0.15);\n",
              "      filter: drop-shadow(0px 1px 2px rgba(0, 0, 0, 0.3));\n",
              "      fill: #FFFFFF;\n",
              "    }\n",
              "  </style>\n",
              "\n",
              "      <script>\n",
              "        const buttonEl =\n",
              "          document.querySelector('#df-2aef3c8a-28ea-4c3f-95ad-51def03071e3 button.colab-df-convert');\n",
              "        buttonEl.style.display =\n",
              "          google.colab.kernel.accessAllowed ? 'block' : 'none';\n",
              "\n",
              "        async function convertToInteractive(key) {\n",
              "          const element = document.querySelector('#df-2aef3c8a-28ea-4c3f-95ad-51def03071e3');\n",
              "          const dataTable =\n",
              "            await google.colab.kernel.invokeFunction('convertToInteractive',\n",
              "                                                     [key], {});\n",
              "          if (!dataTable) return;\n",
              "\n",
              "          const docLinkHtml = 'Like what you see? Visit the ' +\n",
              "            '<a target=\"_blank\" href=https://colab.research.google.com/notebooks/data_table.ipynb>data table notebook</a>'\n",
              "            + ' to learn more about interactive tables.';\n",
              "          element.innerHTML = '';\n",
              "          dataTable['output_type'] = 'display_data';\n",
              "          await google.colab.output.renderOutput(dataTable, element);\n",
              "          const docLink = document.createElement('div');\n",
              "          docLink.innerHTML = docLinkHtml;\n",
              "          element.appendChild(docLink);\n",
              "        }\n",
              "      </script>\n",
              "    </div>\n",
              "  </div>\n",
              "  "
            ]
          },
          "metadata": {},
          "execution_count": 79
        }
      ]
    },
    {
      "cell_type": "code",
      "source": [
        "y_pred = lg.predict(x_test)"
      ],
      "metadata": {
        "id": "xLL7XRr_XWTP"
      },
      "execution_count": 80,
      "outputs": []
    },
    {
      "cell_type": "code",
      "source": [
        "#mengetahui nilai akurasi dari model yang sudah ditraining\n",
        "lg.score(x_test, y_test)"
      ],
      "metadata": {
        "id": "CEeNEoolXg_X",
        "colab": {
          "base_uri": "https://localhost:8080/"
        },
        "outputId": "99ceda02-e7f8-4c20-c0c2-ff668843a5ef"
      },
      "execution_count": 81,
      "outputs": [
        {
          "output_type": "execute_result",
          "data": {
            "text/plain": [
              "0.970853244157209"
            ]
          },
          "metadata": {},
          "execution_count": 81
        }
      ]
    },
    {
      "cell_type": "code",
      "source": [
        "#coba prediksi\n",
        "lg.predict([[22.0,22.0]])"
      ],
      "metadata": {
        "id": "kRnJerhiX35l",
        "colab": {
          "base_uri": "https://localhost:8080/"
        },
        "outputId": "99ff1693-f0d0-423f-bad2-7f2ee9c907ed"
      },
      "execution_count": 84,
      "outputs": [
        {
          "output_type": "stream",
          "name": "stderr",
          "text": [
            "/usr/local/lib/python3.7/dist-packages/sklearn/base.py:451: UserWarning: X does not have valid feature names, but LinearRegression was fitted with feature names\n",
            "  \"X does not have valid feature names, but\"\n"
          ]
        },
        {
          "output_type": "execute_result",
          "data": {
            "text/plain": [
              "array([23.9229664])"
            ]
          },
          "metadata": {},
          "execution_count": 84
        }
      ]
    }
  ]
}