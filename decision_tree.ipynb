{
  "nbformat": 4,
  "nbformat_minor": 0,
  "metadata": {
    "colab": {
      "name": "decision_tree.ipynb",
      "provenance": [],
      "collapsed_sections": []
    },
    "kernelspec": {
      "name": "python3",
      "display_name": "Python 3"
    },
    "language_info": {
      "name": "python"
    }
  },
  "cells": [
    {
      "cell_type": "code",
      "execution_count": 1,
      "metadata": {
        "id": "RPbcJuJP0pe4"
      },
      "outputs": [],
      "source": [
        "import pandas as pd\n",
        "import numpy as np\n",
        "import matplotlib.pyplot as plt\n",
        "import seaborn as sns"
      ]
    },
    {
      "cell_type": "code",
      "source": [
        "kangkung_data = pd.read_csv('/content/pertumbuhan kangkung sonic bloom (1).csv')"
      ],
      "metadata": {
        "id": "Xn2MKDsY1ojR"
      },
      "execution_count": 2,
      "outputs": []
    },
    {
      "cell_type": "code",
      "source": [
        "kangkung_data.info()"
      ],
      "metadata": {
        "colab": {
          "base_uri": "https://localhost:8080/"
        },
        "id": "hj2y_-zF1-kZ",
        "outputId": "c921b38e-b624-47b1-c7b7-fdb6bc01ce69"
      },
      "execution_count": 3,
      "outputs": [
        {
          "output_type": "stream",
          "name": "stdout",
          "text": [
            "<class 'pandas.core.frame.DataFrame'>\n",
            "RangeIndex: 960 entries, 0 to 959\n",
            "Data columns (total 8 columns):\n",
            " #   Column      Non-Null Count  Dtype  \n",
            "---  ------      --------------  -----  \n",
            " 0   no          960 non-null    int64  \n",
            " 1   t_dangdut   960 non-null    float64\n",
            " 2   t_jazz      960 non-null    float64\n",
            " 3   t_murottal  0 non-null      float64\n",
            " 4   t_nomusik   0 non-null      float64\n",
            " 5   waktu       960 non-null    object \n",
            " 6   hari ke     960 non-null    object \n",
            " 7   hari real   960 non-null    int64  \n",
            "dtypes: float64(4), int64(2), object(2)\n",
            "memory usage: 60.1+ KB\n"
          ]
        }
      ]
    },
    {
      "cell_type": "code",
      "source": [
        "kangkung_data.head()"
      ],
      "metadata": {
        "colab": {
          "base_uri": "https://localhost:8080/",
          "height": 206
        },
        "id": "Z2mAlM7m2EhI",
        "outputId": "6b766d94-9b2f-4cab-f4df-9473d561bac7"
      },
      "execution_count": 4,
      "outputs": [
        {
          "output_type": "execute_result",
          "data": {
            "text/plain": [
              "   no  t_dangdut  t_jazz  t_murottal  t_nomusik waktu hari ke  hari real\n",
              "0   1        6.0     5.0         NaN        NaN  7:00    ke-1         11\n",
              "1   2        6.0     5.0         NaN        NaN  7:08    ke-1         11\n",
              "2   3        6.0     5.0         NaN        NaN  7:16    ke-1         11\n",
              "3   4        6.0     5.0         NaN        NaN  7:24    ke-1         11\n",
              "4   5        6.0     5.0         NaN        NaN  7:32    ke-1         11"
            ],
            "text/html": [
              "\n",
              "  <div id=\"df-ddaa16c2-c48e-43d0-ac44-f7975b8b0a99\">\n",
              "    <div class=\"colab-df-container\">\n",
              "      <div>\n",
              "<style scoped>\n",
              "    .dataframe tbody tr th:only-of-type {\n",
              "        vertical-align: middle;\n",
              "    }\n",
              "\n",
              "    .dataframe tbody tr th {\n",
              "        vertical-align: top;\n",
              "    }\n",
              "\n",
              "    .dataframe thead th {\n",
              "        text-align: right;\n",
              "    }\n",
              "</style>\n",
              "<table border=\"1\" class=\"dataframe\">\n",
              "  <thead>\n",
              "    <tr style=\"text-align: right;\">\n",
              "      <th></th>\n",
              "      <th>no</th>\n",
              "      <th>t_dangdut</th>\n",
              "      <th>t_jazz</th>\n",
              "      <th>t_murottal</th>\n",
              "      <th>t_nomusik</th>\n",
              "      <th>waktu</th>\n",
              "      <th>hari ke</th>\n",
              "      <th>hari real</th>\n",
              "    </tr>\n",
              "  </thead>\n",
              "  <tbody>\n",
              "    <tr>\n",
              "      <th>0</th>\n",
              "      <td>1</td>\n",
              "      <td>6.0</td>\n",
              "      <td>5.0</td>\n",
              "      <td>NaN</td>\n",
              "      <td>NaN</td>\n",
              "      <td>7:00</td>\n",
              "      <td>ke-1</td>\n",
              "      <td>11</td>\n",
              "    </tr>\n",
              "    <tr>\n",
              "      <th>1</th>\n",
              "      <td>2</td>\n",
              "      <td>6.0</td>\n",
              "      <td>5.0</td>\n",
              "      <td>NaN</td>\n",
              "      <td>NaN</td>\n",
              "      <td>7:08</td>\n",
              "      <td>ke-1</td>\n",
              "      <td>11</td>\n",
              "    </tr>\n",
              "    <tr>\n",
              "      <th>2</th>\n",
              "      <td>3</td>\n",
              "      <td>6.0</td>\n",
              "      <td>5.0</td>\n",
              "      <td>NaN</td>\n",
              "      <td>NaN</td>\n",
              "      <td>7:16</td>\n",
              "      <td>ke-1</td>\n",
              "      <td>11</td>\n",
              "    </tr>\n",
              "    <tr>\n",
              "      <th>3</th>\n",
              "      <td>4</td>\n",
              "      <td>6.0</td>\n",
              "      <td>5.0</td>\n",
              "      <td>NaN</td>\n",
              "      <td>NaN</td>\n",
              "      <td>7:24</td>\n",
              "      <td>ke-1</td>\n",
              "      <td>11</td>\n",
              "    </tr>\n",
              "    <tr>\n",
              "      <th>4</th>\n",
              "      <td>5</td>\n",
              "      <td>6.0</td>\n",
              "      <td>5.0</td>\n",
              "      <td>NaN</td>\n",
              "      <td>NaN</td>\n",
              "      <td>7:32</td>\n",
              "      <td>ke-1</td>\n",
              "      <td>11</td>\n",
              "    </tr>\n",
              "  </tbody>\n",
              "</table>\n",
              "</div>\n",
              "      <button class=\"colab-df-convert\" onclick=\"convertToInteractive('df-ddaa16c2-c48e-43d0-ac44-f7975b8b0a99')\"\n",
              "              title=\"Convert this dataframe to an interactive table.\"\n",
              "              style=\"display:none;\">\n",
              "        \n",
              "  <svg xmlns=\"http://www.w3.org/2000/svg\" height=\"24px\"viewBox=\"0 0 24 24\"\n",
              "       width=\"24px\">\n",
              "    <path d=\"M0 0h24v24H0V0z\" fill=\"none\"/>\n",
              "    <path d=\"M18.56 5.44l.94 2.06.94-2.06 2.06-.94-2.06-.94-.94-2.06-.94 2.06-2.06.94zm-11 1L8.5 8.5l.94-2.06 2.06-.94-2.06-.94L8.5 2.5l-.94 2.06-2.06.94zm10 10l.94 2.06.94-2.06 2.06-.94-2.06-.94-.94-2.06-.94 2.06-2.06.94z\"/><path d=\"M17.41 7.96l-1.37-1.37c-.4-.4-.92-.59-1.43-.59-.52 0-1.04.2-1.43.59L10.3 9.45l-7.72 7.72c-.78.78-.78 2.05 0 2.83L4 21.41c.39.39.9.59 1.41.59.51 0 1.02-.2 1.41-.59l7.78-7.78 2.81-2.81c.8-.78.8-2.07 0-2.86zM5.41 20L4 18.59l7.72-7.72 1.47 1.35L5.41 20z\"/>\n",
              "  </svg>\n",
              "      </button>\n",
              "      \n",
              "  <style>\n",
              "    .colab-df-container {\n",
              "      display:flex;\n",
              "      flex-wrap:wrap;\n",
              "      gap: 12px;\n",
              "    }\n",
              "\n",
              "    .colab-df-convert {\n",
              "      background-color: #E8F0FE;\n",
              "      border: none;\n",
              "      border-radius: 50%;\n",
              "      cursor: pointer;\n",
              "      display: none;\n",
              "      fill: #1967D2;\n",
              "      height: 32px;\n",
              "      padding: 0 0 0 0;\n",
              "      width: 32px;\n",
              "    }\n",
              "\n",
              "    .colab-df-convert:hover {\n",
              "      background-color: #E2EBFA;\n",
              "      box-shadow: 0px 1px 2px rgba(60, 64, 67, 0.3), 0px 1px 3px 1px rgba(60, 64, 67, 0.15);\n",
              "      fill: #174EA6;\n",
              "    }\n",
              "\n",
              "    [theme=dark] .colab-df-convert {\n",
              "      background-color: #3B4455;\n",
              "      fill: #D2E3FC;\n",
              "    }\n",
              "\n",
              "    [theme=dark] .colab-df-convert:hover {\n",
              "      background-color: #434B5C;\n",
              "      box-shadow: 0px 1px 3px 1px rgba(0, 0, 0, 0.15);\n",
              "      filter: drop-shadow(0px 1px 2px rgba(0, 0, 0, 0.3));\n",
              "      fill: #FFFFFF;\n",
              "    }\n",
              "  </style>\n",
              "\n",
              "      <script>\n",
              "        const buttonEl =\n",
              "          document.querySelector('#df-ddaa16c2-c48e-43d0-ac44-f7975b8b0a99 button.colab-df-convert');\n",
              "        buttonEl.style.display =\n",
              "          google.colab.kernel.accessAllowed ? 'block' : 'none';\n",
              "\n",
              "        async function convertToInteractive(key) {\n",
              "          const element = document.querySelector('#df-ddaa16c2-c48e-43d0-ac44-f7975b8b0a99');\n",
              "          const dataTable =\n",
              "            await google.colab.kernel.invokeFunction('convertToInteractive',\n",
              "                                                     [key], {});\n",
              "          if (!dataTable) return;\n",
              "\n",
              "          const docLinkHtml = 'Like what you see? Visit the ' +\n",
              "            '<a target=\"_blank\" href=https://colab.research.google.com/notebooks/data_table.ipynb>data table notebook</a>'\n",
              "            + ' to learn more about interactive tables.';\n",
              "          element.innerHTML = '';\n",
              "          dataTable['output_type'] = 'display_data';\n",
              "          await google.colab.output.renderOutput(dataTable, element);\n",
              "          const docLink = document.createElement('div');\n",
              "          docLink.innerHTML = docLinkHtml;\n",
              "          element.appendChild(docLink);\n",
              "        }\n",
              "      </script>\n",
              "    </div>\n",
              "  </div>\n",
              "  "
            ]
          },
          "metadata": {},
          "execution_count": 4
        }
      ]
    },
    {
      "cell_type": "code",
      "source": [
        "plt.scatter(kangkung_data['t_dangdut'],kangkung_data['t_jazz'])\n",
        "plt.show()"
      ],
      "metadata": {
        "colab": {
          "base_uri": "https://localhost:8080/",
          "height": 265
        },
        "id": "b6MGcBSu3yfM",
        "outputId": "2eb50e6b-14a7-4515-c1f5-8dc9cfe1a7a7"
      },
      "execution_count": 5,
      "outputs": [
        {
          "output_type": "display_data",
          "data": {
            "text/plain": [
              "<Figure size 432x288 with 1 Axes>"
            ],
            "image/png": "[encoded data removed]"
          },
          "metadata": {
            "needs_background": "light"
          }
        }
      ]
    },
    {
      "cell_type": "code",
      "source": [
        "sns.set_style('whitegrid')\n",
        "sns.FacetGrid(kangkung_data, hue = 'hari ke') \\\n",
        "    .map(plt.scatter, 't_dangdut','t_jazz') \\\n",
        "    .add_legend()\n",
        "\n",
        "plt.show()"
      ],
      "metadata": {
        "colab": {
          "base_uri": "https://localhost:8080/",
          "height": 289
        },
        "id": "s46JCsUT4Lzb",
        "outputId": "e543f2c6-ffc9-45bb-8a64-a42e800d4a55"
      },
      "execution_count": 6,
      "outputs": [
        {
          "output_type": "display_data",
          "data": {
            "text/plain": [
              "<Figure size 283.25x216 with 1 Axes>"
            ],
            "image/png": "[encoded data removed]"
          },
          "metadata": {}
        }
      ]
    },
    {
      "cell_type": "code",
      "source": [
        "#Now try to create a model to solve our task\n",
        "#As per our analysis, we can't find much information from new feature which can helpful in solving our problem...\n",
        "#For solving our task I have selected few features amongs all to build up our best model..\n",
        "\n",
        "'''Imporing few library for create Decision tree classifier and visualizing the tree structure'''\n",
        "\n",
        "from sklearn import tree\n",
        "import graphviz\n",
        "from sklearn.tree import DecisionTreeClassifier\n",
        "from sklearn.model_selection import train_test_split, cross_val_score\n",
        "\n",
        "\n",
        "'''Here we separating independent varibles or target varibles from Iris dataset'''\n",
        "\n",
        "\n",
        "X = kangkung_data[['t_dangdut','t_jazz']]\n",
        "y = kangkung_data['hari ke']\n",
        "\n",
        "\n",
        "#Before training the model we have split our data into Actual Train and Actual Test Dataset for training and validating purpose...\n",
        "\n",
        "Xtrain, Xtest, Ytrain, Ytest = train_test_split(X, y, test_size=0.30, random_state=42)\n",
        "\n",
        "#spliting data into validation train and validation test\n",
        "Xt, Xcv, Yt, Ycv = train_test_split(Xtrain, Ytrain, test_size=0.10, random_state=42)\n",
        "\n",
        "\n",
        "'''Now we have create a Decision tree classifier and trained it with training dataset.'''\n",
        "\n",
        "\n",
        "kangkung_clf = DecisionTreeClassifier(criterion='entropy',min_samples_split=2)\n",
        "kangkung_clf.fit(Xt, Yt)\n",
        "\n",
        "#Visualized the Tree which is formed on train dataset\n",
        "\n",
        "tree.plot_tree(kangkung_clf)"
      ],
      "metadata": {
        "colab": {
          "base_uri": "https://localhost:8080/",
          "height": 806
        },
        "id": "UKkQnvP_5MLl",
        "outputId": "8a78b767-39c2-43a1-e5ea-24eacdf629e3"
      },
      "execution_count": 7,
      "outputs": [
        {
          "output_type": "execute_result",
          "data": {
            "text/plain": [
              "[Text(0.4396551724137931, 0.9166666666666666, 'X[1] <= 11.5\\nentropy = 3.956\\nsamples = 604\\nvalue = [41, 35, 40, 41, 47, 40, 30, 40, 48, 40, 36, 33\\n47, 35, 40, 11]'),\n",
              " Text(0.1896551724137931, 0.75, 'X[0] <= 7.25\\nentropy = 2.796\\nsamples = 285\\nvalue = [41, 0, 0, 0, 0, 0, 0, 40, 48, 40, 36, 33, 47\\n0, 0, 0]'),\n",
              " Text(0.10344827586206896, 0.5833333333333334, 'X[1] <= 5.75\\nentropy = 1.58\\nsamples = 129\\nvalue = [41, 0, 0, 0, 0, 0, 0, 40, 48, 0, 0, 0, 0, 0\\n0, 0]'),\n",
              " Text(0.06896551724137931, 0.4166666666666667, 'X[1] <= 5.25\\nentropy = 1.0\\nsamples = 81\\nvalue = [41, 0, 0, 0, 0, 0, 0, 40, 0, 0, 0, 0, 0, 0\\n0, 0]'),\n",
              " Text(0.034482758620689655, 0.25, 'entropy = 0.0\\nsamples = 41\\nvalue = [41, 0, 0, 0, 0, 0, 0, 0, 0, 0, 0, 0, 0, 0\\n0, 0]'),\n",
              " Text(0.10344827586206896, 0.25, 'entropy = 0.0\\nsamples = 40\\nvalue = [0, 0, 0, 0, 0, 0, 0, 40, 0, 0, 0, 0, 0, 0\\n0, 0]'),\n",
              " Text(0.13793103448275862, 0.4166666666666667, 'entropy = 0.0\\nsamples = 48\\nvalue = [0, 0, 0, 0, 0, 0, 0, 0, 48, 0, 0, 0, 0, 0\\n0, 0]'),\n",
              " Text(0.27586206896551724, 0.5833333333333334, 'X[1] <= 7.25\\nentropy = 1.987\\nsamples = 156\\nvalue = [0, 0, 0, 0, 0, 0, 0, 0, 0, 40, 36, 33, 47, 0\\n0, 0]'),\n",
              " Text(0.20689655172413793, 0.4166666666666667, 'X[0] <= 8.25\\nentropy = 0.998\\nsamples = 76\\nvalue = [0, 0, 0, 0, 0, 0, 0, 0, 0, 40, 36, 0, 0, 0\\n0, 0]'),\n",
              " Text(0.1724137931034483, 0.25, 'entropy = 0.0\\nsamples = 40\\nvalue = [0, 0, 0, 0, 0, 0, 0, 0, 0, 40, 0, 0, 0, 0\\n0, 0]'),\n",
              " Text(0.2413793103448276, 0.25, 'entropy = 0.0\\nsamples = 36\\nvalue = [0, 0, 0, 0, 0, 0, 0, 0, 0, 0, 36, 0, 0, 0\\n0, 0]'),\n",
              " Text(0.3448275862068966, 0.4166666666666667, 'X[0] <= 10.75\\nentropy = 0.978\\nsamples = 80\\nvalue = [0, 0, 0, 0, 0, 0, 0, 0, 0, 0, 0, 33, 47, 0\\n0, 0]'),\n",
              " Text(0.3103448275862069, 0.25, 'entropy = 0.0\\nsamples = 33\\nvalue = [0, 0, 0, 0, 0, 0, 0, 0, 0, 0, 0, 33, 0, 0\\n0, 0]'),\n",
              " Text(0.3793103448275862, 0.25, 'entropy = 0.0\\nsamples = 47\\nvalue = [0, 0, 0, 0, 0, 0, 0, 0, 0, 0, 0, 0, 47, 0\\n0, 0]'),\n",
              " Text(0.6896551724137931, 0.75, 'X[1] <= 19.5\\nentropy = 3.102\\nsamples = 319\\nvalue = [0, 35, 40, 41, 47, 40, 30, 0, 0, 0, 0, 0, 0\\n35, 40, 11]'),\n",
              " Text(0.5517241379310345, 0.5833333333333334, 'X[1] <= 14.75\\nentropy = 1.997\\nsamples = 150\\nvalue = [0, 35, 40, 0, 0, 0, 0, 0, 0, 0, 0, 0, 0, 35\\n40, 0]'),\n",
              " Text(0.4827586206896552, 0.4166666666666667, 'X[0] <= 13.25\\nentropy = 0.997\\nsamples = 75\\nvalue = [0, 0, 0, 0, 0, 0, 0, 0, 0, 0, 0, 0, 0, 35\\n40, 0]'),\n",
              " Text(0.4482758620689655, 0.25, 'entropy = 0.0\\nsamples = 35\\nvalue = [0, 0, 0, 0, 0, 0, 0, 0, 0, 0, 0, 0, 0, 35\\n0, 0]'),\n",
              " Text(0.5172413793103449, 0.25, 'entropy = 0.0\\nsamples = 40\\nvalue = [0, 0, 0, 0, 0, 0, 0, 0, 0, 0, 0, 0, 0, 0\\n40, 0]'),\n",
              " Text(0.6206896551724138, 0.4166666666666667, 'X[1] <= 17.5\\nentropy = 0.997\\nsamples = 75\\nvalue = [0, 35, 40, 0, 0, 0, 0, 0, 0, 0, 0, 0, 0, 0\\n0, 0]'),\n",
              " Text(0.5862068965517241, 0.25, 'entropy = 0.0\\nsamples = 35\\nvalue = [0, 35, 0, 0, 0, 0, 0, 0, 0, 0, 0, 0, 0, 0\\n0, 0]'),\n",
              " Text(0.6551724137931034, 0.25, 'entropy = 0.0\\nsamples = 40\\nvalue = [0, 0, 40, 0, 0, 0, 0, 0, 0, 0, 0, 0, 0, 0\\n0, 0]'),\n",
              " Text(0.8275862068965517, 0.5833333333333334, 'X[0] <= 23.0\\nentropy = 2.201\\nsamples = 169\\nvalue = [0, 0, 0, 41, 47, 40, 30, 0, 0, 0, 0, 0, 0, 0\\n0, 11]'),\n",
              " Text(0.7586206896551724, 0.4166666666666667, 'X[1] <= 22.0\\nentropy = 0.997\\nsamples = 88\\nvalue = [0, 0, 0, 41, 47, 0, 0, 0, 0, 0, 0, 0, 0, 0\\n0, 0]'),\n",
              " Text(0.7241379310344828, 0.25, 'entropy = 0.0\\nsamples = 41\\nvalue = [0, 0, 0, 41, 0, 0, 0, 0, 0, 0, 0, 0, 0, 0\\n0, 0]'),\n",
              " Text(0.7931034482758621, 0.25, 'entropy = 0.0\\nsamples = 47\\nvalue = [0, 0, 0, 0, 47, 0, 0, 0, 0, 0, 0, 0, 0, 0\\n0, 0]'),\n",
              " Text(0.896551724137931, 0.4166666666666667, 'X[1] <= 26.0\\nentropy = 1.425\\nsamples = 81\\nvalue = [0, 0, 0, 0, 0, 40, 30, 0, 0, 0, 0, 0, 0, 0\\n0, 11]'),\n",
              " Text(0.8620689655172413, 0.25, 'entropy = 0.0\\nsamples = 40\\nvalue = [0, 0, 0, 0, 0, 40, 0, 0, 0, 0, 0, 0, 0, 0\\n0, 0]'),\n",
              " Text(0.9310344827586207, 0.25, 'X[1] <= 27.75\\nentropy = 0.839\\nsamples = 41\\nvalue = [0, 0, 0, 0, 0, 0, 30, 0, 0, 0, 0, 0, 0, 0\\n0, 11]'),\n",
              " Text(0.896551724137931, 0.08333333333333333, 'entropy = 0.0\\nsamples = 30\\nvalue = [0, 0, 0, 0, 0, 0, 30, 0, 0, 0, 0, 0, 0, 0\\n0, 0]'),\n",
              " Text(0.9655172413793104, 0.08333333333333333, 'entropy = 0.0\\nsamples = 11\\nvalue = [0, 0, 0, 0, 0, 0, 0, 0, 0, 0, 0, 0, 0, 0\\n0, 11]')]"
            ]
          },
          "metadata": {},
          "execution_count": 7
        },
        {
          "output_type": "display_data",
          "data": {
            "text/plain": [
              "<Figure size 432x288 with 1 Axes>"
            ],
            "image/png": "[encoded data removed]"
          },
          "metadata": {}
        }
      ]
    },
    {
      "cell_type": "code",
      "source": [
        "#Visualizing Decision Tree using graphviz library\n",
        "\n",
        "dot_data = tree.export_graphviz(kangkung_clf, out_file=None)\n",
        "\n",
        "graph = graphviz.Source(dot_data)\n",
        "graph"
      ],
      "metadata": {
        "colab": {
          "base_uri": "https://localhost:8080/",
          "height": 936
        },
        "id": "ncHjURm39wQR",
        "outputId": "c2da57a9-efac-4148-a0d5-89a38d3de718"
      },
      "execution_count": 8,
      "outputs": [
        {
          "output_type": "execute_result",
          "data": {
            "text/plain": [
              "<graphviz.files.Source at 0x7f88a9422290>"
            ],
            "image/svg+xml": "<?xml version=\"1.0\" encoding=\"UTF-8\" standalone=\"no\"?>\n<!DOCTYPE svg PUBLIC \"-//W3C//DTD SVG 1.1//EN\"\n \"http://www.w3.org/Graphics/SVG/1.1/DTD/svg11.dtd\">\n<!-- Generated by graphviz version 2.40.1 (20161225.0304)\n -->\n<!-- Title: Tree Pages: 1 -->\n<svg width=\"4489pt\" height=\"671pt\"\n viewBox=\"0.00 0.00 4488.50 671.00\" xmlns=\"http://www.w3.org/2000/svg\" xmlns:xlink=\"http://www.w3.org/1999/xlink\">\n<g id=\"graph0\" class=\"graph\" transform=\"scale(1 1) rotate(0) translate(4 667)\">\n<title>Tree</title>\n<polygon fill=\"#ffffff\" stroke=\"transparent\" points=\"-4,4 -4,-667 4484.5,-667 4484.5,4 -4,4\"/>\n<!-- 0 -->\n<g id=\"node1\" class=\"node\">\n<title>0</title>\n<polygon fill=\"none\" stroke=\"#000000\" points=\"2034.5,-663 1682.5,-663 1682.5,-580 2034.5,-580 2034.5,-663\"/>\n<text text-anchor=\"middle\" x=\"1858.5\" y=\"-647.8\" font-family=\"Helvetica,sans-Serif\" font-size=\"14.00\" fill=\"#000000\">X[1] &lt;= 11.5</text>\n<text text-anchor=\"middle\" x=\"1858.5\" y=\"-632.8\" font-family=\"Helvetica,sans-Serif\" font-size=\"14.00\" fill=\"#000000\">entropy = 3.956</text>\n<text text-anchor=\"middle\" x=\"1858.5\" y=\"-617.8\" font-family=\"Helvetica,sans-Serif\" font-size=\"14.00\" fill=\"#000000\">samples = 604</text>\n<text text-anchor=\"middle\" x=\"1858.5\" y=\"-602.8\" font-family=\"Helvetica,sans-Serif\" font-size=\"14.00\" fill=\"#000000\">value = [41, 35, 40, 41, 47, 40, 30, 40, 48, 40, 36, 33</text>\n<text text-anchor=\"middle\" x=\"1858.5\" y=\"-587.8\" font-family=\"Helvetica,sans-Serif\" font-size=\"14.00\" fill=\"#000000\">47, 35, 40, 11]</text>\n</g>\n<!-- 1 -->\n<g id=\"node2\" class=\"node\">\n<title>1</title>\n<polygon fill=\"none\" stroke=\"#000000\" points=\"1413.5,-544 1087.5,-544 1087.5,-461 1413.5,-461 1413.5,-544\"/>\n<text text-anchor=\"middle\" x=\"1250.5\" y=\"-528.8\" font-family=\"Helvetica,sans-Serif\" font-size=\"14.00\" fill=\"#000000\">X[0] &lt;= 7.25</text>\n<text text-anchor=\"middle\" x=\"1250.5\" y=\"-513.8\" font-family=\"Helvetica,sans-Serif\" font-size=\"14.00\" fill=\"#000000\">entropy = 2.796</text>\n<text text-anchor=\"middle\" x=\"1250.5\" y=\"-498.8\" font-family=\"Helvetica,sans-Serif\" font-size=\"14.00\" fill=\"#000000\">samples = 285</text>\n<text text-anchor=\"middle\" x=\"1250.5\" y=\"-483.8\" font-family=\"Helvetica,sans-Serif\" font-size=\"14.00\" fill=\"#000000\">value = [41, 0, 0, 0, 0, 0, 0, 40, 48, 40, 36, 33, 47</text>\n<text text-anchor=\"middle\" x=\"1250.5\" y=\"-468.8\" font-family=\"Helvetica,sans-Serif\" font-size=\"14.00\" fill=\"#000000\">0, 0, 0]</text>\n</g>\n<!-- 0&#45;&gt;1 -->\n<g id=\"edge1\" class=\"edge\">\n<title>0&#45;&gt;1</title>\n<path fill=\"none\" stroke=\"#000000\" d=\"M1682.233,-587.0004C1600.937,-571.0888 1504.745,-552.2618 1423.8149,-536.4218\"/>\n<polygon fill=\"#000000\" stroke=\"#000000\" points=\"1424.003,-532.8923 1413.5169,-534.4063 1422.6584,-539.762 1424.003,-532.8923\"/>\n<text text-anchor=\"middle\" x=\"1427.4699\" y=\"-551.4503\" font-family=\"Helvetica,sans-Serif\" font-size=\"14.00\" fill=\"#000000\">True</text>\n</g>\n<!-- 14 -->\n<g id=\"node15\" class=\"node\">\n<title>14</title>\n<polygon fill=\"none\" stroke=\"#000000\" points=\"2635.5,-544 2317.5,-544 2317.5,-461 2635.5,-461 2635.5,-544\"/>\n<text text-anchor=\"middle\" x=\"2476.5\" y=\"-528.8\" font-family=\"Helvetica,sans-Serif\" font-size=\"14.00\" fill=\"#000000\">X[1] &lt;= 19.5</text>\n<text text-anchor=\"middle\" x=\"2476.5\" y=\"-513.8\" font-family=\"Helvetica,sans-Serif\" font-size=\"14.00\" fill=\"#000000\">entropy = 3.102</text>\n<text text-anchor=\"middle\" x=\"2476.5\" y=\"-498.8\" font-family=\"Helvetica,sans-Serif\" font-size=\"14.00\" fill=\"#000000\">samples = 319</text>\n<text text-anchor=\"middle\" x=\"2476.5\" y=\"-483.8\" font-family=\"Helvetica,sans-Serif\" font-size=\"14.00\" fill=\"#000000\">value = [0, 35, 40, 41, 47, 40, 30, 0, 0, 0, 0, 0, 0</text>\n<text text-anchor=\"middle\" x=\"2476.5\" y=\"-468.8\" font-family=\"Helvetica,sans-Serif\" font-size=\"14.00\" fill=\"#000000\">35, 40, 11]</text>\n</g>\n<!-- 0&#45;&gt;14 -->\n<g id=\"edge14\" class=\"edge\">\n<title>0&#45;&gt;14</title>\n<path fill=\"none\" stroke=\"#000000\" d=\"M2034.7669,-587.5586C2120.3898,-571.0714 2222.8006,-551.3515 2307.4475,-535.0522\"/>\n<polygon fill=\"#000000\" stroke=\"#000000\" points=\"2308.2585,-538.4604 2317.4163,-533.1326 2306.9349,-531.5867 2308.2585,-538.4604\"/>\n<text text-anchor=\"middle\" x=\"2303.4001\" y=\"-550.134\" font-family=\"Helvetica,sans-Serif\" font-size=\"14.00\" fill=\"#000000\">False</text>\n</g>\n<!-- 2 -->\n<g id=\"node3\" class=\"node\">\n<title>2</title>\n<polygon fill=\"none\" stroke=\"#000000\" points=\"923,-425 614,-425 614,-342 923,-342 923,-425\"/>\n<text text-anchor=\"middle\" x=\"768.5\" y=\"-409.8\" font-family=\"Helvetica,sans-Serif\" font-size=\"14.00\" fill=\"#000000\">X[1] &lt;= 5.75</text>\n<text text-anchor=\"middle\" x=\"768.5\" y=\"-394.8\" font-family=\"Helvetica,sans-Serif\" font-size=\"14.00\" fill=\"#000000\">entropy = 1.58</text>\n<text text-anchor=\"middle\" x=\"768.5\" y=\"-379.8\" font-family=\"Helvetica,sans-Serif\" font-size=\"14.00\" fill=\"#000000\">samples = 129</text>\n<text text-anchor=\"middle\" x=\"768.5\" y=\"-364.8\" font-family=\"Helvetica,sans-Serif\" font-size=\"14.00\" fill=\"#000000\">value = [41, 0, 0, 0, 0, 0, 0, 40, 48, 0, 0, 0, 0, 0</text>\n<text text-anchor=\"middle\" x=\"768.5\" y=\"-349.8\" font-family=\"Helvetica,sans-Serif\" font-size=\"14.00\" fill=\"#000000\">0, 0]</text>\n</g>\n<!-- 1&#45;&gt;2 -->\n<g id=\"edge2\" class=\"edge\">\n<title>1&#45;&gt;2</title>\n<path fill=\"none\" stroke=\"#000000\" d=\"M1087.3168,-462.212C1037.645,-449.9487 983.0328,-436.4656 933.2579,-424.1767\"/>\n<polygon fill=\"#000000\" stroke=\"#000000\" points=\"933.9177,-420.7346 923.3703,-421.7356 932.2398,-427.5306 933.9177,-420.7346\"/>\n</g>\n<!-- 7 -->\n<g id=\"node8\" class=\"node\">\n<title>7</title>\n<polygon fill=\"none\" stroke=\"#000000\" points=\"1409,-425 1092,-425 1092,-342 1409,-342 1409,-425\"/>\n<text text-anchor=\"middle\" x=\"1250.5\" y=\"-409.8\" font-family=\"Helvetica,sans-Serif\" font-size=\"14.00\" fill=\"#000000\">X[1] &lt;= 7.25</text>\n<text text-anchor=\"middle\" x=\"1250.5\" y=\"-394.8\" font-family=\"Helvetica,sans-Serif\" font-size=\"14.00\" fill=\"#000000\">entropy = 1.987</text>\n<text text-anchor=\"middle\" x=\"1250.5\" y=\"-379.8\" font-family=\"Helvetica,sans-Serif\" font-size=\"14.00\" fill=\"#000000\">samples = 156</text>\n<text text-anchor=\"middle\" x=\"1250.5\" y=\"-364.8\" font-family=\"Helvetica,sans-Serif\" font-size=\"14.00\" fill=\"#000000\">value = [0, 0, 0, 0, 0, 0, 0, 0, 0, 40, 36, 33, 47, 0</text>\n<text text-anchor=\"middle\" x=\"1250.5\" y=\"-349.8\" font-family=\"Helvetica,sans-Serif\" font-size=\"14.00\" fill=\"#000000\">0, 0]</text>\n</g>\n<!-- 1&#45;&gt;7 -->\n<g id=\"edge7\" class=\"edge\">\n<title>1&#45;&gt;7</title>\n<path fill=\"none\" stroke=\"#000000\" d=\"M1250.5,-460.8796C1250.5,-452.6838 1250.5,-443.9891 1250.5,-435.5013\"/>\n<polygon fill=\"#000000\" stroke=\"#000000\" points=\"1254.0001,-435.298 1250.5,-425.2981 1247.0001,-435.2981 1254.0001,-435.298\"/>\n</g>\n<!-- 3 -->\n<g id=\"node4\" class=\"node\">\n<title>3</title>\n<polygon fill=\"none\" stroke=\"#000000\" points=\"604,-306 303,-306 303,-223 604,-223 604,-306\"/>\n<text text-anchor=\"middle\" x=\"453.5\" y=\"-290.8\" font-family=\"Helvetica,sans-Serif\" font-size=\"14.00\" fill=\"#000000\">X[1] &lt;= 5.25</text>\n<text text-anchor=\"middle\" x=\"453.5\" y=\"-275.8\" font-family=\"Helvetica,sans-Serif\" font-size=\"14.00\" fill=\"#000000\">entropy = 1.0</text>\n<text text-anchor=\"middle\" x=\"453.5\" y=\"-260.8\" font-family=\"Helvetica,sans-Serif\" font-size=\"14.00\" fill=\"#000000\">samples = 81</text>\n<text text-anchor=\"middle\" x=\"453.5\" y=\"-245.8\" font-family=\"Helvetica,sans-Serif\" font-size=\"14.00\" fill=\"#000000\">value = [41, 0, 0, 0, 0, 0, 0, 40, 0, 0, 0, 0, 0, 0</text>\n<text text-anchor=\"middle\" x=\"453.5\" y=\"-230.8\" font-family=\"Helvetica,sans-Serif\" font-size=\"14.00\" fill=\"#000000\">0, 0]</text>\n</g>\n<!-- 2&#45;&gt;3 -->\n<g id=\"edge3\" class=\"edge\">\n<title>2&#45;&gt;3</title>\n<path fill=\"none\" stroke=\"#000000\" d=\"M658.3283,-341.8796C630.7526,-331.4621 601.0431,-320.2385 573.0365,-309.6582\"/>\n<polygon fill=\"#000000\" stroke=\"#000000\" points=\"574.2012,-306.3568 563.6095,-306.0969 571.7273,-312.9051 574.2012,-306.3568\"/>\n</g>\n<!-- 6 -->\n<g id=\"node7\" class=\"node\">\n<title>6</title>\n<polygon fill=\"none\" stroke=\"#000000\" points=\"915,-298.5 622,-298.5 622,-230.5 915,-230.5 915,-298.5\"/>\n<text text-anchor=\"middle\" x=\"768.5\" y=\"-283.3\" font-family=\"Helvetica,sans-Serif\" font-size=\"14.00\" fill=\"#000000\">entropy = 0.0</text>\n<text text-anchor=\"middle\" x=\"768.5\" y=\"-268.3\" font-family=\"Helvetica,sans-Serif\" font-size=\"14.00\" fill=\"#000000\">samples = 48</text>\n<text text-anchor=\"middle\" x=\"768.5\" y=\"-253.3\" font-family=\"Helvetica,sans-Serif\" font-size=\"14.00\" fill=\"#000000\">value = [0, 0, 0, 0, 0, 0, 0, 0, 48, 0, 0, 0, 0, 0</text>\n<text text-anchor=\"middle\" x=\"768.5\" y=\"-238.3\" font-family=\"Helvetica,sans-Serif\" font-size=\"14.00\" fill=\"#000000\">0, 0]</text>\n</g>\n<!-- 2&#45;&gt;6 -->\n<g id=\"edge6\" class=\"edge\">\n<title>2&#45;&gt;6</title>\n<path fill=\"none\" stroke=\"#000000\" d=\"M768.5,-341.8796C768.5,-331.2134 768.5,-319.7021 768.5,-308.9015\"/>\n<polygon fill=\"#000000\" stroke=\"#000000\" points=\"772.0001,-308.8149 768.5,-298.8149 765.0001,-308.815 772.0001,-308.8149\"/>\n</g>\n<!-- 4 -->\n<g id=\"node5\" class=\"node\">\n<title>4</title>\n<polygon fill=\"none\" stroke=\"#000000\" points=\"293,-179.5 0,-179.5 0,-111.5 293,-111.5 293,-179.5\"/>\n<text text-anchor=\"middle\" x=\"146.5\" y=\"-164.3\" font-family=\"Helvetica,sans-Serif\" font-size=\"14.00\" fill=\"#000000\">entropy = 0.0</text>\n<text text-anchor=\"middle\" x=\"146.5\" y=\"-149.3\" font-family=\"Helvetica,sans-Serif\" font-size=\"14.00\" fill=\"#000000\">samples = 41</text>\n<text text-anchor=\"middle\" x=\"146.5\" y=\"-134.3\" font-family=\"Helvetica,sans-Serif\" font-size=\"14.00\" fill=\"#000000\">value = [41, 0, 0, 0, 0, 0, 0, 0, 0, 0, 0, 0, 0, 0</text>\n<text text-anchor=\"middle\" x=\"146.5\" y=\"-119.3\" font-family=\"Helvetica,sans-Serif\" font-size=\"14.00\" fill=\"#000000\">0, 0]</text>\n</g>\n<!-- 3&#45;&gt;4 -->\n<g id=\"edge4\" class=\"edge\">\n<title>3&#45;&gt;4</title>\n<path fill=\"none\" stroke=\"#000000\" d=\"M346.1263,-222.8796C312.9201,-210.0081 276.5392,-195.9061 244.0367,-183.3074\"/>\n<polygon fill=\"#000000\" stroke=\"#000000\" points=\"245.1207,-179.9739 234.5317,-179.623 242.5907,-186.5007 245.1207,-179.9739\"/>\n</g>\n<!-- 5 -->\n<g id=\"node6\" class=\"node\">\n<title>5</title>\n<polygon fill=\"none\" stroke=\"#000000\" points=\"604,-179.5 311,-179.5 311,-111.5 604,-111.5 604,-179.5\"/>\n<text text-anchor=\"middle\" x=\"457.5\" y=\"-164.3\" font-family=\"Helvetica,sans-Serif\" font-size=\"14.00\" fill=\"#000000\">entropy = 0.0</text>\n<text text-anchor=\"middle\" x=\"457.5\" y=\"-149.3\" font-family=\"Helvetica,sans-Serif\" font-size=\"14.00\" fill=\"#000000\">samples = 40</text>\n<text text-anchor=\"middle\" x=\"457.5\" y=\"-134.3\" font-family=\"Helvetica,sans-Serif\" font-size=\"14.00\" fill=\"#000000\">value = [0, 0, 0, 0, 0, 0, 0, 40, 0, 0, 0, 0, 0, 0</text>\n<text text-anchor=\"middle\" x=\"457.5\" y=\"-119.3\" font-family=\"Helvetica,sans-Serif\" font-size=\"14.00\" fill=\"#000000\">0, 0]</text>\n</g>\n<!-- 3&#45;&gt;5 -->\n<g id=\"edge5\" class=\"edge\">\n<title>3&#45;&gt;5</title>\n<path fill=\"none\" stroke=\"#000000\" d=\"M454.899,-222.8796C455.2575,-212.2134 455.6445,-200.7021 456.0075,-189.9015\"/>\n<polygon fill=\"#000000\" stroke=\"#000000\" points=\"459.5085,-189.9269 456.3466,-179.8149 452.5125,-189.6917 459.5085,-189.9269\"/>\n</g>\n<!-- 8 -->\n<g id=\"node9\" class=\"node\">\n<title>8</title>\n<polygon fill=\"none\" stroke=\"#000000\" points=\"1234,-306 933,-306 933,-223 1234,-223 1234,-306\"/>\n<text text-anchor=\"middle\" x=\"1083.5\" y=\"-290.8\" font-family=\"Helvetica,sans-Serif\" font-size=\"14.00\" fill=\"#000000\">X[0] &lt;= 8.25</text>\n<text text-anchor=\"middle\" x=\"1083.5\" y=\"-275.8\" font-family=\"Helvetica,sans-Serif\" font-size=\"14.00\" fill=\"#000000\">entropy = 0.998</text>\n<text text-anchor=\"middle\" x=\"1083.5\" y=\"-260.8\" font-family=\"Helvetica,sans-Serif\" font-size=\"14.00\" fill=\"#000000\">samples = 76</text>\n<text text-anchor=\"middle\" x=\"1083.5\" y=\"-245.8\" font-family=\"Helvetica,sans-Serif\" font-size=\"14.00\" fill=\"#000000\">value = [0, 0, 0, 0, 0, 0, 0, 0, 0, 40, 36, 0, 0, 0</text>\n<text text-anchor=\"middle\" x=\"1083.5\" y=\"-230.8\" font-family=\"Helvetica,sans-Serif\" font-size=\"14.00\" fill=\"#000000\">0, 0]</text>\n</g>\n<!-- 7&#45;&gt;8 -->\n<g id=\"edge8\" class=\"edge\">\n<title>7&#45;&gt;8</title>\n<path fill=\"none\" stroke=\"#000000\" d=\"M1192.0915,-341.8796C1178.6161,-332.2774 1164.1797,-321.9903 1150.375,-312.1534\"/>\n<polygon fill=\"#000000\" stroke=\"#000000\" points=\"1152.0506,-309.0497 1141.8755,-306.0969 1147.9883,-314.7505 1152.0506,-309.0497\"/>\n</g>\n<!-- 11 -->\n<g id=\"node12\" class=\"node\">\n<title>11</title>\n<polygon fill=\"none\" stroke=\"#000000\" points=\"1553,-306 1252,-306 1252,-223 1553,-223 1553,-306\"/>\n<text text-anchor=\"middle\" x=\"1402.5\" y=\"-290.8\" font-family=\"Helvetica,sans-Serif\" font-size=\"14.00\" fill=\"#000000\">X[0] &lt;= 10.75</text>\n<text text-anchor=\"middle\" x=\"1402.5\" y=\"-275.8\" font-family=\"Helvetica,sans-Serif\" font-size=\"14.00\" fill=\"#000000\">entropy = 0.978</text>\n<text text-anchor=\"middle\" x=\"1402.5\" y=\"-260.8\" font-family=\"Helvetica,sans-Serif\" font-size=\"14.00\" fill=\"#000000\">samples = 80</text>\n<text text-anchor=\"middle\" x=\"1402.5\" y=\"-245.8\" font-family=\"Helvetica,sans-Serif\" font-size=\"14.00\" fill=\"#000000\">value = [0, 0, 0, 0, 0, 0, 0, 0, 0, 0, 0, 33, 47, 0</text>\n<text text-anchor=\"middle\" x=\"1402.5\" y=\"-230.8\" font-family=\"Helvetica,sans-Serif\" font-size=\"14.00\" fill=\"#000000\">0, 0]</text>\n</g>\n<!-- 7&#45;&gt;11 -->\n<g id=\"edge11\" class=\"edge\">\n<title>7&#45;&gt;11</title>\n<path fill=\"none\" stroke=\"#000000\" d=\"M1303.6622,-341.8796C1315.8115,-332.368 1328.8192,-322.1843 1341.276,-312.432\"/>\n<polygon fill=\"#000000\" stroke=\"#000000\" points=\"1343.6514,-315.0173 1349.3678,-306.0969 1339.3362,-309.5055 1343.6514,-315.0173\"/>\n</g>\n<!-- 9 -->\n<g id=\"node10\" class=\"node\">\n<title>9</title>\n<polygon fill=\"none\" stroke=\"#000000\" points=\"919,-179.5 626,-179.5 626,-111.5 919,-111.5 919,-179.5\"/>\n<text text-anchor=\"middle\" x=\"772.5\" y=\"-164.3\" font-family=\"Helvetica,sans-Serif\" font-size=\"14.00\" fill=\"#000000\">entropy = 0.0</text>\n<text text-anchor=\"middle\" x=\"772.5\" y=\"-149.3\" font-family=\"Helvetica,sans-Serif\" font-size=\"14.00\" fill=\"#000000\">samples = 40</text>\n<text text-anchor=\"middle\" x=\"772.5\" y=\"-134.3\" font-family=\"Helvetica,sans-Serif\" font-size=\"14.00\" fill=\"#000000\">value = [0, 0, 0, 0, 0, 0, 0, 0, 0, 40, 0, 0, 0, 0</text>\n<text text-anchor=\"middle\" x=\"772.5\" y=\"-119.3\" font-family=\"Helvetica,sans-Serif\" font-size=\"14.00\" fill=\"#000000\">0, 0]</text>\n</g>\n<!-- 8&#45;&gt;9 -->\n<g id=\"edge9\" class=\"edge\">\n<title>8&#45;&gt;9</title>\n<path fill=\"none\" stroke=\"#000000\" d=\"M974.7273,-222.8796C941.0088,-209.9776 904.0588,-195.8392 871.0736,-183.2179\"/>\n<polygon fill=\"#000000\" stroke=\"#000000\" points=\"872.0187,-179.8321 861.4282,-179.5272 869.517,-186.3698 872.0187,-179.8321\"/>\n</g>\n<!-- 10 -->\n<g id=\"node11\" class=\"node\">\n<title>10</title>\n<polygon fill=\"none\" stroke=\"#000000\" points=\"1230,-179.5 937,-179.5 937,-111.5 1230,-111.5 1230,-179.5\"/>\n<text text-anchor=\"middle\" x=\"1083.5\" y=\"-164.3\" font-family=\"Helvetica,sans-Serif\" font-size=\"14.00\" fill=\"#000000\">entropy = 0.0</text>\n<text text-anchor=\"middle\" x=\"1083.5\" y=\"-149.3\" font-family=\"Helvetica,sans-Serif\" font-size=\"14.00\" fill=\"#000000\">samples = 36</text>\n<text text-anchor=\"middle\" x=\"1083.5\" y=\"-134.3\" font-family=\"Helvetica,sans-Serif\" font-size=\"14.00\" fill=\"#000000\">value = [0, 0, 0, 0, 0, 0, 0, 0, 0, 0, 36, 0, 0, 0</text>\n<text text-anchor=\"middle\" x=\"1083.5\" y=\"-119.3\" font-family=\"Helvetica,sans-Serif\" font-size=\"14.00\" fill=\"#000000\">0, 0]</text>\n</g>\n<!-- 8&#45;&gt;10 -->\n<g id=\"edge10\" class=\"edge\">\n<title>8&#45;&gt;10</title>\n<path fill=\"none\" stroke=\"#000000\" d=\"M1083.5,-222.8796C1083.5,-212.2134 1083.5,-200.7021 1083.5,-189.9015\"/>\n<polygon fill=\"#000000\" stroke=\"#000000\" points=\"1087.0001,-189.8149 1083.5,-179.8149 1080.0001,-189.815 1087.0001,-189.8149\"/>\n</g>\n<!-- 12 -->\n<g id=\"node13\" class=\"node\">\n<title>12</title>\n<polygon fill=\"none\" stroke=\"#000000\" points=\"1541,-179.5 1248,-179.5 1248,-111.5 1541,-111.5 1541,-179.5\"/>\n<text text-anchor=\"middle\" x=\"1394.5\" y=\"-164.3\" font-family=\"Helvetica,sans-Serif\" font-size=\"14.00\" fill=\"#000000\">entropy = 0.0</text>\n<text text-anchor=\"middle\" x=\"1394.5\" y=\"-149.3\" font-family=\"Helvetica,sans-Serif\" font-size=\"14.00\" fill=\"#000000\">samples = 33</text>\n<text text-anchor=\"middle\" x=\"1394.5\" y=\"-134.3\" font-family=\"Helvetica,sans-Serif\" font-size=\"14.00\" fill=\"#000000\">value = [0, 0, 0, 0, 0, 0, 0, 0, 0, 0, 0, 33, 0, 0</text>\n<text text-anchor=\"middle\" x=\"1394.5\" y=\"-119.3\" font-family=\"Helvetica,sans-Serif\" font-size=\"14.00\" fill=\"#000000\">0, 0]</text>\n</g>\n<!-- 11&#45;&gt;12 -->\n<g id=\"edge12\" class=\"edge\">\n<title>11&#45;&gt;12</title>\n<path fill=\"none\" stroke=\"#000000\" d=\"M1399.702,-222.8796C1398.9849,-212.2134 1398.2111,-200.7021 1397.485,-189.9015\"/>\n<polygon fill=\"#000000\" stroke=\"#000000\" points=\"1400.9699,-189.5576 1396.8069,-179.8149 1393.9856,-190.0272 1400.9699,-189.5576\"/>\n</g>\n<!-- 13 -->\n<g id=\"node14\" class=\"node\">\n<title>13</title>\n<polygon fill=\"none\" stroke=\"#000000\" points=\"1852,-179.5 1559,-179.5 1559,-111.5 1852,-111.5 1852,-179.5\"/>\n<text text-anchor=\"middle\" x=\"1705.5\" y=\"-164.3\" font-family=\"Helvetica,sans-Serif\" font-size=\"14.00\" fill=\"#000000\">entropy = 0.0</text>\n<text text-anchor=\"middle\" x=\"1705.5\" y=\"-149.3\" font-family=\"Helvetica,sans-Serif\" font-size=\"14.00\" fill=\"#000000\">samples = 47</text>\n<text text-anchor=\"middle\" x=\"1705.5\" y=\"-134.3\" font-family=\"Helvetica,sans-Serif\" font-size=\"14.00\" fill=\"#000000\">value = [0, 0, 0, 0, 0, 0, 0, 0, 0, 0, 0, 0, 47, 0</text>\n<text text-anchor=\"middle\" x=\"1705.5\" y=\"-119.3\" font-family=\"Helvetica,sans-Serif\" font-size=\"14.00\" fill=\"#000000\">0, 0]</text>\n</g>\n<!-- 11&#45;&gt;13 -->\n<g id=\"edge13\" class=\"edge\">\n<title>11&#45;&gt;13</title>\n<path fill=\"none\" stroke=\"#000000\" d=\"M1508.4747,-222.8796C1541.2482,-210.0081 1577.1552,-195.9061 1609.2341,-183.3074\"/>\n<polygon fill=\"#000000\" stroke=\"#000000\" points=\"1610.5869,-186.5364 1618.6153,-179.623 1608.0279,-180.0209 1610.5869,-186.5364\"/>\n</g>\n<!-- 15 -->\n<g id=\"node16\" class=\"node\">\n<title>15</title>\n<polygon fill=\"none\" stroke=\"#000000\" points=\"2631,-425 2322,-425 2322,-342 2631,-342 2631,-425\"/>\n<text text-anchor=\"middle\" x=\"2476.5\" y=\"-409.8\" font-family=\"Helvetica,sans-Serif\" font-size=\"14.00\" fill=\"#000000\">X[1] &lt;= 14.75</text>\n<text text-anchor=\"middle\" x=\"2476.5\" y=\"-394.8\" font-family=\"Helvetica,sans-Serif\" font-size=\"14.00\" fill=\"#000000\">entropy = 1.997</text>\n<text text-anchor=\"middle\" x=\"2476.5\" y=\"-379.8\" font-family=\"Helvetica,sans-Serif\" font-size=\"14.00\" fill=\"#000000\">samples = 150</text>\n<text text-anchor=\"middle\" x=\"2476.5\" y=\"-364.8\" font-family=\"Helvetica,sans-Serif\" font-size=\"14.00\" fill=\"#000000\">value = [0, 35, 40, 0, 0, 0, 0, 0, 0, 0, 0, 0, 0, 35</text>\n<text text-anchor=\"middle\" x=\"2476.5\" y=\"-349.8\" font-family=\"Helvetica,sans-Serif\" font-size=\"14.00\" fill=\"#000000\">40, 0]</text>\n</g>\n<!-- 14&#45;&gt;15 -->\n<g id=\"edge15\" class=\"edge\">\n<title>14&#45;&gt;15</title>\n<path fill=\"none\" stroke=\"#000000\" d=\"M2476.5,-460.8796C2476.5,-452.6838 2476.5,-443.9891 2476.5,-435.5013\"/>\n<polygon fill=\"#000000\" stroke=\"#000000\" points=\"2480.0001,-435.298 2476.5,-425.2981 2473.0001,-435.2981 2480.0001,-435.298\"/>\n</g>\n<!-- 22 -->\n<g id=\"node23\" class=\"node\">\n<title>22</title>\n<polygon fill=\"none\" stroke=\"#000000\" points=\"3562,-425 3245,-425 3245,-342 3562,-342 3562,-425\"/>\n<text text-anchor=\"middle\" x=\"3403.5\" y=\"-409.8\" font-family=\"Helvetica,sans-Serif\" font-size=\"14.00\" fill=\"#000000\">X[0] &lt;= 23.0</text>\n<text text-anchor=\"middle\" x=\"3403.5\" y=\"-394.8\" font-family=\"Helvetica,sans-Serif\" font-size=\"14.00\" fill=\"#000000\">entropy = 2.201</text>\n<text text-anchor=\"middle\" x=\"3403.5\" y=\"-379.8\" font-family=\"Helvetica,sans-Serif\" font-size=\"14.00\" fill=\"#000000\">samples = 169</text>\n<text text-anchor=\"middle\" x=\"3403.5\" y=\"-364.8\" font-family=\"Helvetica,sans-Serif\" font-size=\"14.00\" fill=\"#000000\">value = [0, 0, 0, 41, 47, 40, 30, 0, 0, 0, 0, 0, 0, 0</text>\n<text text-anchor=\"middle\" x=\"3403.5\" y=\"-349.8\" font-family=\"Helvetica,sans-Serif\" font-size=\"14.00\" fill=\"#000000\">0, 11]</text>\n</g>\n<!-- 14&#45;&gt;22 -->\n<g id=\"edge22\" class=\"edge\">\n<title>14&#45;&gt;22</title>\n<path fill=\"none\" stroke=\"#000000\" d=\"M2635.5934,-482.077C2802.6608,-460.6304 3064.3264,-427.0401 3234.885,-405.1453\"/>\n<polygon fill=\"#000000\" stroke=\"#000000\" points=\"3235.4949,-408.5958 3244.9678,-403.851 3234.6035,-401.6528 3235.4949,-408.5958\"/>\n</g>\n<!-- 16 -->\n<g id=\"node17\" class=\"node\">\n<title>16</title>\n<polygon fill=\"none\" stroke=\"#000000\" points=\"2466,-306 2173,-306 2173,-223 2466,-223 2466,-306\"/>\n<text text-anchor=\"middle\" x=\"2319.5\" y=\"-290.8\" font-family=\"Helvetica,sans-Serif\" font-size=\"14.00\" fill=\"#000000\">X[0] &lt;= 13.25</text>\n<text text-anchor=\"middle\" x=\"2319.5\" y=\"-275.8\" font-family=\"Helvetica,sans-Serif\" font-size=\"14.00\" fill=\"#000000\">entropy = 0.997</text>\n<text text-anchor=\"middle\" x=\"2319.5\" y=\"-260.8\" font-family=\"Helvetica,sans-Serif\" font-size=\"14.00\" fill=\"#000000\">samples = 75</text>\n<text text-anchor=\"middle\" x=\"2319.5\" y=\"-245.8\" font-family=\"Helvetica,sans-Serif\" font-size=\"14.00\" fill=\"#000000\">value = [0, 0, 0, 0, 0, 0, 0, 0, 0, 0, 0, 0, 0, 35</text>\n<text text-anchor=\"middle\" x=\"2319.5\" y=\"-230.8\" font-family=\"Helvetica,sans-Serif\" font-size=\"14.00\" fill=\"#000000\">40, 0]</text>\n</g>\n<!-- 15&#45;&gt;16 -->\n<g id=\"edge16\" class=\"edge\">\n<title>15&#45;&gt;16</title>\n<path fill=\"none\" stroke=\"#000000\" d=\"M2421.589,-341.8796C2408.9206,-332.2774 2395.3485,-321.9903 2382.3705,-312.1534\"/>\n<polygon fill=\"#000000\" stroke=\"#000000\" points=\"2384.4636,-309.3482 2374.38,-306.0969 2380.2352,-314.9268 2384.4636,-309.3482\"/>\n</g>\n<!-- 19 -->\n<g id=\"node20\" class=\"node\">\n<title>19</title>\n<polygon fill=\"none\" stroke=\"#000000\" points=\"2785,-306 2484,-306 2484,-223 2785,-223 2785,-306\"/>\n<text text-anchor=\"middle\" x=\"2634.5\" y=\"-290.8\" font-family=\"Helvetica,sans-Serif\" font-size=\"14.00\" fill=\"#000000\">X[1] &lt;= 17.5</text>\n<text text-anchor=\"middle\" x=\"2634.5\" y=\"-275.8\" font-family=\"Helvetica,sans-Serif\" font-size=\"14.00\" fill=\"#000000\">entropy = 0.997</text>\n<text text-anchor=\"middle\" x=\"2634.5\" y=\"-260.8\" font-family=\"Helvetica,sans-Serif\" font-size=\"14.00\" fill=\"#000000\">samples = 75</text>\n<text text-anchor=\"middle\" x=\"2634.5\" y=\"-245.8\" font-family=\"Helvetica,sans-Serif\" font-size=\"14.00\" fill=\"#000000\">value = [0, 35, 40, 0, 0, 0, 0, 0, 0, 0, 0, 0, 0, 0</text>\n<text text-anchor=\"middle\" x=\"2634.5\" y=\"-230.8\" font-family=\"Helvetica,sans-Serif\" font-size=\"14.00\" fill=\"#000000\">0, 0]</text>\n</g>\n<!-- 15&#45;&gt;19 -->\n<g id=\"edge19\" class=\"edge\">\n<title>15&#45;&gt;19</title>\n<path fill=\"none\" stroke=\"#000000\" d=\"M2531.7607,-341.8796C2544.5099,-332.2774 2558.1683,-321.9903 2571.2291,-312.1534\"/>\n<polygon fill=\"#000000\" stroke=\"#000000\" points=\"2573.3883,-314.9089 2579.2705,-306.0969 2569.1769,-309.3174 2573.3883,-314.9089\"/>\n</g>\n<!-- 17 -->\n<g id=\"node18\" class=\"node\">\n<title>17</title>\n<polygon fill=\"none\" stroke=\"#000000\" points=\"2163,-179.5 1870,-179.5 1870,-111.5 2163,-111.5 2163,-179.5\"/>\n<text text-anchor=\"middle\" x=\"2016.5\" y=\"-164.3\" font-family=\"Helvetica,sans-Serif\" font-size=\"14.00\" fill=\"#000000\">entropy = 0.0</text>\n<text text-anchor=\"middle\" x=\"2016.5\" y=\"-149.3\" font-family=\"Helvetica,sans-Serif\" font-size=\"14.00\" fill=\"#000000\">samples = 35</text>\n<text text-anchor=\"middle\" x=\"2016.5\" y=\"-134.3\" font-family=\"Helvetica,sans-Serif\" font-size=\"14.00\" fill=\"#000000\">value = [0, 0, 0, 0, 0, 0, 0, 0, 0, 0, 0, 0, 0, 35</text>\n<text text-anchor=\"middle\" x=\"2016.5\" y=\"-119.3\" font-family=\"Helvetica,sans-Serif\" font-size=\"14.00\" fill=\"#000000\">0, 0]</text>\n</g>\n<!-- 16&#45;&gt;17 -->\n<g id=\"edge17\" class=\"edge\">\n<title>16&#45;&gt;17</title>\n<path fill=\"none\" stroke=\"#000000\" d=\"M2213.5253,-222.8796C2180.7518,-210.0081 2144.8448,-195.9061 2112.7659,-183.3074\"/>\n<polygon fill=\"#000000\" stroke=\"#000000\" points=\"2113.9721,-180.0209 2103.3847,-179.623 2111.4131,-186.5364 2113.9721,-180.0209\"/>\n</g>\n<!-- 18 -->\n<g id=\"node19\" class=\"node\">\n<title>18</title>\n<polygon fill=\"none\" stroke=\"#000000\" points=\"2465.5,-179.5 2181.5,-179.5 2181.5,-111.5 2465.5,-111.5 2465.5,-179.5\"/>\n<text text-anchor=\"middle\" x=\"2323.5\" y=\"-164.3\" font-family=\"Helvetica,sans-Serif\" font-size=\"14.00\" fill=\"#000000\">entropy = 0.0</text>\n<text text-anchor=\"middle\" x=\"2323.5\" y=\"-149.3\" font-family=\"Helvetica,sans-Serif\" font-size=\"14.00\" fill=\"#000000\">samples = 40</text>\n<text text-anchor=\"middle\" x=\"2323.5\" y=\"-134.3\" font-family=\"Helvetica,sans-Serif\" font-size=\"14.00\" fill=\"#000000\">value = [0, 0, 0, 0, 0, 0, 0, 0, 0, 0, 0, 0, 0, 0</text>\n<text text-anchor=\"middle\" x=\"2323.5\" y=\"-119.3\" font-family=\"Helvetica,sans-Serif\" font-size=\"14.00\" fill=\"#000000\">40, 0]</text>\n</g>\n<!-- 16&#45;&gt;18 -->\n<g id=\"edge18\" class=\"edge\">\n<title>16&#45;&gt;18</title>\n<path fill=\"none\" stroke=\"#000000\" d=\"M2320.899,-222.8796C2321.2575,-212.2134 2321.6445,-200.7021 2322.0075,-189.9015\"/>\n<polygon fill=\"#000000\" stroke=\"#000000\" points=\"2325.5085,-189.9269 2322.3466,-179.8149 2318.5125,-189.6917 2325.5085,-189.9269\"/>\n</g>\n<!-- 20 -->\n<g id=\"node21\" class=\"node\">\n<title>20</title>\n<polygon fill=\"none\" stroke=\"#000000\" points=\"2777,-179.5 2484,-179.5 2484,-111.5 2777,-111.5 2777,-179.5\"/>\n<text text-anchor=\"middle\" x=\"2630.5\" y=\"-164.3\" font-family=\"Helvetica,sans-Serif\" font-size=\"14.00\" fill=\"#000000\">entropy = 0.0</text>\n<text text-anchor=\"middle\" x=\"2630.5\" y=\"-149.3\" font-family=\"Helvetica,sans-Serif\" font-size=\"14.00\" fill=\"#000000\">samples = 35</text>\n<text text-anchor=\"middle\" x=\"2630.5\" y=\"-134.3\" font-family=\"Helvetica,sans-Serif\" font-size=\"14.00\" fill=\"#000000\">value = [0, 35, 0, 0, 0, 0, 0, 0, 0, 0, 0, 0, 0, 0</text>\n<text text-anchor=\"middle\" x=\"2630.5\" y=\"-119.3\" font-family=\"Helvetica,sans-Serif\" font-size=\"14.00\" fill=\"#000000\">0, 0]</text>\n</g>\n<!-- 19&#45;&gt;20 -->\n<g id=\"edge20\" class=\"edge\">\n<title>19&#45;&gt;20</title>\n<path fill=\"none\" stroke=\"#000000\" d=\"M2633.101,-222.8796C2632.7425,-212.2134 2632.3555,-200.7021 2631.9925,-189.9015\"/>\n<polygon fill=\"#000000\" stroke=\"#000000\" points=\"2635.4875,-189.6917 2631.6534,-179.8149 2628.4915,-189.9269 2635.4875,-189.6917\"/>\n</g>\n<!-- 21 -->\n<g id=\"node22\" class=\"node\">\n<title>21</title>\n<polygon fill=\"none\" stroke=\"#000000\" points=\"3088,-179.5 2795,-179.5 2795,-111.5 3088,-111.5 3088,-179.5\"/>\n<text text-anchor=\"middle\" x=\"2941.5\" y=\"-164.3\" font-family=\"Helvetica,sans-Serif\" font-size=\"14.00\" fill=\"#000000\">entropy = 0.0</text>\n<text text-anchor=\"middle\" x=\"2941.5\" y=\"-149.3\" font-family=\"Helvetica,sans-Serif\" font-size=\"14.00\" fill=\"#000000\">samples = 40</text>\n<text text-anchor=\"middle\" x=\"2941.5\" y=\"-134.3\" font-family=\"Helvetica,sans-Serif\" font-size=\"14.00\" fill=\"#000000\">value = [0, 0, 40, 0, 0, 0, 0, 0, 0, 0, 0, 0, 0, 0</text>\n<text text-anchor=\"middle\" x=\"2941.5\" y=\"-119.3\" font-family=\"Helvetica,sans-Serif\" font-size=\"14.00\" fill=\"#000000\">0, 0]</text>\n</g>\n<!-- 19&#45;&gt;21 -->\n<g id=\"edge21\" class=\"edge\">\n<title>19&#45;&gt;21</title>\n<path fill=\"none\" stroke=\"#000000\" d=\"M2741.8737,-222.8796C2775.0799,-210.0081 2811.4608,-195.9061 2843.9633,-183.3074\"/>\n<polygon fill=\"#000000\" stroke=\"#000000\" points=\"2845.4093,-186.5007 2853.4683,-179.623 2842.8793,-179.9739 2845.4093,-186.5007\"/>\n</g>\n<!-- 23 -->\n<g id=\"node24\" class=\"node\">\n<title>23</title>\n<polygon fill=\"none\" stroke=\"#000000\" points=\"3554,-306 3253,-306 3253,-223 3554,-223 3554,-306\"/>\n<text text-anchor=\"middle\" x=\"3403.5\" y=\"-290.8\" font-family=\"Helvetica,sans-Serif\" font-size=\"14.00\" fill=\"#000000\">X[1] &lt;= 22.0</text>\n<text text-anchor=\"middle\" x=\"3403.5\" y=\"-275.8\" font-family=\"Helvetica,sans-Serif\" font-size=\"14.00\" fill=\"#000000\">entropy = 0.997</text>\n<text text-anchor=\"middle\" x=\"3403.5\" y=\"-260.8\" font-family=\"Helvetica,sans-Serif\" font-size=\"14.00\" fill=\"#000000\">samples = 88</text>\n<text text-anchor=\"middle\" x=\"3403.5\" y=\"-245.8\" font-family=\"Helvetica,sans-Serif\" font-size=\"14.00\" fill=\"#000000\">value = [0, 0, 0, 41, 47, 0, 0, 0, 0, 0, 0, 0, 0, 0</text>\n<text text-anchor=\"middle\" x=\"3403.5\" y=\"-230.8\" font-family=\"Helvetica,sans-Serif\" font-size=\"14.00\" fill=\"#000000\">0, 0]</text>\n</g>\n<!-- 22&#45;&gt;23 -->\n<g id=\"edge23\" class=\"edge\">\n<title>22&#45;&gt;23</title>\n<path fill=\"none\" stroke=\"#000000\" d=\"M3403.5,-341.8796C3403.5,-333.6838 3403.5,-324.9891 3403.5,-316.5013\"/>\n<polygon fill=\"#000000\" stroke=\"#000000\" points=\"3407.0001,-316.298 3403.5,-306.2981 3400.0001,-316.2981 3407.0001,-316.298\"/>\n</g>\n<!-- 26 -->\n<g id=\"node27\" class=\"node\">\n<title>26</title>\n<polygon fill=\"none\" stroke=\"#000000\" points=\"4025,-306 3724,-306 3724,-223 4025,-223 4025,-306\"/>\n<text text-anchor=\"middle\" x=\"3874.5\" y=\"-290.8\" font-family=\"Helvetica,sans-Serif\" font-size=\"14.00\" fill=\"#000000\">X[1] &lt;= 26.0</text>\n<text text-anchor=\"middle\" x=\"3874.5\" y=\"-275.8\" font-family=\"Helvetica,sans-Serif\" font-size=\"14.00\" fill=\"#000000\">entropy = 1.425</text>\n<text text-anchor=\"middle\" x=\"3874.5\" y=\"-260.8\" font-family=\"Helvetica,sans-Serif\" font-size=\"14.00\" fill=\"#000000\">samples = 81</text>\n<text text-anchor=\"middle\" x=\"3874.5\" y=\"-245.8\" font-family=\"Helvetica,sans-Serif\" font-size=\"14.00\" fill=\"#000000\">value = [0, 0, 0, 0, 0, 40, 30, 0, 0, 0, 0, 0, 0, 0</text>\n<text text-anchor=\"middle\" x=\"3874.5\" y=\"-230.8\" font-family=\"Helvetica,sans-Serif\" font-size=\"14.00\" fill=\"#000000\">0, 11]</text>\n</g>\n<!-- 22&#45;&gt;26 -->\n<g id=\"edge26\" class=\"edge\">\n<title>22&#45;&gt;26</title>\n<path fill=\"none\" stroke=\"#000000\" d=\"M3562.3025,-343.3779C3611.2502,-331.0111 3665.1602,-317.3905 3714.2074,-304.9985\"/>\n<polygon fill=\"#000000\" stroke=\"#000000\" points=\"3715.1112,-308.3803 3723.9491,-302.5373 3713.3964,-301.5935 3715.1112,-308.3803\"/>\n</g>\n<!-- 24 -->\n<g id=\"node25\" class=\"node\">\n<title>24</title>\n<polygon fill=\"none\" stroke=\"#000000\" points=\"3399,-179.5 3106,-179.5 3106,-111.5 3399,-111.5 3399,-179.5\"/>\n<text text-anchor=\"middle\" x=\"3252.5\" y=\"-164.3\" font-family=\"Helvetica,sans-Serif\" font-size=\"14.00\" fill=\"#000000\">entropy = 0.0</text>\n<text text-anchor=\"middle\" x=\"3252.5\" y=\"-149.3\" font-family=\"Helvetica,sans-Serif\" font-size=\"14.00\" fill=\"#000000\">samples = 41</text>\n<text text-anchor=\"middle\" x=\"3252.5\" y=\"-134.3\" font-family=\"Helvetica,sans-Serif\" font-size=\"14.00\" fill=\"#000000\">value = [0, 0, 0, 41, 0, 0, 0, 0, 0, 0, 0, 0, 0, 0</text>\n<text text-anchor=\"middle\" x=\"3252.5\" y=\"-119.3\" font-family=\"Helvetica,sans-Serif\" font-size=\"14.00\" fill=\"#000000\">0, 0]</text>\n</g>\n<!-- 23&#45;&gt;24 -->\n<g id=\"edge24\" class=\"edge\">\n<title>23&#45;&gt;24</title>\n<path fill=\"none\" stroke=\"#000000\" d=\"M3350.6875,-222.8796C3335.6183,-211.0038 3319.2197,-198.0804 3304.2166,-186.2568\"/>\n<polygon fill=\"#000000\" stroke=\"#000000\" points=\"3306.0631,-183.2557 3296.0425,-179.8149 3301.7302,-188.7536 3306.0631,-183.2557\"/>\n</g>\n<!-- 25 -->\n<g id=\"node26\" class=\"node\">\n<title>25</title>\n<polygon fill=\"none\" stroke=\"#000000\" points=\"3710,-179.5 3417,-179.5 3417,-111.5 3710,-111.5 3710,-179.5\"/>\n<text text-anchor=\"middle\" x=\"3563.5\" y=\"-164.3\" font-family=\"Helvetica,sans-Serif\" font-size=\"14.00\" fill=\"#000000\">entropy = 0.0</text>\n<text text-anchor=\"middle\" x=\"3563.5\" y=\"-149.3\" font-family=\"Helvetica,sans-Serif\" font-size=\"14.00\" fill=\"#000000\">samples = 47</text>\n<text text-anchor=\"middle\" x=\"3563.5\" y=\"-134.3\" font-family=\"Helvetica,sans-Serif\" font-size=\"14.00\" fill=\"#000000\">value = [0, 0, 0, 0, 47, 0, 0, 0, 0, 0, 0, 0, 0, 0</text>\n<text text-anchor=\"middle\" x=\"3563.5\" y=\"-119.3\" font-family=\"Helvetica,sans-Serif\" font-size=\"14.00\" fill=\"#000000\">0, 0]</text>\n</g>\n<!-- 23&#45;&gt;25 -->\n<g id=\"edge25\" class=\"edge\">\n<title>23&#45;&gt;25</title>\n<path fill=\"none\" stroke=\"#000000\" d=\"M3459.4602,-222.8796C3475.6522,-210.8368 3493.2927,-197.7167 3509.3708,-185.7586\"/>\n<polygon fill=\"#000000\" stroke=\"#000000\" points=\"3511.685,-188.3993 3517.6203,-179.623 3507.5075,-182.7825 3511.685,-188.3993\"/>\n</g>\n<!-- 27 -->\n<g id=\"node28\" class=\"node\">\n<title>27</title>\n<polygon fill=\"none\" stroke=\"#000000\" points=\"4021,-179.5 3728,-179.5 3728,-111.5 4021,-111.5 4021,-179.5\"/>\n<text text-anchor=\"middle\" x=\"3874.5\" y=\"-164.3\" font-family=\"Helvetica,sans-Serif\" font-size=\"14.00\" fill=\"#000000\">entropy = 0.0</text>\n<text text-anchor=\"middle\" x=\"3874.5\" y=\"-149.3\" font-family=\"Helvetica,sans-Serif\" font-size=\"14.00\" fill=\"#000000\">samples = 40</text>\n<text text-anchor=\"middle\" x=\"3874.5\" y=\"-134.3\" font-family=\"Helvetica,sans-Serif\" font-size=\"14.00\" fill=\"#000000\">value = [0, 0, 0, 0, 0, 40, 0, 0, 0, 0, 0, 0, 0, 0</text>\n<text text-anchor=\"middle\" x=\"3874.5\" y=\"-119.3\" font-family=\"Helvetica,sans-Serif\" font-size=\"14.00\" fill=\"#000000\">0, 0]</text>\n</g>\n<!-- 26&#45;&gt;27 -->\n<g id=\"edge27\" class=\"edge\">\n<title>26&#45;&gt;27</title>\n<path fill=\"none\" stroke=\"#000000\" d=\"M3874.5,-222.8796C3874.5,-212.2134 3874.5,-200.7021 3874.5,-189.9015\"/>\n<polygon fill=\"#000000\" stroke=\"#000000\" points=\"3878.0001,-189.8149 3874.5,-179.8149 3871.0001,-189.815 3878.0001,-189.8149\"/>\n</g>\n<!-- 28 -->\n<g id=\"node29\" class=\"node\">\n<title>28</title>\n<polygon fill=\"none\" stroke=\"#000000\" points=\"4332,-187 4039,-187 4039,-104 4332,-104 4332,-187\"/>\n<text text-anchor=\"middle\" x=\"4185.5\" y=\"-171.8\" font-family=\"Helvetica,sans-Serif\" font-size=\"14.00\" fill=\"#000000\">X[1] &lt;= 27.75</text>\n<text text-anchor=\"middle\" x=\"4185.5\" y=\"-156.8\" font-family=\"Helvetica,sans-Serif\" font-size=\"14.00\" fill=\"#000000\">entropy = 0.839</text>\n<text text-anchor=\"middle\" x=\"4185.5\" y=\"-141.8\" font-family=\"Helvetica,sans-Serif\" font-size=\"14.00\" fill=\"#000000\">samples = 41</text>\n<text text-anchor=\"middle\" x=\"4185.5\" y=\"-126.8\" font-family=\"Helvetica,sans-Serif\" font-size=\"14.00\" fill=\"#000000\">value = [0, 0, 0, 0, 0, 0, 30, 0, 0, 0, 0, 0, 0, 0</text>\n<text text-anchor=\"middle\" x=\"4185.5\" y=\"-111.8\" font-family=\"Helvetica,sans-Serif\" font-size=\"14.00\" fill=\"#000000\">0, 11]</text>\n</g>\n<!-- 26&#45;&gt;28 -->\n<g id=\"edge28\" class=\"edge\">\n<title>26&#45;&gt;28</title>\n<path fill=\"none\" stroke=\"#000000\" d=\"M3983.2727,-222.8796C4010.3799,-212.5074 4039.5755,-201.3361 4067.1206,-190.7963\"/>\n<polygon fill=\"#000000\" stroke=\"#000000\" points=\"4068.6999,-193.9395 4076.7887,-187.0969 4066.1983,-187.4018 4068.6999,-193.9395\"/>\n</g>\n<!-- 29 -->\n<g id=\"node30\" class=\"node\">\n<title>29</title>\n<polygon fill=\"none\" stroke=\"#000000\" points=\"4178,-68 3885,-68 3885,0 4178,0 4178,-68\"/>\n<text text-anchor=\"middle\" x=\"4031.5\" y=\"-52.8\" font-family=\"Helvetica,sans-Serif\" font-size=\"14.00\" fill=\"#000000\">entropy = 0.0</text>\n<text text-anchor=\"middle\" x=\"4031.5\" y=\"-37.8\" font-family=\"Helvetica,sans-Serif\" font-size=\"14.00\" fill=\"#000000\">samples = 30</text>\n<text text-anchor=\"middle\" x=\"4031.5\" y=\"-22.8\" font-family=\"Helvetica,sans-Serif\" font-size=\"14.00\" fill=\"#000000\">value = [0, 0, 0, 0, 0, 0, 30, 0, 0, 0, 0, 0, 0, 0</text>\n<text text-anchor=\"middle\" x=\"4031.5\" y=\"-7.8\" font-family=\"Helvetica,sans-Serif\" font-size=\"14.00\" fill=\"#000000\">0, 0]</text>\n</g>\n<!-- 28&#45;&gt;29 -->\n<g id=\"edge29\" class=\"edge\">\n<title>28&#45;&gt;29</title>\n<path fill=\"none\" stroke=\"#000000\" d=\"M4128.1561,-103.9815C4114.7006,-94.2394 4100.3869,-83.8759 4087.0133,-74.193\"/>\n<polygon fill=\"#000000\" stroke=\"#000000\" points=\"4088.9763,-71.2933 4078.8238,-68.2637 4084.8711,-76.9632 4088.9763,-71.2933\"/>\n</g>\n<!-- 30 -->\n<g id=\"node31\" class=\"node\">\n<title>30</title>\n<polygon fill=\"none\" stroke=\"#000000\" points=\"4480.5,-68 4196.5,-68 4196.5,0 4480.5,0 4480.5,-68\"/>\n<text text-anchor=\"middle\" x=\"4338.5\" y=\"-52.8\" font-family=\"Helvetica,sans-Serif\" font-size=\"14.00\" fill=\"#000000\">entropy = 0.0</text>\n<text text-anchor=\"middle\" x=\"4338.5\" y=\"-37.8\" font-family=\"Helvetica,sans-Serif\" font-size=\"14.00\" fill=\"#000000\">samples = 11</text>\n<text text-anchor=\"middle\" x=\"4338.5\" y=\"-22.8\" font-family=\"Helvetica,sans-Serif\" font-size=\"14.00\" fill=\"#000000\">value = [0, 0, 0, 0, 0, 0, 0, 0, 0, 0, 0, 0, 0, 0</text>\n<text text-anchor=\"middle\" x=\"4338.5\" y=\"-7.8\" font-family=\"Helvetica,sans-Serif\" font-size=\"14.00\" fill=\"#000000\">0, 11]</text>\n</g>\n<!-- 28&#45;&gt;30 -->\n<g id=\"edge30\" class=\"edge\">\n<title>28&#45;&gt;30</title>\n<path fill=\"none\" stroke=\"#000000\" d=\"M4242.4716,-103.9815C4255.8396,-94.2394 4270.0604,-83.8759 4283.3472,-74.193\"/>\n<polygon fill=\"#000000\" stroke=\"#000000\" points=\"4285.4632,-76.9819 4291.4835,-68.2637 4281.3405,-71.3247 4285.4632,-76.9819\"/>\n</g>\n</g>\n</svg>\n"
          },
          "metadata": {},
          "execution_count": 8
        }
      ]
    },
    {
      "cell_type": "code",
      "source": [
        "# As our model has been trained....\n",
        "#Now we can validate our Decision tree using cross validation method to get the accuracy or performance score of our model.\n",
        "\n",
        "print('Accuracy score is:',cross_val_score(kangkung_clf, Xt, Yt, cv=3, scoring='accuracy').mean())"
      ],
      "metadata": {
        "colab": {
          "base_uri": "https://localhost:8080/"
        },
        "id": "kblie7Ji96fi",
        "outputId": "5c7889a7-0d4a-4ea3-dfdc-6f381ceedeb6"
      },
      "execution_count": 9,
      "outputs": [
        {
          "output_type": "stream",
          "name": "stdout",
          "text": [
            "Accuracy score is: 1.0\n"
          ]
        }
      ]
    },
    {
      "cell_type": "code",
      "source": [
        "#Checking validation test data on our trained model and getting performance metrices\n",
        "\n",
        "from sklearn.metrics import multilabel_confusion_matrix, accuracy_score\n",
        "\n",
        "Y_hat = kangkung_clf.predict(Xcv)\n",
        "\n",
        "\n",
        "print('Accuracy score for validation test data is:',accuracy_score(Ycv, Y_hat))\n",
        "multilabel_confusion_matrix(Ycv , Y_hat)"
      ],
      "metadata": {
        "colab": {
          "base_uri": "https://localhost:8080/"
        },
        "id": "F5h2-Nuk9-AD",
        "outputId": "48bf5c1c-fdc2-487b-b6bd-f4911e4c66cc"
      },
      "execution_count": 10,
      "outputs": [
        {
          "output_type": "stream",
          "name": "stdout",
          "text": [
            "Accuracy score for validation test data is: 1.0\n"
          ]
        },
        {
          "output_type": "execute_result",
          "data": {
            "text/plain": [
              "array([[[63,  0],\n",
              "        [ 0,  5]],\n",
              "\n",
              "       [[63,  0],\n",
              "        [ 0,  5]],\n",
              "\n",
              "       [[62,  0],\n",
              "        [ 0,  6]],\n",
              "\n",
              "       [[64,  0],\n",
              "        [ 0,  4]],\n",
              "\n",
              "       [[63,  0],\n",
              "        [ 0,  5]],\n",
              "\n",
              "       [[65,  0],\n",
              "        [ 0,  3]],\n",
              "\n",
              "       [[65,  0],\n",
              "        [ 0,  3]],\n",
              "\n",
              "       [[65,  0],\n",
              "        [ 0,  3]],\n",
              "\n",
              "       [[61,  0],\n",
              "        [ 0,  7]],\n",
              "\n",
              "       [[64,  0],\n",
              "        [ 0,  4]],\n",
              "\n",
              "       [[63,  0],\n",
              "        [ 0,  5]],\n",
              "\n",
              "       [[61,  0],\n",
              "        [ 0,  7]],\n",
              "\n",
              "       [[62,  0],\n",
              "        [ 0,  6]],\n",
              "\n",
              "       [[64,  0],\n",
              "        [ 0,  4]],\n",
              "\n",
              "       [[67,  0],\n",
              "        [ 0,  1]]])"
            ]
          },
          "metadata": {},
          "execution_count": 10
        }
      ]
    },
    {
      "cell_type": "code",
      "source": [
        "#Checking our model performance on actual unseen test data.. \n",
        "YT_hat = kangkung_clf.predict(Xtest)\n",
        "YT_hat\n",
        "\n",
        "print('Model Accuracy Score on totally unseen data(Xtest) is:',accuracy_score(Ytest, YT_hat)*100,'%')\n",
        "multilabel_confusion_matrix(Ytest , YT_hat)"
      ],
      "metadata": {
        "colab": {
          "base_uri": "https://localhost:8080/"
        },
        "id": "Mv4qVeyH-S1T",
        "outputId": "2be4decf-528b-4df2-ba13-1c58c42ba2b0"
      },
      "execution_count": 11,
      "outputs": [
        {
          "output_type": "stream",
          "name": "stdout",
          "text": [
            "Model Accuracy Score on totally unseen data(Xtest) is: 100.0 %\n"
          ]
        },
        {
          "output_type": "execute_result",
          "data": {
            "text/plain": [
              "array([[[270,   0],\n",
              "        [  0,  18]],\n",
              "\n",
              "       [[264,   0],\n",
              "        [  0,  24]],\n",
              "\n",
              "       [[270,   0],\n",
              "        [  0,  18]],\n",
              "\n",
              "       [[269,   0],\n",
              "        [  0,  19]],\n",
              "\n",
              "       [[276,   0],\n",
              "        [  0,  12]],\n",
              "\n",
              "       [[267,   0],\n",
              "        [  0,  21]],\n",
              "\n",
              "       [[273,   0],\n",
              "        [  0,  15]],\n",
              "\n",
              "       [[267,   0],\n",
              "        [  0,  21]],\n",
              "\n",
              "       [[279,   0],\n",
              "        [  0,   9]],\n",
              "\n",
              "       [[268,   0],\n",
              "        [  0,  20]],\n",
              "\n",
              "       [[265,   0],\n",
              "        [  0,  23]],\n",
              "\n",
              "       [[264,   0],\n",
              "        [  0,  24]],\n",
              "\n",
              "       [[277,   0],\n",
              "        [  0,  11]],\n",
              "\n",
              "       [[263,   0],\n",
              "        [  0,  25]],\n",
              "\n",
              "       [[265,   0],\n",
              "        [  0,  23]],\n",
              "\n",
              "       [[283,   0],\n",
              "        [  0,   5]]])"
            ]
          },
          "metadata": {},
          "execution_count": 11
        }
      ]
    },
    {
      "cell_type": "code",
      "source": [
        "'''Training model on Actual train data... '''\n",
        "kangkung_Fclf = DecisionTreeClassifier(criterion='gini',min_samples_split=2)\n",
        "kangkung_Fclf.fit(Xtrain, Ytrain)\n",
        "\n",
        "#Visualize tree structure..\n",
        "tree.plot_tree(kangkung_Fclf)"
      ],
      "metadata": {
        "colab": {
          "base_uri": "https://localhost:8080/",
          "height": 786
        },
        "id": "ejFNnwdH-mHm",
        "outputId": "6d96aa29-63d8-4b17-fea9-75447bdca121"
      },
      "execution_count": 18,
      "outputs": [
        {
          "output_type": "execute_result",
          "data": {
            "text/plain": [
              "[Text(0.3125, 0.9375, 'X[0] <= 7.25\\ngini = 0.934\\nsamples = 672\\nvalue = [46, 40, 46, 45, 52, 43, 33, 43, 55, 44, 41, 40\\n53, 39, 41, 11]'),\n",
              " Text(0.15, 0.8125, 'X[1] <= 5.75\\ngini = 0.663\\nsamples = 144\\nvalue = [46, 0, 0, 0, 0, 0, 0, 43, 55, 0, 0, 0, 0, 0\\n0, 0]'),\n",
              " Text(0.1, 0.6875, 'X[1] <= 5.25\\ngini = 0.499\\nsamples = 89\\nvalue = [46, 0, 0, 0, 0, 0, 0, 43, 0, 0, 0, 0, 0, 0\\n0, 0]'),\n",
              " Text(0.05, 0.5625, 'gini = 0.0\\nsamples = 46\\nvalue = [46, 0, 0, 0, 0, 0, 0, 0, 0, 0, 0, 0, 0, 0\\n0, 0]'),\n",
              " Text(0.15, 0.5625, 'gini = 0.0\\nsamples = 43\\nvalue = [0, 0, 0, 0, 0, 0, 0, 43, 0, 0, 0, 0, 0, 0\\n0, 0]'),\n",
              " Text(0.2, 0.6875, 'gini = 0.0\\nsamples = 55\\nvalue = [0, 0, 0, 0, 0, 0, 0, 0, 55, 0, 0, 0, 0, 0\\n0, 0]'),\n",
              " Text(0.475, 0.8125, 'X[1] <= 11.5\\ngini = 0.918\\nsamples = 528\\nvalue = [0, 40, 46, 45, 52, 43, 33, 0, 0, 44, 41, 40\\n53, 39, 41, 11]'),\n",
              " Text(0.3, 0.6875, 'X[0] <= 10.75\\ngini = 0.747\\nsamples = 178\\nvalue = [0, 0, 0, 0, 0, 0, 0, 0, 0, 44, 41, 40, 53, 0\\n0, 0]'),\n",
              " Text(0.25, 0.5625, 'X[1] <= 6.75\\ngini = 0.666\\nsamples = 125\\nvalue = [0, 0, 0, 0, 0, 0, 0, 0, 0, 44, 41, 40, 0, 0\\n0, 0]'),\n",
              " Text(0.2, 0.4375, 'gini = 0.0\\nsamples = 44\\nvalue = [0, 0, 0, 0, 0, 0, 0, 0, 0, 44, 0, 0, 0, 0\\n0, 0]'),\n",
              " Text(0.3, 0.4375, 'X[1] <= 7.25\\ngini = 0.5\\nsamples = 81\\nvalue = [0, 0, 0, 0, 0, 0, 0, 0, 0, 0, 41, 40, 0, 0\\n0, 0]'),\n",
              " Text(0.25, 0.3125, 'gini = 0.0\\nsamples = 41\\nvalue = [0, 0, 0, 0, 0, 0, 0, 0, 0, 0, 41, 0, 0, 0\\n0, 0]'),\n",
              " Text(0.35, 0.3125, 'gini = 0.0\\nsamples = 40\\nvalue = [0, 0, 0, 0, 0, 0, 0, 0, 0, 0, 0, 40, 0, 0\\n0, 0]'),\n",
              " Text(0.35, 0.5625, 'gini = 0.0\\nsamples = 53\\nvalue = [0, 0, 0, 0, 0, 0, 0, 0, 0, 0, 0, 0, 53, 0\\n0, 0]'),\n",
              " Text(0.65, 0.6875, 'X[0] <= 19.75\\ngini = 0.88\\nsamples = 350\\nvalue = [0, 40, 46, 45, 52, 43, 33, 0, 0, 0, 0, 0, 0\\n39, 41, 11]'),\n",
              " Text(0.55, 0.5625, 'X[1] <= 17.5\\ngini = 0.749\\nsamples = 166\\nvalue = [0, 40, 46, 0, 0, 0, 0, 0, 0, 0, 0, 0, 0, 39\\n41, 0]'),\n",
              " Text(0.5, 0.4375, 'X[1] <= 14.75\\ngini = 0.667\\nsamples = 120\\nvalue = [0, 40, 0, 0, 0, 0, 0, 0, 0, 0, 0, 0, 0, 39\\n41, 0]'),\n",
              " Text(0.45, 0.3125, 'X[0] <= 13.25\\ngini = 0.5\\nsamples = 80\\nvalue = [0, 0, 0, 0, 0, 0, 0, 0, 0, 0, 0, 0, 0, 39\\n41, 0]'),\n",
              " Text(0.4, 0.1875, 'gini = 0.0\\nsamples = 39\\nvalue = [0, 0, 0, 0, 0, 0, 0, 0, 0, 0, 0, 0, 0, 39\\n0, 0]'),\n",
              " Text(0.5, 0.1875, 'gini = 0.0\\nsamples = 41\\nvalue = [0, 0, 0, 0, 0, 0, 0, 0, 0, 0, 0, 0, 0, 0\\n41, 0]'),\n",
              " Text(0.55, 0.3125, 'gini = 0.0\\nsamples = 40\\nvalue = [0, 40, 0, 0, 0, 0, 0, 0, 0, 0, 0, 0, 0, 0\\n0, 0]'),\n",
              " Text(0.6, 0.4375, 'gini = 0.0\\nsamples = 46\\nvalue = [0, 0, 46, 0, 0, 0, 0, 0, 0, 0, 0, 0, 0, 0\\n0, 0]'),\n",
              " Text(0.75, 0.5625, 'X[0] <= 21.25\\ngini = 0.77\\nsamples = 184\\nvalue = [0, 0, 0, 45, 52, 43, 33, 0, 0, 0, 0, 0, 0, 0\\n0, 11]'),\n",
              " Text(0.7, 0.4375, 'gini = 0.0\\nsamples = 45\\nvalue = [0, 0, 0, 45, 0, 0, 0, 0, 0, 0, 0, 0, 0, 0\\n0, 0]'),\n",
              " Text(0.8, 0.4375, 'X[0] <= 23.0\\ngini = 0.702\\nsamples = 139\\nvalue = [0, 0, 0, 0, 52, 43, 33, 0, 0, 0, 0, 0, 0, 0\\n0, 11]'),\n",
              " Text(0.75, 0.3125, 'gini = 0.0\\nsamples = 52\\nvalue = [0, 0, 0, 0, 52, 0, 0, 0, 0, 0, 0, 0, 0, 0\\n0, 0]'),\n",
              " Text(0.85, 0.3125, 'X[0] <= 23.75\\ngini = 0.596\\nsamples = 87\\nvalue = [0, 0, 0, 0, 0, 43, 33, 0, 0, 0, 0, 0, 0, 0\\n0, 11]'),\n",
              " Text(0.8, 0.1875, 'gini = 0.0\\nsamples = 43\\nvalue = [0, 0, 0, 0, 0, 43, 0, 0, 0, 0, 0, 0, 0, 0\\n0, 0]'),\n",
              " Text(0.9, 0.1875, 'X[1] <= 27.75\\ngini = 0.375\\nsamples = 44\\nvalue = [0, 0, 0, 0, 0, 0, 33, 0, 0, 0, 0, 0, 0, 0\\n0, 11]'),\n",
              " Text(0.85, 0.0625, 'gini = 0.0\\nsamples = 33\\nvalue = [0, 0, 0, 0, 0, 0, 33, 0, 0, 0, 0, 0, 0, 0\\n0, 0]'),\n",
              " Text(0.95, 0.0625, 'gini = 0.0\\nsamples = 11\\nvalue = [0, 0, 0, 0, 0, 0, 0, 0, 0, 0, 0, 0, 0, 0\\n0, 11]')]"
            ]
          },
          "metadata": {},
          "execution_count": 18
        },
        {
          "output_type": "display_data",
          "data": {
            "text/plain": [
              "<Figure size 432x288 with 1 Axes>"
            ],
            "image/png": "[encoded data removed]"
          },
          "metadata": {}
        }
      ]
    },
    {
      "cell_type": "code",
      "source": [
        "#Final Decision tree build for deploying in real world cases....\n",
        "\n",
        "dot_data = tree.export_graphviz(kangkung_Fclf, out_file=None)\n",
        "graph = graphviz.Source(dot_data)\n",
        "graph"
      ],
      "metadata": {
        "colab": {
          "base_uri": "https://localhost:8080/",
          "height": 1000
        },
        "id": "rIoXOQjV-v-3",
        "outputId": "ec360240-013f-4320-cef8-05669cce803d"
      },
      "execution_count": 19,
      "outputs": [
        {
          "output_type": "execute_result",
          "data": {
            "text/plain": [
              "<graphviz.files.Source at 0x7f88a469a810>"
            ],
            "image/svg+xml": "<?xml version=\"1.0\" encoding=\"UTF-8\" standalone=\"no\"?>\n<!DOCTYPE svg PUBLIC \"-//W3C//DTD SVG 1.1//EN\"\n \"http://www.w3.org/Graphics/SVG/1.1/DTD/svg11.dtd\">\n<!-- Generated by graphviz version 2.40.1 (20161225.0304)\n -->\n<!-- Title: Tree Pages: 1 -->\n<svg width=\"2691pt\" height=\"909pt\"\n viewBox=\"0.00 0.00 2690.50 909.00\" xmlns=\"http://www.w3.org/2000/svg\" xmlns:xlink=\"http://www.w3.org/1999/xlink\">\n<g id=\"graph0\" class=\"graph\" transform=\"scale(1 1) rotate(0) translate(4 905)\">\n<title>Tree</title>\n<polygon fill=\"#ffffff\" stroke=\"transparent\" points=\"-4,4 -4,-905 2686.5,-905 2686.5,4 -4,4\"/>\n<!-- 0 -->\n<g id=\"node1\" class=\"node\">\n<title>0</title>\n<polygon fill=\"none\" stroke=\"#000000\" points=\"1109.5,-901 757.5,-901 757.5,-818 1109.5,-818 1109.5,-901\"/>\n<text text-anchor=\"middle\" x=\"933.5\" y=\"-885.8\" font-family=\"Helvetica,sans-Serif\" font-size=\"14.00\" fill=\"#000000\">X[0] &lt;= 7.25</text>\n<text text-anchor=\"middle\" x=\"933.5\" y=\"-870.8\" font-family=\"Helvetica,sans-Serif\" font-size=\"14.00\" fill=\"#000000\">gini = 0.934</text>\n<text text-anchor=\"middle\" x=\"933.5\" y=\"-855.8\" font-family=\"Helvetica,sans-Serif\" font-size=\"14.00\" fill=\"#000000\">samples = 672</text>\n<text text-anchor=\"middle\" x=\"933.5\" y=\"-840.8\" font-family=\"Helvetica,sans-Serif\" font-size=\"14.00\" fill=\"#000000\">value = [46, 40, 46, 45, 52, 43, 33, 43, 55, 44, 41, 40</text>\n<text text-anchor=\"middle\" x=\"933.5\" y=\"-825.8\" font-family=\"Helvetica,sans-Serif\" font-size=\"14.00\" fill=\"#000000\">53, 39, 41, 11]</text>\n</g>\n<!-- 1 -->\n<g id=\"node2\" class=\"node\">\n<title>1</title>\n<polygon fill=\"none\" stroke=\"#000000\" points=\"920,-782 611,-782 611,-699 920,-699 920,-782\"/>\n<text text-anchor=\"middle\" x=\"765.5\" y=\"-766.8\" font-family=\"Helvetica,sans-Serif\" font-size=\"14.00\" fill=\"#000000\">X[1] &lt;= 5.75</text>\n<text text-anchor=\"middle\" x=\"765.5\" y=\"-751.8\" font-family=\"Helvetica,sans-Serif\" font-size=\"14.00\" fill=\"#000000\">gini = 0.663</text>\n<text text-anchor=\"middle\" x=\"765.5\" y=\"-736.8\" font-family=\"Helvetica,sans-Serif\" font-size=\"14.00\" fill=\"#000000\">samples = 144</text>\n<text text-anchor=\"middle\" x=\"765.5\" y=\"-721.8\" font-family=\"Helvetica,sans-Serif\" font-size=\"14.00\" fill=\"#000000\">value = [46, 0, 0, 0, 0, 0, 0, 43, 55, 0, 0, 0, 0, 0</text>\n<text text-anchor=\"middle\" x=\"765.5\" y=\"-706.8\" font-family=\"Helvetica,sans-Serif\" font-size=\"14.00\" fill=\"#000000\">0, 0]</text>\n</g>\n<!-- 0&#45;&gt;1 -->\n<g id=\"edge1\" class=\"edge\">\n<title>0&#45;&gt;1</title>\n<path fill=\"none\" stroke=\"#000000\" d=\"M874.7418,-817.8796C861.1857,-808.2774 846.6628,-797.9903 832.7754,-788.1534\"/>\n<polygon fill=\"#000000\" stroke=\"#000000\" points=\"834.4084,-785.021 824.2251,-782.0969 830.3623,-790.7332 834.4084,-785.021\"/>\n<text text-anchor=\"middle\" x=\"828.4325\" y=\"-803.0403\" font-family=\"Helvetica,sans-Serif\" font-size=\"14.00\" fill=\"#000000\">True</text>\n</g>\n<!-- 6 -->\n<g id=\"node7\" class=\"node\">\n<title>6</title>\n<polygon fill=\"none\" stroke=\"#000000\" points=\"1265,-782 938,-782 938,-699 1265,-699 1265,-782\"/>\n<text text-anchor=\"middle\" x=\"1101.5\" y=\"-766.8\" font-family=\"Helvetica,sans-Serif\" font-size=\"14.00\" fill=\"#000000\">X[1] &lt;= 11.5</text>\n<text text-anchor=\"middle\" x=\"1101.5\" y=\"-751.8\" font-family=\"Helvetica,sans-Serif\" font-size=\"14.00\" fill=\"#000000\">gini = 0.918</text>\n<text text-anchor=\"middle\" x=\"1101.5\" y=\"-736.8\" font-family=\"Helvetica,sans-Serif\" font-size=\"14.00\" fill=\"#000000\">samples = 528</text>\n<text text-anchor=\"middle\" x=\"1101.5\" y=\"-721.8\" font-family=\"Helvetica,sans-Serif\" font-size=\"14.00\" fill=\"#000000\">value = [0, 40, 46, 45, 52, 43, 33, 0, 0, 44, 41, 40</text>\n<text text-anchor=\"middle\" x=\"1101.5\" y=\"-706.8\" font-family=\"Helvetica,sans-Serif\" font-size=\"14.00\" fill=\"#000000\">53, 39, 41, 11]</text>\n</g>\n<!-- 0&#45;&gt;6 -->\n<g id=\"edge6\" class=\"edge\">\n<title>0&#45;&gt;6</title>\n<path fill=\"none\" stroke=\"#000000\" d=\"M992.2582,-817.8796C1005.8143,-808.2774 1020.3372,-797.9903 1034.2246,-788.1534\"/>\n<polygon fill=\"#000000\" stroke=\"#000000\" points=\"1036.6377,-790.7332 1042.7749,-782.0969 1032.5916,-785.021 1036.6377,-790.7332\"/>\n<text text-anchor=\"middle\" x=\"1038.5675\" y=\"-803.0403\" font-family=\"Helvetica,sans-Serif\" font-size=\"14.00\" fill=\"#000000\">False</text>\n</g>\n<!-- 2 -->\n<g id=\"node3\" class=\"node\">\n<title>2</title>\n<polygon fill=\"none\" stroke=\"#000000\" points=\"605,-663 304,-663 304,-580 605,-580 605,-663\"/>\n<text text-anchor=\"middle\" x=\"454.5\" y=\"-647.8\" font-family=\"Helvetica,sans-Serif\" font-size=\"14.00\" fill=\"#000000\">X[1] &lt;= 5.25</text>\n<text text-anchor=\"middle\" x=\"454.5\" y=\"-632.8\" font-family=\"Helvetica,sans-Serif\" font-size=\"14.00\" fill=\"#000000\">gini = 0.499</text>\n<text text-anchor=\"middle\" x=\"454.5\" y=\"-617.8\" font-family=\"Helvetica,sans-Serif\" font-size=\"14.00\" fill=\"#000000\">samples = 89</text>\n<text text-anchor=\"middle\" x=\"454.5\" y=\"-602.8\" font-family=\"Helvetica,sans-Serif\" font-size=\"14.00\" fill=\"#000000\">value = [46, 0, 0, 0, 0, 0, 0, 43, 0, 0, 0, 0, 0, 0</text>\n<text text-anchor=\"middle\" x=\"454.5\" y=\"-587.8\" font-family=\"Helvetica,sans-Serif\" font-size=\"14.00\" fill=\"#000000\">0, 0]</text>\n</g>\n<!-- 1&#45;&gt;2 -->\n<g id=\"edge2\" class=\"edge\">\n<title>1&#45;&gt;2</title>\n<path fill=\"none\" stroke=\"#000000\" d=\"M656.7273,-698.8796C629.6201,-688.5074 600.4245,-677.3361 572.8794,-666.7963\"/>\n<polygon fill=\"#000000\" stroke=\"#000000\" points=\"573.8017,-663.4018 563.2113,-663.0969 571.3001,-669.9395 573.8017,-663.4018\"/>\n</g>\n<!-- 5 -->\n<g id=\"node6\" class=\"node\">\n<title>5</title>\n<polygon fill=\"none\" stroke=\"#000000\" points=\"916,-655.5 623,-655.5 623,-587.5 916,-587.5 916,-655.5\"/>\n<text text-anchor=\"middle\" x=\"769.5\" y=\"-640.3\" font-family=\"Helvetica,sans-Serif\" font-size=\"14.00\" fill=\"#000000\">gini = 0.0</text>\n<text text-anchor=\"middle\" x=\"769.5\" y=\"-625.3\" font-family=\"Helvetica,sans-Serif\" font-size=\"14.00\" fill=\"#000000\">samples = 55</text>\n<text text-anchor=\"middle\" x=\"769.5\" y=\"-610.3\" font-family=\"Helvetica,sans-Serif\" font-size=\"14.00\" fill=\"#000000\">value = [0, 0, 0, 0, 0, 0, 0, 0, 55, 0, 0, 0, 0, 0</text>\n<text text-anchor=\"middle\" x=\"769.5\" y=\"-595.3\" font-family=\"Helvetica,sans-Serif\" font-size=\"14.00\" fill=\"#000000\">0, 0]</text>\n</g>\n<!-- 1&#45;&gt;5 -->\n<g id=\"edge5\" class=\"edge\">\n<title>1&#45;&gt;5</title>\n<path fill=\"none\" stroke=\"#000000\" d=\"M766.899,-698.8796C767.2575,-688.2134 767.6445,-676.7021 768.0075,-665.9015\"/>\n<polygon fill=\"#000000\" stroke=\"#000000\" points=\"771.5085,-665.9269 768.3466,-655.8149 764.5125,-665.6917 771.5085,-665.9269\"/>\n</g>\n<!-- 3 -->\n<g id=\"node4\" class=\"node\">\n<title>3</title>\n<polygon fill=\"none\" stroke=\"#000000\" points=\"293,-536.5 0,-536.5 0,-468.5 293,-468.5 293,-536.5\"/>\n<text text-anchor=\"middle\" x=\"146.5\" y=\"-521.3\" font-family=\"Helvetica,sans-Serif\" font-size=\"14.00\" fill=\"#000000\">gini = 0.0</text>\n<text text-anchor=\"middle\" x=\"146.5\" y=\"-506.3\" font-family=\"Helvetica,sans-Serif\" font-size=\"14.00\" fill=\"#000000\">samples = 46</text>\n<text text-anchor=\"middle\" x=\"146.5\" y=\"-491.3\" font-family=\"Helvetica,sans-Serif\" font-size=\"14.00\" fill=\"#000000\">value = [46, 0, 0, 0, 0, 0, 0, 0, 0, 0, 0, 0, 0, 0</text>\n<text text-anchor=\"middle\" x=\"146.5\" y=\"-476.3\" font-family=\"Helvetica,sans-Serif\" font-size=\"14.00\" fill=\"#000000\">0, 0]</text>\n</g>\n<!-- 2&#45;&gt;3 -->\n<g id=\"edge3\" class=\"edge\">\n<title>2&#45;&gt;3</title>\n<path fill=\"none\" stroke=\"#000000\" d=\"M346.7765,-579.8796C313.4622,-567.0081 276.9627,-552.9061 244.3544,-540.3074\"/>\n<polygon fill=\"#000000\" stroke=\"#000000\" points=\"245.4079,-536.9623 234.8184,-536.623 242.885,-543.4919 245.4079,-536.9623\"/>\n</g>\n<!-- 4 -->\n<g id=\"node5\" class=\"node\">\n<title>4</title>\n<polygon fill=\"none\" stroke=\"#000000\" points=\"604,-536.5 311,-536.5 311,-468.5 604,-468.5 604,-536.5\"/>\n<text text-anchor=\"middle\" x=\"457.5\" y=\"-521.3\" font-family=\"Helvetica,sans-Serif\" font-size=\"14.00\" fill=\"#000000\">gini = 0.0</text>\n<text text-anchor=\"middle\" x=\"457.5\" y=\"-506.3\" font-family=\"Helvetica,sans-Serif\" font-size=\"14.00\" fill=\"#000000\">samples = 43</text>\n<text text-anchor=\"middle\" x=\"457.5\" y=\"-491.3\" font-family=\"Helvetica,sans-Serif\" font-size=\"14.00\" fill=\"#000000\">value = [0, 0, 0, 0, 0, 0, 0, 43, 0, 0, 0, 0, 0, 0</text>\n<text text-anchor=\"middle\" x=\"457.5\" y=\"-476.3\" font-family=\"Helvetica,sans-Serif\" font-size=\"14.00\" fill=\"#000000\">0, 0]</text>\n</g>\n<!-- 2&#45;&gt;4 -->\n<g id=\"edge4\" class=\"edge\">\n<title>2&#45;&gt;4</title>\n<path fill=\"none\" stroke=\"#000000\" d=\"M455.5493,-579.8796C455.8182,-569.2134 456.1084,-557.7021 456.3806,-546.9015\"/>\n<polygon fill=\"#000000\" stroke=\"#000000\" points=\"459.8817,-546.9 456.6349,-536.8149 452.8839,-546.7235 459.8817,-546.9\"/>\n</g>\n<!-- 7 -->\n<g id=\"node8\" class=\"node\">\n<title>7</title>\n<polygon fill=\"none\" stroke=\"#000000\" points=\"1256,-663 939,-663 939,-580 1256,-580 1256,-663\"/>\n<text text-anchor=\"middle\" x=\"1097.5\" y=\"-647.8\" font-family=\"Helvetica,sans-Serif\" font-size=\"14.00\" fill=\"#000000\">X[0] &lt;= 10.75</text>\n<text text-anchor=\"middle\" x=\"1097.5\" y=\"-632.8\" font-family=\"Helvetica,sans-Serif\" font-size=\"14.00\" fill=\"#000000\">gini = 0.747</text>\n<text text-anchor=\"middle\" x=\"1097.5\" y=\"-617.8\" font-family=\"Helvetica,sans-Serif\" font-size=\"14.00\" fill=\"#000000\">samples = 178</text>\n<text text-anchor=\"middle\" x=\"1097.5\" y=\"-602.8\" font-family=\"Helvetica,sans-Serif\" font-size=\"14.00\" fill=\"#000000\">value = [0, 0, 0, 0, 0, 0, 0, 0, 0, 44, 41, 40, 53, 0</text>\n<text text-anchor=\"middle\" x=\"1097.5\" y=\"-587.8\" font-family=\"Helvetica,sans-Serif\" font-size=\"14.00\" fill=\"#000000\">0, 0]</text>\n</g>\n<!-- 6&#45;&gt;7 -->\n<g id=\"edge7\" class=\"edge\">\n<title>6&#45;&gt;7</title>\n<path fill=\"none\" stroke=\"#000000\" d=\"M1100.101,-698.8796C1099.8255,-690.6838 1099.5332,-681.9891 1099.2479,-673.5013\"/>\n<polygon fill=\"#000000\" stroke=\"#000000\" points=\"1102.739,-673.1748 1098.905,-663.2981 1095.743,-673.41 1102.739,-673.1748\"/>\n</g>\n<!-- 14 -->\n<g id=\"node15\" class=\"node\">\n<title>14</title>\n<polygon fill=\"none\" stroke=\"#000000\" points=\"1592.5,-663 1274.5,-663 1274.5,-580 1592.5,-580 1592.5,-663\"/>\n<text text-anchor=\"middle\" x=\"1433.5\" y=\"-647.8\" font-family=\"Helvetica,sans-Serif\" font-size=\"14.00\" fill=\"#000000\">X[0] &lt;= 19.75</text>\n<text text-anchor=\"middle\" x=\"1433.5\" y=\"-632.8\" font-family=\"Helvetica,sans-Serif\" font-size=\"14.00\" fill=\"#000000\">gini = 0.88</text>\n<text text-anchor=\"middle\" x=\"1433.5\" y=\"-617.8\" font-family=\"Helvetica,sans-Serif\" font-size=\"14.00\" fill=\"#000000\">samples = 350</text>\n<text text-anchor=\"middle\" x=\"1433.5\" y=\"-602.8\" font-family=\"Helvetica,sans-Serif\" font-size=\"14.00\" fill=\"#000000\">value = [0, 40, 46, 45, 52, 43, 33, 0, 0, 0, 0, 0, 0</text>\n<text text-anchor=\"middle\" x=\"1433.5\" y=\"-587.8\" font-family=\"Helvetica,sans-Serif\" font-size=\"14.00\" fill=\"#000000\">39, 41, 11]</text>\n</g>\n<!-- 6&#45;&gt;14 -->\n<g id=\"edge14\" class=\"edge\">\n<title>6&#45;&gt;14</title>\n<path fill=\"none\" stroke=\"#000000\" d=\"M1217.6175,-698.8796C1246.8077,-688.4168 1278.2666,-677.1409 1307.8972,-666.5203\"/>\n<polygon fill=\"#000000\" stroke=\"#000000\" points=\"1309.2155,-669.7659 1317.4481,-663.0969 1306.8535,-663.1764 1309.2155,-669.7659\"/>\n</g>\n<!-- 8 -->\n<g id=\"node9\" class=\"node\">\n<title>8</title>\n<polygon fill=\"none\" stroke=\"#000000\" points=\"937,-544 628,-544 628,-461 937,-461 937,-544\"/>\n<text text-anchor=\"middle\" x=\"782.5\" y=\"-528.8\" font-family=\"Helvetica,sans-Serif\" font-size=\"14.00\" fill=\"#000000\">X[1] &lt;= 6.75</text>\n<text text-anchor=\"middle\" x=\"782.5\" y=\"-513.8\" font-family=\"Helvetica,sans-Serif\" font-size=\"14.00\" fill=\"#000000\">gini = 0.666</text>\n<text text-anchor=\"middle\" x=\"782.5\" y=\"-498.8\" font-family=\"Helvetica,sans-Serif\" font-size=\"14.00\" fill=\"#000000\">samples = 125</text>\n<text text-anchor=\"middle\" x=\"782.5\" y=\"-483.8\" font-family=\"Helvetica,sans-Serif\" font-size=\"14.00\" fill=\"#000000\">value = [0, 0, 0, 0, 0, 0, 0, 0, 0, 44, 41, 40, 0, 0</text>\n<text text-anchor=\"middle\" x=\"782.5\" y=\"-468.8\" font-family=\"Helvetica,sans-Serif\" font-size=\"14.00\" fill=\"#000000\">0, 0]</text>\n</g>\n<!-- 7&#45;&gt;8 -->\n<g id=\"edge8\" class=\"edge\">\n<title>7&#45;&gt;8</title>\n<path fill=\"none\" stroke=\"#000000\" d=\"M987.3283,-579.8796C959.7526,-569.4621 930.0431,-558.2385 902.0365,-547.6582\"/>\n<polygon fill=\"#000000\" stroke=\"#000000\" points=\"903.2012,-544.3568 892.6095,-544.0969 900.7273,-550.9051 903.2012,-544.3568\"/>\n</g>\n<!-- 13 -->\n<g id=\"node14\" class=\"node\">\n<title>13</title>\n<polygon fill=\"none\" stroke=\"#000000\" points=\"1248,-536.5 955,-536.5 955,-468.5 1248,-468.5 1248,-536.5\"/>\n<text text-anchor=\"middle\" x=\"1101.5\" y=\"-521.3\" font-family=\"Helvetica,sans-Serif\" font-size=\"14.00\" fill=\"#000000\">gini = 0.0</text>\n<text text-anchor=\"middle\" x=\"1101.5\" y=\"-506.3\" font-family=\"Helvetica,sans-Serif\" font-size=\"14.00\" fill=\"#000000\">samples = 53</text>\n<text text-anchor=\"middle\" x=\"1101.5\" y=\"-491.3\" font-family=\"Helvetica,sans-Serif\" font-size=\"14.00\" fill=\"#000000\">value = [0, 0, 0, 0, 0, 0, 0, 0, 0, 0, 0, 0, 53, 0</text>\n<text text-anchor=\"middle\" x=\"1101.5\" y=\"-476.3\" font-family=\"Helvetica,sans-Serif\" font-size=\"14.00\" fill=\"#000000\">0, 0]</text>\n</g>\n<!-- 7&#45;&gt;13 -->\n<g id=\"edge13\" class=\"edge\">\n<title>7&#45;&gt;13</title>\n<path fill=\"none\" stroke=\"#000000\" d=\"M1098.899,-579.8796C1099.2575,-569.2134 1099.6445,-557.7021 1100.0075,-546.9015\"/>\n<polygon fill=\"#000000\" stroke=\"#000000\" points=\"1103.5085,-546.9269 1100.3466,-536.8149 1096.5125,-546.6917 1103.5085,-546.9269\"/>\n</g>\n<!-- 9 -->\n<g id=\"node10\" class=\"node\">\n<title>9</title>\n<polygon fill=\"none\" stroke=\"#000000\" points=\"619,-417.5 326,-417.5 326,-349.5 619,-349.5 619,-417.5\"/>\n<text text-anchor=\"middle\" x=\"472.5\" y=\"-402.3\" font-family=\"Helvetica,sans-Serif\" font-size=\"14.00\" fill=\"#000000\">gini = 0.0</text>\n<text text-anchor=\"middle\" x=\"472.5\" y=\"-387.3\" font-family=\"Helvetica,sans-Serif\" font-size=\"14.00\" fill=\"#000000\">samples = 44</text>\n<text text-anchor=\"middle\" x=\"472.5\" y=\"-372.3\" font-family=\"Helvetica,sans-Serif\" font-size=\"14.00\" fill=\"#000000\">value = [0, 0, 0, 0, 0, 0, 0, 0, 0, 44, 0, 0, 0, 0</text>\n<text text-anchor=\"middle\" x=\"472.5\" y=\"-357.3\" font-family=\"Helvetica,sans-Serif\" font-size=\"14.00\" fill=\"#000000\">0, 0]</text>\n</g>\n<!-- 8&#45;&gt;9 -->\n<g id=\"edge9\" class=\"edge\">\n<title>8&#45;&gt;9</title>\n<path fill=\"none\" stroke=\"#000000\" d=\"M674.077,-460.8796C640.5464,-448.0081 603.8099,-433.9061 570.9898,-421.3074\"/>\n<polygon fill=\"#000000\" stroke=\"#000000\" points=\"571.9821,-417.9393 561.3919,-417.623 569.4734,-424.4744 571.9821,-417.9393\"/>\n</g>\n<!-- 10 -->\n<g id=\"node11\" class=\"node\">\n<title>10</title>\n<polygon fill=\"none\" stroke=\"#000000\" points=\"938,-425 637,-425 637,-342 938,-342 938,-425\"/>\n<text text-anchor=\"middle\" x=\"787.5\" y=\"-409.8\" font-family=\"Helvetica,sans-Serif\" font-size=\"14.00\" fill=\"#000000\">X[1] &lt;= 7.25</text>\n<text text-anchor=\"middle\" x=\"787.5\" y=\"-394.8\" font-family=\"Helvetica,sans-Serif\" font-size=\"14.00\" fill=\"#000000\">gini = 0.5</text>\n<text text-anchor=\"middle\" x=\"787.5\" y=\"-379.8\" font-family=\"Helvetica,sans-Serif\" font-size=\"14.00\" fill=\"#000000\">samples = 81</text>\n<text text-anchor=\"middle\" x=\"787.5\" y=\"-364.8\" font-family=\"Helvetica,sans-Serif\" font-size=\"14.00\" fill=\"#000000\">value = [0, 0, 0, 0, 0, 0, 0, 0, 0, 0, 41, 40, 0, 0</text>\n<text text-anchor=\"middle\" x=\"787.5\" y=\"-349.8\" font-family=\"Helvetica,sans-Serif\" font-size=\"14.00\" fill=\"#000000\">0, 0]</text>\n</g>\n<!-- 8&#45;&gt;10 -->\n<g id=\"edge10\" class=\"edge\">\n<title>8&#45;&gt;10</title>\n<path fill=\"none\" stroke=\"#000000\" d=\"M784.2488,-460.8796C784.5931,-452.6838 784.9584,-443.9891 785.3151,-435.5013\"/>\n<polygon fill=\"#000000\" stroke=\"#000000\" points=\"788.8208,-435.4362 785.7438,-425.2981 781.827,-435.1423 788.8208,-435.4362\"/>\n</g>\n<!-- 11 -->\n<g id=\"node12\" class=\"node\">\n<title>11</title>\n<polygon fill=\"none\" stroke=\"#000000\" points=\"627,-298.5 334,-298.5 334,-230.5 627,-230.5 627,-298.5\"/>\n<text text-anchor=\"middle\" x=\"480.5\" y=\"-283.3\" font-family=\"Helvetica,sans-Serif\" font-size=\"14.00\" fill=\"#000000\">gini = 0.0</text>\n<text text-anchor=\"middle\" x=\"480.5\" y=\"-268.3\" font-family=\"Helvetica,sans-Serif\" font-size=\"14.00\" fill=\"#000000\">samples = 41</text>\n<text text-anchor=\"middle\" x=\"480.5\" y=\"-253.3\" font-family=\"Helvetica,sans-Serif\" font-size=\"14.00\" fill=\"#000000\">value = [0, 0, 0, 0, 0, 0, 0, 0, 0, 0, 41, 0, 0, 0</text>\n<text text-anchor=\"middle\" x=\"480.5\" y=\"-238.3\" font-family=\"Helvetica,sans-Serif\" font-size=\"14.00\" fill=\"#000000\">0, 0]</text>\n</g>\n<!-- 10&#45;&gt;11 -->\n<g id=\"edge11\" class=\"edge\">\n<title>10&#45;&gt;11</title>\n<path fill=\"none\" stroke=\"#000000\" d=\"M680.1263,-341.8796C646.9201,-329.0081 610.5392,-314.9061 578.0367,-302.3074\"/>\n<polygon fill=\"#000000\" stroke=\"#000000\" points=\"579.1207,-298.9739 568.5317,-298.623 576.5907,-305.5007 579.1207,-298.9739\"/>\n</g>\n<!-- 12 -->\n<g id=\"node13\" class=\"node\">\n<title>12</title>\n<polygon fill=\"none\" stroke=\"#000000\" points=\"938,-298.5 645,-298.5 645,-230.5 938,-230.5 938,-298.5\"/>\n<text text-anchor=\"middle\" x=\"791.5\" y=\"-283.3\" font-family=\"Helvetica,sans-Serif\" font-size=\"14.00\" fill=\"#000000\">gini = 0.0</text>\n<text text-anchor=\"middle\" x=\"791.5\" y=\"-268.3\" font-family=\"Helvetica,sans-Serif\" font-size=\"14.00\" fill=\"#000000\">samples = 40</text>\n<text text-anchor=\"middle\" x=\"791.5\" y=\"-253.3\" font-family=\"Helvetica,sans-Serif\" font-size=\"14.00\" fill=\"#000000\">value = [0, 0, 0, 0, 0, 0, 0, 0, 0, 0, 0, 40, 0, 0</text>\n<text text-anchor=\"middle\" x=\"791.5\" y=\"-238.3\" font-family=\"Helvetica,sans-Serif\" font-size=\"14.00\" fill=\"#000000\">0, 0]</text>\n</g>\n<!-- 10&#45;&gt;12 -->\n<g id=\"edge12\" class=\"edge\">\n<title>10&#45;&gt;12</title>\n<path fill=\"none\" stroke=\"#000000\" d=\"M788.899,-341.8796C789.2575,-331.2134 789.6445,-319.7021 790.0075,-308.9015\"/>\n<polygon fill=\"#000000\" stroke=\"#000000\" points=\"793.5085,-308.9269 790.3466,-298.8149 786.5125,-308.6917 793.5085,-308.9269\"/>\n</g>\n<!-- 15 -->\n<g id=\"node16\" class=\"node\">\n<title>15</title>\n<polygon fill=\"none\" stroke=\"#000000\" points=\"1585,-544 1276,-544 1276,-461 1585,-461 1585,-544\"/>\n<text text-anchor=\"middle\" x=\"1430.5\" y=\"-528.8\" font-family=\"Helvetica,sans-Serif\" font-size=\"14.00\" fill=\"#000000\">X[1] &lt;= 17.5</text>\n<text text-anchor=\"middle\" x=\"1430.5\" y=\"-513.8\" font-family=\"Helvetica,sans-Serif\" font-size=\"14.00\" fill=\"#000000\">gini = 0.749</text>\n<text text-anchor=\"middle\" x=\"1430.5\" y=\"-498.8\" font-family=\"Helvetica,sans-Serif\" font-size=\"14.00\" fill=\"#000000\">samples = 166</text>\n<text text-anchor=\"middle\" x=\"1430.5\" y=\"-483.8\" font-family=\"Helvetica,sans-Serif\" font-size=\"14.00\" fill=\"#000000\">value = [0, 40, 46, 0, 0, 0, 0, 0, 0, 0, 0, 0, 0, 39</text>\n<text text-anchor=\"middle\" x=\"1430.5\" y=\"-468.8\" font-family=\"Helvetica,sans-Serif\" font-size=\"14.00\" fill=\"#000000\">41, 0]</text>\n</g>\n<!-- 14&#45;&gt;15 -->\n<g id=\"edge15\" class=\"edge\">\n<title>14&#45;&gt;15</title>\n<path fill=\"none\" stroke=\"#000000\" d=\"M1432.4507,-579.8796C1432.2441,-571.6838 1432.0249,-562.9891 1431.811,-554.5013\"/>\n<polygon fill=\"#000000\" stroke=\"#000000\" points=\"1435.3047,-554.2067 1431.5537,-544.2981 1428.307,-554.3831 1435.3047,-554.2067\"/>\n</g>\n<!-- 22 -->\n<g id=\"node23\" class=\"node\">\n<title>22</title>\n<polygon fill=\"none\" stroke=\"#000000\" points=\"1920,-544 1603,-544 1603,-461 1920,-461 1920,-544\"/>\n<text text-anchor=\"middle\" x=\"1761.5\" y=\"-528.8\" font-family=\"Helvetica,sans-Serif\" font-size=\"14.00\" fill=\"#000000\">X[0] &lt;= 21.25</text>\n<text text-anchor=\"middle\" x=\"1761.5\" y=\"-513.8\" font-family=\"Helvetica,sans-Serif\" font-size=\"14.00\" fill=\"#000000\">gini = 0.77</text>\n<text text-anchor=\"middle\" x=\"1761.5\" y=\"-498.8\" font-family=\"Helvetica,sans-Serif\" font-size=\"14.00\" fill=\"#000000\">samples = 184</text>\n<text text-anchor=\"middle\" x=\"1761.5\" y=\"-483.8\" font-family=\"Helvetica,sans-Serif\" font-size=\"14.00\" fill=\"#000000\">value = [0, 0, 0, 45, 52, 43, 33, 0, 0, 0, 0, 0, 0, 0</text>\n<text text-anchor=\"middle\" x=\"1761.5\" y=\"-468.8\" font-family=\"Helvetica,sans-Serif\" font-size=\"14.00\" fill=\"#000000\">0, 11]</text>\n</g>\n<!-- 14&#45;&gt;22 -->\n<g id=\"edge22\" class=\"edge\">\n<title>14&#45;&gt;22</title>\n<path fill=\"none\" stroke=\"#000000\" d=\"M1548.2185,-579.8796C1577.0571,-569.4168 1608.1369,-558.1409 1637.4105,-547.5203\"/>\n<polygon fill=\"#000000\" stroke=\"#000000\" points=\"1638.6396,-550.7977 1646.8463,-544.0969 1636.2521,-544.2174 1638.6396,-550.7977\"/>\n</g>\n<!-- 16 -->\n<g id=\"node17\" class=\"node\">\n<title>16</title>\n<polygon fill=\"none\" stroke=\"#000000\" points=\"1271,-425 970,-425 970,-342 1271,-342 1271,-425\"/>\n<text text-anchor=\"middle\" x=\"1120.5\" y=\"-409.8\" font-family=\"Helvetica,sans-Serif\" font-size=\"14.00\" fill=\"#000000\">X[1] &lt;= 14.75</text>\n<text text-anchor=\"middle\" x=\"1120.5\" y=\"-394.8\" font-family=\"Helvetica,sans-Serif\" font-size=\"14.00\" fill=\"#000000\">gini = 0.667</text>\n<text text-anchor=\"middle\" x=\"1120.5\" y=\"-379.8\" font-family=\"Helvetica,sans-Serif\" font-size=\"14.00\" fill=\"#000000\">samples = 120</text>\n<text text-anchor=\"middle\" x=\"1120.5\" y=\"-364.8\" font-family=\"Helvetica,sans-Serif\" font-size=\"14.00\" fill=\"#000000\">value = [0, 40, 0, 0, 0, 0, 0, 0, 0, 0, 0, 0, 0, 39</text>\n<text text-anchor=\"middle\" x=\"1120.5\" y=\"-349.8\" font-family=\"Helvetica,sans-Serif\" font-size=\"14.00\" fill=\"#000000\">41, 0]</text>\n</g>\n<!-- 15&#45;&gt;16 -->\n<g id=\"edge16\" class=\"edge\">\n<title>15&#45;&gt;16</title>\n<path fill=\"none\" stroke=\"#000000\" d=\"M1322.077,-460.8796C1295.0571,-450.5074 1265.9553,-439.3361 1238.4987,-428.7963\"/>\n<polygon fill=\"#000000\" stroke=\"#000000\" points=\"1239.4519,-425.4132 1228.8617,-425.0969 1236.9432,-431.9482 1239.4519,-425.4132\"/>\n</g>\n<!-- 21 -->\n<g id=\"node22\" class=\"node\">\n<title>21</title>\n<polygon fill=\"none\" stroke=\"#000000\" points=\"1582,-417.5 1289,-417.5 1289,-349.5 1582,-349.5 1582,-417.5\"/>\n<text text-anchor=\"middle\" x=\"1435.5\" y=\"-402.3\" font-family=\"Helvetica,sans-Serif\" font-size=\"14.00\" fill=\"#000000\">gini = 0.0</text>\n<text text-anchor=\"middle\" x=\"1435.5\" y=\"-387.3\" font-family=\"Helvetica,sans-Serif\" font-size=\"14.00\" fill=\"#000000\">samples = 46</text>\n<text text-anchor=\"middle\" x=\"1435.5\" y=\"-372.3\" font-family=\"Helvetica,sans-Serif\" font-size=\"14.00\" fill=\"#000000\">value = [0, 0, 46, 0, 0, 0, 0, 0, 0, 0, 0, 0, 0, 0</text>\n<text text-anchor=\"middle\" x=\"1435.5\" y=\"-357.3\" font-family=\"Helvetica,sans-Serif\" font-size=\"14.00\" fill=\"#000000\">0, 0]</text>\n</g>\n<!-- 15&#45;&gt;21 -->\n<g id=\"edge21\" class=\"edge\">\n<title>15&#45;&gt;21</title>\n<path fill=\"none\" stroke=\"#000000\" d=\"M1432.2488,-460.8796C1432.6969,-450.2134 1433.1806,-438.7021 1433.6344,-427.9015\"/>\n<polygon fill=\"#000000\" stroke=\"#000000\" points=\"1437.1352,-427.9531 1434.0582,-417.8149 1430.1414,-427.6592 1437.1352,-427.9531\"/>\n</g>\n<!-- 17 -->\n<g id=\"node18\" class=\"node\">\n<title>17</title>\n<polygon fill=\"none\" stroke=\"#000000\" points=\"1263,-306 970,-306 970,-223 1263,-223 1263,-306\"/>\n<text text-anchor=\"middle\" x=\"1116.5\" y=\"-290.8\" font-family=\"Helvetica,sans-Serif\" font-size=\"14.00\" fill=\"#000000\">X[0] &lt;= 13.25</text>\n<text text-anchor=\"middle\" x=\"1116.5\" y=\"-275.8\" font-family=\"Helvetica,sans-Serif\" font-size=\"14.00\" fill=\"#000000\">gini = 0.5</text>\n<text text-anchor=\"middle\" x=\"1116.5\" y=\"-260.8\" font-family=\"Helvetica,sans-Serif\" font-size=\"14.00\" fill=\"#000000\">samples = 80</text>\n<text text-anchor=\"middle\" x=\"1116.5\" y=\"-245.8\" font-family=\"Helvetica,sans-Serif\" font-size=\"14.00\" fill=\"#000000\">value = [0, 0, 0, 0, 0, 0, 0, 0, 0, 0, 0, 0, 0, 39</text>\n<text text-anchor=\"middle\" x=\"1116.5\" y=\"-230.8\" font-family=\"Helvetica,sans-Serif\" font-size=\"14.00\" fill=\"#000000\">41, 0]</text>\n</g>\n<!-- 16&#45;&gt;17 -->\n<g id=\"edge17\" class=\"edge\">\n<title>16&#45;&gt;17</title>\n<path fill=\"none\" stroke=\"#000000\" d=\"M1119.101,-341.8796C1118.8255,-333.6838 1118.5332,-324.9891 1118.2479,-316.5013\"/>\n<polygon fill=\"#000000\" stroke=\"#000000\" points=\"1121.739,-316.1748 1117.905,-306.2981 1114.743,-316.41 1121.739,-316.1748\"/>\n</g>\n<!-- 20 -->\n<g id=\"node21\" class=\"node\">\n<title>20</title>\n<polygon fill=\"none\" stroke=\"#000000\" points=\"1574,-298.5 1281,-298.5 1281,-230.5 1574,-230.5 1574,-298.5\"/>\n<text text-anchor=\"middle\" x=\"1427.5\" y=\"-283.3\" font-family=\"Helvetica,sans-Serif\" font-size=\"14.00\" fill=\"#000000\">gini = 0.0</text>\n<text text-anchor=\"middle\" x=\"1427.5\" y=\"-268.3\" font-family=\"Helvetica,sans-Serif\" font-size=\"14.00\" fill=\"#000000\">samples = 40</text>\n<text text-anchor=\"middle\" x=\"1427.5\" y=\"-253.3\" font-family=\"Helvetica,sans-Serif\" font-size=\"14.00\" fill=\"#000000\">value = [0, 40, 0, 0, 0, 0, 0, 0, 0, 0, 0, 0, 0, 0</text>\n<text text-anchor=\"middle\" x=\"1427.5\" y=\"-238.3\" font-family=\"Helvetica,sans-Serif\" font-size=\"14.00\" fill=\"#000000\">0, 0]</text>\n</g>\n<!-- 16&#45;&gt;20 -->\n<g id=\"edge20\" class=\"edge\">\n<title>16&#45;&gt;20</title>\n<path fill=\"none\" stroke=\"#000000\" d=\"M1227.8737,-341.8796C1261.0799,-329.0081 1297.4608,-314.9061 1329.9633,-302.3074\"/>\n<polygon fill=\"#000000\" stroke=\"#000000\" points=\"1331.4093,-305.5007 1339.4683,-298.623 1328.8793,-298.9739 1331.4093,-305.5007\"/>\n</g>\n<!-- 18 -->\n<g id=\"node19\" class=\"node\">\n<title>18</title>\n<polygon fill=\"none\" stroke=\"#000000\" points=\"1109,-179.5 816,-179.5 816,-111.5 1109,-111.5 1109,-179.5\"/>\n<text text-anchor=\"middle\" x=\"962.5\" y=\"-164.3\" font-family=\"Helvetica,sans-Serif\" font-size=\"14.00\" fill=\"#000000\">gini = 0.0</text>\n<text text-anchor=\"middle\" x=\"962.5\" y=\"-149.3\" font-family=\"Helvetica,sans-Serif\" font-size=\"14.00\" fill=\"#000000\">samples = 39</text>\n<text text-anchor=\"middle\" x=\"962.5\" y=\"-134.3\" font-family=\"Helvetica,sans-Serif\" font-size=\"14.00\" fill=\"#000000\">value = [0, 0, 0, 0, 0, 0, 0, 0, 0, 0, 0, 0, 0, 39</text>\n<text text-anchor=\"middle\" x=\"962.5\" y=\"-119.3\" font-family=\"Helvetica,sans-Serif\" font-size=\"14.00\" fill=\"#000000\">0, 0]</text>\n</g>\n<!-- 17&#45;&gt;18 -->\n<g id=\"edge18\" class=\"edge\">\n<title>17&#45;&gt;18</title>\n<path fill=\"none\" stroke=\"#000000\" d=\"M1062.6383,-222.8796C1047.2696,-211.0038 1030.5453,-198.0804 1015.2441,-186.2568\"/>\n<polygon fill=\"#000000\" stroke=\"#000000\" points=\"1016.9605,-183.1599 1006.9076,-179.8149 1012.6804,-188.699 1016.9605,-183.1599\"/>\n</g>\n<!-- 19 -->\n<g id=\"node20\" class=\"node\">\n<title>19</title>\n<polygon fill=\"none\" stroke=\"#000000\" points=\"1411.5,-179.5 1127.5,-179.5 1127.5,-111.5 1411.5,-111.5 1411.5,-179.5\"/>\n<text text-anchor=\"middle\" x=\"1269.5\" y=\"-164.3\" font-family=\"Helvetica,sans-Serif\" font-size=\"14.00\" fill=\"#000000\">gini = 0.0</text>\n<text text-anchor=\"middle\" x=\"1269.5\" y=\"-149.3\" font-family=\"Helvetica,sans-Serif\" font-size=\"14.00\" fill=\"#000000\">samples = 41</text>\n<text text-anchor=\"middle\" x=\"1269.5\" y=\"-134.3\" font-family=\"Helvetica,sans-Serif\" font-size=\"14.00\" fill=\"#000000\">value = [0, 0, 0, 0, 0, 0, 0, 0, 0, 0, 0, 0, 0, 0</text>\n<text text-anchor=\"middle\" x=\"1269.5\" y=\"-119.3\" font-family=\"Helvetica,sans-Serif\" font-size=\"14.00\" fill=\"#000000\">41, 0]</text>\n</g>\n<!-- 17&#45;&gt;19 -->\n<g id=\"edge19\" class=\"edge\">\n<title>17&#45;&gt;19</title>\n<path fill=\"none\" stroke=\"#000000\" d=\"M1170.012,-222.8796C1185.2808,-211.0038 1201.8966,-198.0804 1217.0984,-186.2568\"/>\n<polygon fill=\"#000000\" stroke=\"#000000\" points=\"1219.6361,-188.7171 1225.3808,-179.8149 1215.3384,-183.1916 1219.6361,-188.7171\"/>\n</g>\n<!-- 23 -->\n<g id=\"node24\" class=\"node\">\n<title>23</title>\n<polygon fill=\"none\" stroke=\"#000000\" points=\"1903,-417.5 1610,-417.5 1610,-349.5 1903,-349.5 1903,-417.5\"/>\n<text text-anchor=\"middle\" x=\"1756.5\" y=\"-402.3\" font-family=\"Helvetica,sans-Serif\" font-size=\"14.00\" fill=\"#000000\">gini = 0.0</text>\n<text text-anchor=\"middle\" x=\"1756.5\" y=\"-387.3\" font-family=\"Helvetica,sans-Serif\" font-size=\"14.00\" fill=\"#000000\">samples = 45</text>\n<text text-anchor=\"middle\" x=\"1756.5\" y=\"-372.3\" font-family=\"Helvetica,sans-Serif\" font-size=\"14.00\" fill=\"#000000\">value = [0, 0, 0, 45, 0, 0, 0, 0, 0, 0, 0, 0, 0, 0</text>\n<text text-anchor=\"middle\" x=\"1756.5\" y=\"-357.3\" font-family=\"Helvetica,sans-Serif\" font-size=\"14.00\" fill=\"#000000\">0, 0]</text>\n</g>\n<!-- 22&#45;&gt;23 -->\n<g id=\"edge23\" class=\"edge\">\n<title>22&#45;&gt;23</title>\n<path fill=\"none\" stroke=\"#000000\" d=\"M1759.7512,-460.8796C1759.3031,-450.2134 1758.8194,-438.7021 1758.3656,-427.9015\"/>\n<polygon fill=\"#000000\" stroke=\"#000000\" points=\"1761.8586,-427.6592 1757.9418,-417.8149 1754.8648,-427.9531 1761.8586,-427.6592\"/>\n</g>\n<!-- 24 -->\n<g id=\"node25\" class=\"node\">\n<title>24</title>\n<polygon fill=\"none\" stroke=\"#000000\" points=\"2230,-425 1921,-425 1921,-342 2230,-342 2230,-425\"/>\n<text text-anchor=\"middle\" x=\"2075.5\" y=\"-409.8\" font-family=\"Helvetica,sans-Serif\" font-size=\"14.00\" fill=\"#000000\">X[0] &lt;= 23.0</text>\n<text text-anchor=\"middle\" x=\"2075.5\" y=\"-394.8\" font-family=\"Helvetica,sans-Serif\" font-size=\"14.00\" fill=\"#000000\">gini = 0.702</text>\n<text text-anchor=\"middle\" x=\"2075.5\" y=\"-379.8\" font-family=\"Helvetica,sans-Serif\" font-size=\"14.00\" fill=\"#000000\">samples = 139</text>\n<text text-anchor=\"middle\" x=\"2075.5\" y=\"-364.8\" font-family=\"Helvetica,sans-Serif\" font-size=\"14.00\" fill=\"#000000\">value = [0, 0, 0, 0, 52, 43, 33, 0, 0, 0, 0, 0, 0, 0</text>\n<text text-anchor=\"middle\" x=\"2075.5\" y=\"-349.8\" font-family=\"Helvetica,sans-Serif\" font-size=\"14.00\" fill=\"#000000\">0, 11]</text>\n</g>\n<!-- 22&#45;&gt;24 -->\n<g id=\"edge24\" class=\"edge\">\n<title>22&#45;&gt;24</title>\n<path fill=\"none\" stroke=\"#000000\" d=\"M1871.322,-460.8796C1898.8101,-450.4621 1928.4253,-439.2385 1956.3429,-428.6582\"/>\n<polygon fill=\"#000000\" stroke=\"#000000\" points=\"1957.6294,-431.9137 1965.74,-425.0969 1955.1487,-425.368 1957.6294,-431.9137\"/>\n</g>\n<!-- 25 -->\n<g id=\"node26\" class=\"node\">\n<title>25</title>\n<polygon fill=\"none\" stroke=\"#000000\" points=\"2064,-298.5 1771,-298.5 1771,-230.5 2064,-230.5 2064,-298.5\"/>\n<text text-anchor=\"middle\" x=\"1917.5\" y=\"-283.3\" font-family=\"Helvetica,sans-Serif\" font-size=\"14.00\" fill=\"#000000\">gini = 0.0</text>\n<text text-anchor=\"middle\" x=\"1917.5\" y=\"-268.3\" font-family=\"Helvetica,sans-Serif\" font-size=\"14.00\" fill=\"#000000\">samples = 52</text>\n<text text-anchor=\"middle\" x=\"1917.5\" y=\"-253.3\" font-family=\"Helvetica,sans-Serif\" font-size=\"14.00\" fill=\"#000000\">value = [0, 0, 0, 0, 52, 0, 0, 0, 0, 0, 0, 0, 0, 0</text>\n<text text-anchor=\"middle\" x=\"1917.5\" y=\"-238.3\" font-family=\"Helvetica,sans-Serif\" font-size=\"14.00\" fill=\"#000000\">0, 0]</text>\n</g>\n<!-- 24&#45;&gt;25 -->\n<g id=\"edge25\" class=\"edge\">\n<title>24&#45;&gt;25</title>\n<path fill=\"none\" stroke=\"#000000\" d=\"M2020.2393,-341.8796C2004.2497,-329.8368 1986.8297,-316.7167 1970.9526,-304.7586\"/>\n<polygon fill=\"#000000\" stroke=\"#000000\" points=\"1972.8998,-301.8435 1962.8062,-298.623 1968.6884,-307.435 1972.8998,-301.8435\"/>\n</g>\n<!-- 26 -->\n<g id=\"node27\" class=\"node\">\n<title>26</title>\n<polygon fill=\"none\" stroke=\"#000000\" points=\"2383,-306 2082,-306 2082,-223 2383,-223 2383,-306\"/>\n<text text-anchor=\"middle\" x=\"2232.5\" y=\"-290.8\" font-family=\"Helvetica,sans-Serif\" font-size=\"14.00\" fill=\"#000000\">X[0] &lt;= 23.75</text>\n<text text-anchor=\"middle\" x=\"2232.5\" y=\"-275.8\" font-family=\"Helvetica,sans-Serif\" font-size=\"14.00\" fill=\"#000000\">gini = 0.596</text>\n<text text-anchor=\"middle\" x=\"2232.5\" y=\"-260.8\" font-family=\"Helvetica,sans-Serif\" font-size=\"14.00\" fill=\"#000000\">samples = 87</text>\n<text text-anchor=\"middle\" x=\"2232.5\" y=\"-245.8\" font-family=\"Helvetica,sans-Serif\" font-size=\"14.00\" fill=\"#000000\">value = [0, 0, 0, 0, 0, 43, 33, 0, 0, 0, 0, 0, 0, 0</text>\n<text text-anchor=\"middle\" x=\"2232.5\" y=\"-230.8\" font-family=\"Helvetica,sans-Serif\" font-size=\"14.00\" fill=\"#000000\">0, 11]</text>\n</g>\n<!-- 24&#45;&gt;26 -->\n<g id=\"edge26\" class=\"edge\">\n<title>24&#45;&gt;26</title>\n<path fill=\"none\" stroke=\"#000000\" d=\"M2130.411,-341.8796C2143.0794,-332.2774 2156.6515,-321.9903 2169.6295,-312.1534\"/>\n<polygon fill=\"#000000\" stroke=\"#000000\" points=\"2171.7648,-314.9268 2177.62,-306.0969 2167.5364,-309.3482 2171.7648,-314.9268\"/>\n</g>\n<!-- 27 -->\n<g id=\"node28\" class=\"node\">\n<title>27</title>\n<polygon fill=\"none\" stroke=\"#000000\" points=\"2223,-179.5 1930,-179.5 1930,-111.5 2223,-111.5 2223,-179.5\"/>\n<text text-anchor=\"middle\" x=\"2076.5\" y=\"-164.3\" font-family=\"Helvetica,sans-Serif\" font-size=\"14.00\" fill=\"#000000\">gini = 0.0</text>\n<text text-anchor=\"middle\" x=\"2076.5\" y=\"-149.3\" font-family=\"Helvetica,sans-Serif\" font-size=\"14.00\" fill=\"#000000\">samples = 43</text>\n<text text-anchor=\"middle\" x=\"2076.5\" y=\"-134.3\" font-family=\"Helvetica,sans-Serif\" font-size=\"14.00\" fill=\"#000000\">value = [0, 0, 0, 0, 0, 43, 0, 0, 0, 0, 0, 0, 0, 0</text>\n<text text-anchor=\"middle\" x=\"2076.5\" y=\"-119.3\" font-family=\"Helvetica,sans-Serif\" font-size=\"14.00\" fill=\"#000000\">0, 0]</text>\n</g>\n<!-- 26&#45;&gt;27 -->\n<g id=\"edge27\" class=\"edge\">\n<title>26&#45;&gt;27</title>\n<path fill=\"none\" stroke=\"#000000\" d=\"M2177.9388,-222.8796C2162.1516,-210.8368 2144.9521,-197.7167 2129.2759,-185.7586\"/>\n<polygon fill=\"#000000\" stroke=\"#000000\" points=\"2131.3063,-182.9053 2121.2327,-179.623 2127.0608,-188.4709 2131.3063,-182.9053\"/>\n</g>\n<!-- 28 -->\n<g id=\"node29\" class=\"node\">\n<title>28</title>\n<polygon fill=\"none\" stroke=\"#000000\" points=\"2534,-187 2241,-187 2241,-104 2534,-104 2534,-187\"/>\n<text text-anchor=\"middle\" x=\"2387.5\" y=\"-171.8\" font-family=\"Helvetica,sans-Serif\" font-size=\"14.00\" fill=\"#000000\">X[1] &lt;= 27.75</text>\n<text text-anchor=\"middle\" x=\"2387.5\" y=\"-156.8\" font-family=\"Helvetica,sans-Serif\" font-size=\"14.00\" fill=\"#000000\">gini = 0.375</text>\n<text text-anchor=\"middle\" x=\"2387.5\" y=\"-141.8\" font-family=\"Helvetica,sans-Serif\" font-size=\"14.00\" fill=\"#000000\">samples = 44</text>\n<text text-anchor=\"middle\" x=\"2387.5\" y=\"-126.8\" font-family=\"Helvetica,sans-Serif\" font-size=\"14.00\" fill=\"#000000\">value = [0, 0, 0, 0, 0, 0, 33, 0, 0, 0, 0, 0, 0, 0</text>\n<text text-anchor=\"middle\" x=\"2387.5\" y=\"-111.8\" font-family=\"Helvetica,sans-Serif\" font-size=\"14.00\" fill=\"#000000\">0, 11]</text>\n</g>\n<!-- 26&#45;&gt;28 -->\n<g id=\"edge28\" class=\"edge\">\n<title>26&#45;&gt;28</title>\n<path fill=\"none\" stroke=\"#000000\" d=\"M2286.7115,-222.8796C2299.1006,-213.368 2312.3649,-203.1843 2325.0676,-193.432\"/>\n<polygon fill=\"#000000\" stroke=\"#000000\" points=\"2327.5186,-195.9628 2333.3191,-187.0969 2323.2558,-190.4105 2327.5186,-195.9628\"/>\n</g>\n<!-- 29 -->\n<g id=\"node30\" class=\"node\">\n<title>29</title>\n<polygon fill=\"none\" stroke=\"#000000\" points=\"2380,-68 2087,-68 2087,0 2380,0 2380,-68\"/>\n<text text-anchor=\"middle\" x=\"2233.5\" y=\"-52.8\" font-family=\"Helvetica,sans-Serif\" font-size=\"14.00\" fill=\"#000000\">gini = 0.0</text>\n<text text-anchor=\"middle\" x=\"2233.5\" y=\"-37.8\" font-family=\"Helvetica,sans-Serif\" font-size=\"14.00\" fill=\"#000000\">samples = 33</text>\n<text text-anchor=\"middle\" x=\"2233.5\" y=\"-22.8\" font-family=\"Helvetica,sans-Serif\" font-size=\"14.00\" fill=\"#000000\">value = [0, 0, 0, 0, 0, 0, 33, 0, 0, 0, 0, 0, 0, 0</text>\n<text text-anchor=\"middle\" x=\"2233.5\" y=\"-7.8\" font-family=\"Helvetica,sans-Serif\" font-size=\"14.00\" fill=\"#000000\">0, 0]</text>\n</g>\n<!-- 28&#45;&gt;29 -->\n<g id=\"edge29\" class=\"edge\">\n<title>28&#45;&gt;29</title>\n<path fill=\"none\" stroke=\"#000000\" d=\"M2330.1561,-103.9815C2316.7006,-94.2394 2302.3869,-83.8759 2289.0133,-74.193\"/>\n<polygon fill=\"#000000\" stroke=\"#000000\" points=\"2290.9763,-71.2933 2280.8238,-68.2637 2286.8711,-76.9632 2290.9763,-71.2933\"/>\n</g>\n<!-- 30 -->\n<g id=\"node31\" class=\"node\">\n<title>30</title>\n<polygon fill=\"none\" stroke=\"#000000\" points=\"2682.5,-68 2398.5,-68 2398.5,0 2682.5,0 2682.5,-68\"/>\n<text text-anchor=\"middle\" x=\"2540.5\" y=\"-52.8\" font-family=\"Helvetica,sans-Serif\" font-size=\"14.00\" fill=\"#000000\">gini = 0.0</text>\n<text text-anchor=\"middle\" x=\"2540.5\" y=\"-37.8\" font-family=\"Helvetica,sans-Serif\" font-size=\"14.00\" fill=\"#000000\">samples = 11</text>\n<text text-anchor=\"middle\" x=\"2540.5\" y=\"-22.8\" font-family=\"Helvetica,sans-Serif\" font-size=\"14.00\" fill=\"#000000\">value = [0, 0, 0, 0, 0, 0, 0, 0, 0, 0, 0, 0, 0, 0</text>\n<text text-anchor=\"middle\" x=\"2540.5\" y=\"-7.8\" font-family=\"Helvetica,sans-Serif\" font-size=\"14.00\" fill=\"#000000\">0, 11]</text>\n</g>\n<!-- 28&#45;&gt;30 -->\n<g id=\"edge30\" class=\"edge\">\n<title>28&#45;&gt;30</title>\n<path fill=\"none\" stroke=\"#000000\" d=\"M2444.4716,-103.9815C2457.8396,-94.2394 2472.0604,-83.8759 2485.3472,-74.193\"/>\n<polygon fill=\"#000000\" stroke=\"#000000\" points=\"2487.4632,-76.9819 2493.4835,-68.2637 2483.3405,-71.3247 2487.4632,-76.9819\"/>\n</g>\n</g>\n</svg>\n"
          },
          "metadata": {},
          "execution_count": 19
        }
      ]
    },
    {
      "cell_type": "code",
      "source": [
        "#Checking the performance of model on Actual Test data...\n",
        "\n",
        "YT_Fhat = kangkung_Fclf.predict(Xtest)\n",
        "YT_Fhat\n",
        "\n",
        "print('Model Accuracy Score on totally unseen data(Xtest) is:',accuracy_score(Ytest, YT_Fhat)*100,'%')\n",
        "multilabel_confusion_matrix(Ytest , YT_Fhat)"
      ],
      "metadata": {
        "colab": {
          "base_uri": "https://localhost:8080/"
        },
        "id": "bcKtgb2z-yr7",
        "outputId": "10cc2961-5899-4b99-8b07-ae16fe259879"
      },
      "execution_count": 20,
      "outputs": [
        {
          "output_type": "stream",
          "name": "stdout",
          "text": [
            "Model Accuracy Score on totally unseen data(Xtest) is: 100.0 %\n"
          ]
        },
        {
          "output_type": "execute_result",
          "data": {
            "text/plain": [
              "array([[[270,   0],\n",
              "        [  0,  18]],\n",
              "\n",
              "       [[264,   0],\n",
              "        [  0,  24]],\n",
              "\n",
              "       [[270,   0],\n",
              "        [  0,  18]],\n",
              "\n",
              "       [[269,   0],\n",
              "        [  0,  19]],\n",
              "\n",
              "       [[276,   0],\n",
              "        [  0,  12]],\n",
              "\n",
              "       [[267,   0],\n",
              "        [  0,  21]],\n",
              "\n",
              "       [[273,   0],\n",
              "        [  0,  15]],\n",
              "\n",
              "       [[267,   0],\n",
              "        [  0,  21]],\n",
              "\n",
              "       [[279,   0],\n",
              "        [  0,   9]],\n",
              "\n",
              "       [[268,   0],\n",
              "        [  0,  20]],\n",
              "\n",
              "       [[265,   0],\n",
              "        [  0,  23]],\n",
              "\n",
              "       [[264,   0],\n",
              "        [  0,  24]],\n",
              "\n",
              "       [[277,   0],\n",
              "        [  0,  11]],\n",
              "\n",
              "       [[263,   0],\n",
              "        [  0,  25]],\n",
              "\n",
              "       [[265,   0],\n",
              "        [  0,  23]],\n",
              "\n",
              "       [[283,   0],\n",
              "        [  0,   5]]])"
            ]
          },
          "metadata": {},
          "execution_count": 20
        }
      ]
    },
    {
      "cell_type": "code",
      "source": [
        "#Testing for New points except from Dataset\n",
        "\n",
        "Test_point = [[5.6,6.0],\n",
        "             [25.0,28.0]]\n",
        "\n",
        "print(kangkung_Fclf.predict(Test_point))  "
      ],
      "metadata": {
        "colab": {
          "base_uri": "https://localhost:8080/"
        },
        "id": "LoMLW_-U-9bO",
        "outputId": "7067776e-d942-4a48-d878-d3388a273238"
      },
      "execution_count": 22,
      "outputs": [
        {
          "output_type": "stream",
          "name": "stdout",
          "text": [
            "['ke-3' 'panen']\n"
          ]
        },
        {
          "output_type": "stream",
          "name": "stderr",
          "text": [
            "/usr/local/lib/python3.7/dist-packages/sklearn/base.py:451: UserWarning: X does not have valid feature names, but DecisionTreeClassifier was fitted with feature names\n",
            "  \"X does not have valid feature names, but\"\n"
          ]
        }
      ]
    }
  ]
}